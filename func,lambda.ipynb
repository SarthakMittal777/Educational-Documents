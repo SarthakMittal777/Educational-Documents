{
 "cells": [
  {
   "cell_type": "code",
   "execution_count": null,
   "metadata": {},
   "outputs": [],
   "source": [
    "#Write a name from user and print a greeting message using user defined function\n",
    "def greet(user_name):\n",
    "    a=\"good evening\"+\" \"+user_name\n",
    "    return a\n",
    "print(greet(\"sarthak\"))"
   ]
  },
  {
   "cell_type": "code",
   "execution_count": null,
   "metadata": {},
   "outputs": [],
   "source": [
    "#Write a function called circleinfo which takes the radius of circle as argument and\n",
    "#returns the area and circumference of the circle.\n",
    "def circle(radius):\n",
    "    area=3.14*radius*radius\n",
    "    circum=2*3.14*radius\n",
    "    return area,circum\n",
    "print(circle(10))"
   ]
  },
  {
   "cell_type": "code",
   "execution_count": null,
   "metadata": {},
   "outputs": [],
   "source": [
    "#Take a number from user and define a function to find its abesolute value.\n",
    "def absolute(y):\n",
    "    k=abs(y)\n",
    "    return k\n",
    "print(absolute(-20))"
   ]
  },
  {
   "cell_type": "code",
   "execution_count": null,
   "metadata": {},
   "outputs": [],
   "source": [
    "#Define a function to check whether x is even or odd \n",
    "def eveod(num):\n",
    "    if (num%2==0):\n",
    "        return \"even\"\n",
    "    else:\n",
    "        return \"odd\"\n",
    "print(eveod(78))"
   ]
  },
  {
   "cell_type": "code",
   "execution_count": null,
   "metadata": {},
   "outputs": [],
   "source": [
    "# Define a function to Test if two strings are same or not, and returns True/False. Case distinction is ignored.\n",
    "def stringt(st1,st2):\n",
    "    if (st1 == st2):\n",
    "        return True\n",
    "    else:\n",
    "        return False\n",
    "print(stringt(\"sam\",\"sam\"))\n",
    "\n",
    "    "
   ]
  },
  {
   "cell_type": "code",
   "execution_count": null,
   "metadata": {},
   "outputs": [],
   "source": [
    "# Define a function to covert the temperature from degree celsius to degrees Fahrenheit\n",
    "def convertor(degree):\n",
    "    f=degree*1.8+32\n",
    "    return f\n",
    "print(convertor(20))\n",
    "    "
   ]
  },
  {
   "cell_type": "code",
   "execution_count": null,
   "metadata": {},
   "outputs": [],
   "source": [
    "#Define a Python function to multiply all the numbers in a list. \n",
    "def multiply(list):\n",
    "    for i in list:\n",
    "        mul=1\n",
    "        mul=mul*i\n",
    "    return mul\n",
    "print(multiply([1,1,9]))\n",
    "        "
   ]
  },
  {
   "cell_type": "code",
   "execution_count": null,
   "metadata": {},
   "outputs": [],
   "source": [
    "#Define a Python function to check whether a number is perfect or not.\n",
    "#A perfect number is a positive integer that is equal to the sum of its proper positive divisors, that is, the sum of its positive divisors\n",
    "#Example : The first perfect number is 6, because 1, 2, and 3 are its proper positive divisors, and 1 + 2 + 3 = 6. Equivalently, the number 6 is equal to half the sum of all its positive divisors: ( 1 + 2 + 3 + 6 ) / 2 = 6. The next perfect number is 28 = 1 + 2 + 4 + 7 + 14. "
   ]
  },
  {
   "cell_type": "code",
   "execution_count": null,
   "metadata": {},
   "outputs": [],
   "source": [
    "#Write a function calculation() such that it can accept two variables and calculate the addition and subtraction of it. And also it must return both addition and subtraction in a single return call\n",
    "def multitask(k,l):\n",
    "    s=k+l\n",
    "    sb=k-l\n",
    "    return s,sb\n",
    "print(multitask(10,10))\n",
    "    "
   ]
  },
  {
   "cell_type": "code",
   "execution_count": null,
   "metadata": {},
   "outputs": [],
   "source": [
    "# Create a function showEmployee() in such a way that it should accept employee name, and it’s salary and display both, and if the salary is missing in function call it should show it as 9000\n",
    "name=\"\"\n",
    "salary=0\n",
    "def showEmployee(name,salary):\n",
    "    return name,salary\n",
    "def showEmployee(salary):\n",
    "    return 9000\n",
    "print(showEmployee(1010))"
   ]
  },
  {
   "cell_type": "code",
   "execution_count": null,
   "metadata": {},
   "outputs": [],
   "source": [
    "#Python Program to Make a Simple Calculator for performing the different arithmetical operations, such as addition, subtraction, multiplication, and division.\n",
    "#Choose the desired operation from the option of a, b, c, and d.\n",
    "#We can take two numbers, and if… elif… else, branching is used for executing the particular operation.\n",
    "st=\"\"\n",
    "def cal(a,b,st):\n",
    "    if(st==\"+\"):\n",
    "        return a + b\n",
    "    elif(st==\"-\"):\n",
    "        return a - b\n",
    "    elif(st==\"*\"):\n",
    "        return a * b\n",
    "    else:\n",
    "        return a / b\n",
    "print(cal(10,20,\"+\"))"
   ]
  },
  {
   "cell_type": "code",
   "execution_count": null,
   "metadata": {},
   "outputs": [],
   "source": [
    "#map and lambda function"
   ]
  },
  {
   "attachments": {},
   "cell_type": "markdown",
   "metadata": {},
   "source": [
    "#Write a Python program to square the elements of a list using the map() function\n",
    "a=[1,2,3,4,5]\n",
    "y=list(map(lambda z:z*z,a))\n",
    "print(y)"
   ]
  },
  {
   "attachments": {},
   "cell_type": "markdown",
   "metadata": {},
   "source": [
    "#Write a Python program to add three given lists[element wise] using Python map and lambda.\n",
    "list_sum=lambda a,b,c:a[1]+b[1]+c[1]+a[0]+b[0]+c[0] \n",
    "print(list_sum([1,2],[2,3],[3,4]))"
   ]
  },
  {
   "cell_type": "code",
   "execution_count": null,
   "metadata": {},
   "outputs": [],
   "source": [
    "#Write a Python program to create a list containing the power of said number in bases raised to the corresponding number in the index using Python map.\n",
    "import math as mp\n",
    "a=[1,2,3,4,5]\n",
    "c=int(input(\"enter the value\"))\n",
    "y=list(map(lambda z:mp.pow(z,c),a))\n",
    "print(y)"
   ]
  },
  {
   "cell_type": "code",
   "execution_count": null,
   "metadata": {},
   "outputs": [],
   "source": [
    "#Using map() function and len() function create a list that's consisted of lengths of each element in the first list.\n",
    "# a=[1,2,3,4,5,6,7,8,9,10]\n",
    "# b=[1,2,3,4,5]\n",
    "# y=len(a)\n",
    "# z=len(b)\n",
    "# k=[]\n",
    "# lengtho=list(map(lambda y:y,k))\n",
    "# print(lengtho)\n",
    "\n",
    "#Using map() function, first return a new list with absolute values of existing list.\n",
    "#Then for ans_1, find the total sum of the new list's elements.\n",
    "a=[1,2,-3]\n",
    "def ab(x):\n",
    "    return abs(x)\n",
    "    \n",
    "ds=list(map(ab,a))\n",
    "print(ds)\n",
    "\n",
    "def sumpy(k):\n",
    "    return k\n",
    "\n",
    "ps= list(map(sumpy,ds))\n",
    "print(ps)\n",
    "    \n"
   ]
  },
  {
   "cell_type": "code",
   "execution_count": null,
   "metadata": {},
   "outputs": [],
   "source": [
    "#Using map() function and lambda and count() function create a list which consists of the number of occurence of letter: a.[hint:lambda x: x.count(\"a\")]\n",
    "ui=lambda x: x.count(\"a\")\n",
    "print(ui([\"a\",\"a\",\"b\"]))\n"
   ]
  },
  {
   "cell_type": "code",
   "execution_count": null,
   "metadata": {},
   "outputs": [],
   "source": [
    "#Using map() function, first return a new list with absolute values of existing list.\n",
    "#Then for ans_1, find the total sum of the new list's elements.\n",
    "a=[1,2,-3]\n",
    "ds=list(map(abs(),a))\n",
    "print(ds)"
   ]
  },
  {
   "cell_type": "code",
   "execution_count": null,
   "metadata": {},
   "outputs": [],
   "source": [
    "#4)\tWrite a lambda function for adding 26 to its argument, also create a lambda function that multiplies argument x with argument y and print the result.\n",
    "sumi=lambda x:x+26\n",
    "multi=lambda x,y:x*y\n",
    "print(sumi(24))\n",
    "print(multi(2,2))\n"
   ]
  },
  {
   "attachments": {},
   "cell_type": "markdown",
   "metadata": {},
   "source": [
    "*filter functions in  python markdown*"
   ]
  },
  {
   "cell_type": "code",
   "execution_count": null,
   "metadata": {},
   "outputs": [],
   "source": [
    "#Using filter() function filter the list so that only negative numbers are left.\n",
    "a=[1,2,-4,-8,-9]\n",
    "filter_fi=list(filter(lambda x: x<0,a))\n",
    "print(filter_fi)\n"
   ]
  },
  {
   "cell_type": "code",
   "execution_count": null,
   "metadata": {},
   "outputs": [],
   "source": [
    "#Using filter() and list() functions and .lower() method filter all the vowels in a given string.\n",
    "\n",
    "str1=\"Winter Olympics in 2022 will take place in Beijing China\"\n",
    "str1=\"Winter Olympics in 2022 will take place in Beijing China\"\n",
    "def vowel(str1):\n",
    "    for i in str1:\n",
    "        if i==\"a\" or i==\"e\" or i==\"i\" or i==\"o\" or i==\"u\":\n",
    "            print(i)\n",
    "d=list(filter(vowel(str1),str1))\n",
    "\n"
   ]
  },
  {
   "cell_type": "code",
   "execution_count": null,
   "metadata": {},
   "outputs": [],
   "source": [
    "#Using map() and filter() functions add 2000 to the values below 8000.\n",
    "\n",
    "#lst1=[1000, 500, 600, 700, 5000, 90000, 17500]\n",
    "lst1=[1000, 500, 600, 700, 5000, 90000, 17500]\n",
    "d=list(filter(lambda x:x<8000,lst1))\n",
    "print(d)\n",
    "e=list(map(lambda y:y+2000,d))\n",
    "print(e)\n"
   ]
  },
  {
   "cell_type": "code",
   "execution_count": null,
   "metadata": {},
   "outputs": [],
   "source": [
    "#Generated a list of dictionaries containing ages and names.Then filtered the list using a lambda function that accesses the 'age' key and checks if the value is greater than or equal to 30\n",
    "#Generated a list of dictionaries containing ages and names.Then filtered the list using a lambda function that accesses the 'age' key and checks if the value is greater than or equal to 30\n",
    "sarthak=[\n",
    "    {\"names\":\"sarthak\",\"age\":30},\n",
    "    {\"names\":\"sam\",\"age\":20},\n",
    "    {\"names\":\"legends\",\"age\":31}\n",
    "]\n",
    "s=list(filter(lambda x:x[\"age\"]>=30,sarthak))\n",
    "print(s)"
   ]
  },
  {
   "cell_type": "code",
   "execution_count": null,
   "metadata": {},
   "outputs": [],
   "source": [
    "#Generated a list of dictionaries containing ages and names.Then filtered the list using a lambda function that accesses the 'age' key and checks if the value is greater than or equal to 30\n",
    "#A twitter database is given in which we have username and tweets.\n",
    "users = [ \n",
    "         {\"username\": 'seema', \"tweets\": [\"i love chocolate\", \"i am a student\"]},       \n",
    "{\"username\": 'arush', \"tweets\": []},\n",
    "{\"username\": 'kumal', \"tweets\": [\"India\", \"Python\"]},\n",
    "{\"username\": 'sam', \"tweets\": []},\n",
    "{\"username\": 'lokesh', \"tweets\": [\"i am good\"]},\n",
    "]\n",
    "# a=\"sam\"\n",
    "# print(a.upper())\n",
    "filtered=list(filter(lambda x:x[\"tweets\"]==[],users))\n",
    "print(filtered)\n",
    "\n",
    "sarthak=list(filter(lambda x:x[\"username\"].upper(),users))\n",
    "print(sarthak)\n",
    "#i) Filter out Users which don’t have any tweets/Inactive Users\n",
    "#ii)  Filter inactive users with just username in uppercase."
   ]
  },
  {
   "cell_type": "code",
   "execution_count": null,
   "metadata": {},
   "outputs": [],
   "source": []
  }
 ],
 "metadata": {
  "kernelspec": {
   "display_name": "Python 3",
   "language": "python",
   "name": "python3"
  },
  "language_info": {
   "name": "python",
   "version": "3.11.1"
  },
  "orig_nbformat": 4,
  "vscode": {
   "interpreter": {
    "hash": "885c4dc66f44133be1fb52203e8e99cbc069c984b4d16773daeef528bb648e87"
   }
  }
 },
 "nbformat": 4,
 "nbformat_minor": 2
}
