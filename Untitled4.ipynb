{
 "cells": [
  {
   "cell_type": "code",
   "execution_count": 31,
   "id": "6a4c436a",
   "metadata": {},
   "outputs": [],
   "source": [
    "import pandas as pd"
   ]
  },
  {
   "cell_type": "code",
   "execution_count": 32,
   "id": "2bdef38c",
   "metadata": {},
   "outputs": [],
   "source": [
    "import numpy as np"
   ]
  },
  {
   "cell_type": "code",
   "execution_count": 33,
   "id": "917b949b",
   "metadata": {},
   "outputs": [],
   "source": [
    "a=np.array([1,2,3,44,5])"
   ]
  },
  {
   "cell_type": "code",
   "execution_count": 44,
   "id": "a597b431",
   "metadata": {},
   "outputs": [],
   "source": [
    "k=np.array([[1,2,3],[4,5,6],[1,3,4]])"
   ]
  },
  {
   "cell_type": "markdown",
   "id": "8b7a9b11",
   "metadata": {},
   "source": [
    "This is heading|"
   ]
  },
  {
   "cell_type": "code",
   "execution_count": 45,
   "id": "956f4e47",
   "metadata": {},
   "outputs": [
    {
     "name": "stdout",
     "output_type": "stream",
     "text": [
      "[[1 2 3]\n",
      " [4 5 6]\n",
      " [1 3 4]]\n"
     ]
    }
   ],
   "source": [
    "print(k)"
   ]
  },
  {
   "cell_type": "code",
   "execution_count": 77,
   "id": "ee3df797",
   "metadata": {},
   "outputs": [
    {
     "name": "stdout",
     "output_type": "stream",
     "text": [
      "1\n",
      "4\n"
     ]
    }
   ],
   "source": [
    "print(k[0,0])\n",
    "print(k[2,2])"
   ]
  },
  {
   "cell_type": "code",
   "execution_count": 59,
   "id": "96fd7127",
   "metadata": {},
   "outputs": [],
   "source": [
    "g=np.zeros((3,3),dtype=int)"
   ]
  },
  {
   "cell_type": "code",
   "execution_count": 60,
   "id": "d0ce6f45",
   "metadata": {},
   "outputs": [
    {
     "data": {
      "text/plain": [
       "array([[0, 0, 0],\n",
       "       [0, 0, 0],\n",
       "       [0, 0, 0]])"
      ]
     },
     "execution_count": 60,
     "metadata": {},
     "output_type": "execute_result"
    }
   ],
   "source": [
    "g"
   ]
  },
  {
   "cell_type": "code",
   "execution_count": 61,
   "id": "1b98b6fa",
   "metadata": {},
   "outputs": [
    {
     "name": "stdout",
     "output_type": "stream",
     "text": [
      "class:  ndarray\n",
      "shape:  (3, 3)\n",
      "strides:  (12, 4)\n",
      "itemsize:  4\n",
      "aligned:  True\n",
      "contiguous:  True\n",
      "fortran:  False\n",
      "data pointer: 0x1cb1abd7840\n",
      "byteorder:  little\n",
      "byteswap:  False\n",
      "type: int32\n"
     ]
    }
   ],
   "source": [
    "np.info(g)"
   ]
  },
  {
   "cell_type": "code",
   "execution_count": 62,
   "id": "dde2789e",
   "metadata": {},
   "outputs": [],
   "source": [
    "g=np.ones((8,8),dtype=int)"
   ]
  },
  {
   "cell_type": "code",
   "execution_count": 63,
   "id": "ad426c94",
   "metadata": {},
   "outputs": [
    {
     "data": {
      "text/plain": [
       "array([[1, 1, 1, 1, 1, 1, 1, 1],\n",
       "       [1, 1, 1, 1, 1, 1, 1, 1],\n",
       "       [1, 1, 1, 1, 1, 1, 1, 1],\n",
       "       [1, 1, 1, 1, 1, 1, 1, 1],\n",
       "       [1, 1, 1, 1, 1, 1, 1, 1],\n",
       "       [1, 1, 1, 1, 1, 1, 1, 1],\n",
       "       [1, 1, 1, 1, 1, 1, 1, 1],\n",
       "       [1, 1, 1, 1, 1, 1, 1, 1]])"
      ]
     },
     "execution_count": 63,
     "metadata": {},
     "output_type": "execute_result"
    }
   ],
   "source": [
    "g"
   ]
  },
  {
   "cell_type": "code",
   "execution_count": 69,
   "id": "628e5b99",
   "metadata": {},
   "outputs": [],
   "source": [
    "g=np.identity(5,dtype=int)"
   ]
  },
  {
   "cell_type": "code",
   "execution_count": 70,
   "id": "19c09711",
   "metadata": {},
   "outputs": [
    {
     "data": {
      "text/plain": [
       "array([[1, 0, 0, 0, 0],\n",
       "       [0, 1, 0, 0, 0],\n",
       "       [0, 0, 1, 0, 0],\n",
       "       [0, 0, 0, 1, 0],\n",
       "       [0, 0, 0, 0, 1]])"
      ]
     },
     "execution_count": 70,
     "metadata": {},
     "output_type": "execute_result"
    }
   ],
   "source": [
    "g"
   ]
  },
  {
   "cell_type": "code",
   "execution_count": 78,
   "id": "0027b6e3",
   "metadata": {},
   "outputs": [],
   "source": [
    "g=np.zeros((2,2,2),dtype=int)"
   ]
  },
  {
   "cell_type": "code",
   "execution_count": 79,
   "id": "5f6730a1",
   "metadata": {},
   "outputs": [
    {
     "data": {
      "text/plain": [
       "array([[[0, 0],\n",
       "        [0, 0]],\n",
       "\n",
       "       [[0, 0],\n",
       "        [0, 0]]])"
      ]
     },
     "execution_count": 79,
     "metadata": {},
     "output_type": "execute_result"
    }
   ],
   "source": [
    "g"
   ]
  },
  {
   "cell_type": "code",
   "execution_count": 80,
   "id": "27124e6b",
   "metadata": {},
   "outputs": [],
   "source": [
    "g[0,1]=22"
   ]
  },
  {
   "cell_type": "code",
   "execution_count": 81,
   "id": "475d50f6",
   "metadata": {},
   "outputs": [
    {
     "data": {
      "text/plain": [
       "array([[[ 0,  0],\n",
       "        [22, 22]],\n",
       "\n",
       "       [[ 0,  0],\n",
       "        [ 0,  0]]])"
      ]
     },
     "execution_count": 81,
     "metadata": {},
     "output_type": "execute_result"
    }
   ],
   "source": [
    "g"
   ]
  },
  {
   "cell_type": "code",
   "execution_count": 82,
   "id": "ccc6d4e1",
   "metadata": {},
   "outputs": [
    {
     "data": {
      "text/plain": [
       "3"
      ]
     },
     "execution_count": 82,
     "metadata": {},
     "output_type": "execute_result"
    }
   ],
   "source": [
    "g.ndim"
   ]
  },
  {
   "cell_type": "code",
   "execution_count": 100,
   "id": "1e11ea8f",
   "metadata": {},
   "outputs": [],
   "source": [
    "l=np.arange(6)"
   ]
  },
  {
   "cell_type": "code",
   "execution_count": 101,
   "id": "f84ca1a6",
   "metadata": {},
   "outputs": [
    {
     "data": {
      "text/plain": [
       "1"
      ]
     },
     "execution_count": 101,
     "metadata": {},
     "output_type": "execute_result"
    }
   ],
   "source": [
    "l.ndim"
   ]
  },
  {
   "cell_type": "code",
   "execution_count": 112,
   "id": "71c07541",
   "metadata": {},
   "outputs": [
    {
     "name": "stdout",
     "output_type": "stream",
     "text": [
      "[[0 1 2]\n",
      " [3 4 5]]\n"
     ]
    }
   ],
   "source": [
    "j=l.reshape(2,3)\n",
    "print(j)"
   ]
  },
  {
   "cell_type": "code",
   "execution_count": 113,
   "id": "24d4d5e1",
   "metadata": {},
   "outputs": [
    {
     "data": {
      "text/plain": [
       "array([0, 1, 2, 3, 4, 5])"
      ]
     },
     "execution_count": 113,
     "metadata": {},
     "output_type": "execute_result"
    }
   ],
   "source": [
    "l.ravel()"
   ]
  },
  {
   "cell_type": "code",
   "execution_count": 114,
   "id": "561cbeaf",
   "metadata": {},
   "outputs": [
    {
     "data": {
      "text/plain": [
       "1"
      ]
     },
     "execution_count": 114,
     "metadata": {},
     "output_type": "execute_result"
    }
   ],
   "source": [
    "l.ndim"
   ]
  },
  {
   "cell_type": "code",
   "execution_count": 115,
   "id": "7f6e2875",
   "metadata": {},
   "outputs": [
    {
     "data": {
      "text/plain": [
       "array([0, 1, 2, 3, 4, 5])"
      ]
     },
     "execution_count": 115,
     "metadata": {},
     "output_type": "execute_result"
    }
   ],
   "source": [
    "l.T"
   ]
  },
  {
   "cell_type": "code",
   "execution_count": 111,
   "id": "ed1624d2",
   "metadata": {},
   "outputs": [
    {
     "data": {
      "text/plain": [
       "array([[0, 3],\n",
       "       [1, 4],\n",
       "       [2, 5]])"
      ]
     },
     "execution_count": 111,
     "metadata": {},
     "output_type": "execute_result"
    }
   ],
   "source": [
    "j.T"
   ]
  },
  {
   "cell_type": "code",
   "execution_count": 122,
   "id": "e8cb17af",
   "metadata": {},
   "outputs": [
    {
     "data": {
      "text/plain": [
       "array([[6, 6, 6],\n",
       "       [6, 6, 6],\n",
       "       [6, 6, 6]])"
      ]
     },
     "execution_count": 122,
     "metadata": {},
     "output_type": "execute_result"
    }
   ],
   "source": [
    "np.full((3,3),6)"
   ]
  },
  {
   "cell_type": "code",
   "execution_count": 126,
   "id": "f26b8d2d",
   "metadata": {},
   "outputs": [],
   "source": [
    "a=[1,2,4]\n",
    "b=[2,4,5]\n",
    "c=[4,2,2]\n",
    "yo=np.array([a,b,c])"
   ]
  },
  {
   "cell_type": "code",
   "execution_count": 127,
   "id": "aed92d25",
   "metadata": {},
   "outputs": [
    {
     "name": "stdout",
     "output_type": "stream",
     "text": [
      "[[1 2 4]\n",
      " [2 4 5]\n",
      " [4 2 2]]\n"
     ]
    }
   ],
   "source": [
    "print(yo)"
   ]
  },
  {
   "cell_type": "code",
   "execution_count": 129,
   "id": "1cbb0cd5",
   "metadata": {},
   "outputs": [
    {
     "data": {
      "text/plain": [
       "array([ 7,  8, 11])"
      ]
     },
     "execution_count": 129,
     "metadata": {},
     "output_type": "execute_result"
    }
   ],
   "source": [
    "yo.sum(axis=0)"
   ]
  },
  {
   "cell_type": "code",
   "execution_count": 130,
   "id": "0483ca46",
   "metadata": {},
   "outputs": [
    {
     "data": {
      "text/plain": [
       "array([ 7, 11,  8])"
      ]
     },
     "execution_count": 130,
     "metadata": {},
     "output_type": "execute_result"
    }
   ],
   "source": [
    "yo.sum(axis=1)"
   ]
  },
  {
   "cell_type": "code",
   "execution_count": 131,
   "id": "0ef913b3",
   "metadata": {},
   "outputs": [
    {
     "data": {
      "text/plain": [
       "<numpy.flatiter at 0x1cb1a9b2290>"
      ]
     },
     "execution_count": 131,
     "metadata": {},
     "output_type": "execute_result"
    }
   ],
   "source": [
    "yo.flat"
   ]
  },
  {
   "cell_type": "code",
   "execution_count": 132,
   "id": "02bfd274",
   "metadata": {},
   "outputs": [
    {
     "data": {
      "text/plain": [
       "36"
      ]
     },
     "execution_count": 132,
     "metadata": {},
     "output_type": "execute_result"
    }
   ],
   "source": [
    "yo.nbytes"
   ]
  },
  {
   "cell_type": "code",
   "execution_count": 133,
   "id": "445cff1e",
   "metadata": {},
   "outputs": [],
   "source": [
    "yo.sort()"
   ]
  },
  {
   "cell_type": "code",
   "execution_count": 134,
   "id": "f7a43346",
   "metadata": {},
   "outputs": [
    {
     "data": {
      "text/plain": [
       "array([[1, 2, 4],\n",
       "       [2, 4, 5],\n",
       "       [2, 2, 4]])"
      ]
     },
     "execution_count": 134,
     "metadata": {},
     "output_type": "execute_result"
    }
   ],
   "source": [
    "yo"
   ]
  },
  {
   "cell_type": "code",
   "execution_count": 135,
   "id": "b9f16e70",
   "metadata": {},
   "outputs": [
    {
     "data": {
      "text/plain": [
       "5"
      ]
     },
     "execution_count": 135,
     "metadata": {},
     "output_type": "execute_result"
    }
   ],
   "source": [
    "yo.argmax()"
   ]
  },
  {
   "cell_type": "code",
   "execution_count": 136,
   "id": "be3b03ed",
   "metadata": {},
   "outputs": [
    {
     "data": {
      "text/plain": [
       "0"
      ]
     },
     "execution_count": 136,
     "metadata": {},
     "output_type": "execute_result"
    }
   ],
   "source": [
    "yo.argmin()"
   ]
  },
  {
   "cell_type": "code",
   "execution_count": 137,
   "id": "c0f0cbc4",
   "metadata": {},
   "outputs": [
    {
     "ename": "IndexError",
     "evalue": "index 3 is out of bounds for axis 0 with size 3",
     "output_type": "error",
     "traceback": [
      "\u001b[1;31m---------------------------------------------------------------------------\u001b[0m",
      "\u001b[1;31mIndexError\u001b[0m                                Traceback (most recent call last)",
      "\u001b[1;32m~\\AppData\\Local\\Temp\\ipykernel_9164\\4012521102.py\u001b[0m in \u001b[0;36m<module>\u001b[1;34m\u001b[0m\n\u001b[1;32m----> 1\u001b[1;33m \u001b[0myo\u001b[0m\u001b[1;33m[\u001b[0m\u001b[1;36m3\u001b[0m\u001b[1;33m,\u001b[0m\u001b[1;36m3\u001b[0m\u001b[1;33m]\u001b[0m\u001b[1;33m\u001b[0m\u001b[1;33m\u001b[0m\u001b[0m\n\u001b[0m",
      "\u001b[1;31mIndexError\u001b[0m: index 3 is out of bounds for axis 0 with size 3"
     ]
    }
   ],
   "source": [
    "yo[3,3]"
   ]
  },
  {
   "cell_type": "code",
   "execution_count": 140,
   "id": "38b16860",
   "metadata": {},
   "outputs": [],
   "source": [
    "a=np.array([[3,2,1],[6,34,2],[45,32,12]])"
   ]
  },
  {
   "cell_type": "code",
   "execution_count": 141,
   "id": "22c9bfa8",
   "metadata": {},
   "outputs": [
    {
     "data": {
      "text/plain": [
       "array([[ 3,  2,  1],\n",
       "       [ 6, 34,  2],\n",
       "       [45, 32, 12]])"
      ]
     },
     "execution_count": 141,
     "metadata": {},
     "output_type": "execute_result"
    }
   ],
   "source": [
    "a"
   ]
  },
  {
   "cell_type": "code",
   "execution_count": 146,
   "id": "ccc33027",
   "metadata": {},
   "outputs": [],
   "source": [
    "a.sort()"
   ]
  },
  {
   "cell_type": "code",
   "execution_count": 147,
   "id": "1ef65381",
   "metadata": {},
   "outputs": [
    {
     "data": {
      "text/plain": [
       "array([[ 1,  2,  3],\n",
       "       [ 2,  6, 34],\n",
       "       [12, 32, 45]])"
      ]
     },
     "execution_count": 147,
     "metadata": {},
     "output_type": "execute_result"
    }
   ],
   "source": [
    "a"
   ]
  },
  {
   "cell_type": "code",
   "execution_count": 148,
   "id": "5e76fe6c",
   "metadata": {},
   "outputs": [
    {
     "data": {
      "text/plain": [
       "array([[0, 1, 2],\n",
       "       [0, 1, 2],\n",
       "       [0, 1, 2]], dtype=int64)"
      ]
     },
     "execution_count": 148,
     "metadata": {},
     "output_type": "execute_result"
    }
   ],
   "source": [
    "yo.argsort()"
   ]
  },
  {
   "cell_type": "code",
   "execution_count": 150,
   "id": "04cdaea8",
   "metadata": {},
   "outputs": [
    {
     "data": {
      "text/plain": [
       "array([[1, 2, 4],\n",
       "       [2, 4, 5],\n",
       "       [2, 2, 4]])"
      ]
     },
     "execution_count": 150,
     "metadata": {},
     "output_type": "execute_result"
    }
   ],
   "source": [
    "yo"
   ]
  },
  {
   "cell_type": "code",
   "execution_count": 152,
   "id": "9a3c045f",
   "metadata": {},
   "outputs": [
    {
     "data": {
      "text/plain": [
       "array([[1.        , 1.41421356, 2.        ],\n",
       "       [1.41421356, 2.        , 2.23606798],\n",
       "       [1.41421356, 1.41421356, 2.        ]])"
      ]
     },
     "execution_count": 152,
     "metadata": {},
     "output_type": "execute_result"
    }
   ],
   "source": [
    "np.sqrt(yo)"
   ]
  },
  {
   "cell_type": "code",
   "execution_count": 153,
   "id": "ce8a56d2",
   "metadata": {},
   "outputs": [
    {
     "data": {
      "text/plain": [
       "5"
      ]
     },
     "execution_count": 153,
     "metadata": {},
     "output_type": "execute_result"
    }
   ],
   "source": [
    "yo.max()"
   ]
  },
  {
   "cell_type": "code",
   "execution_count": 154,
   "id": "505221a3",
   "metadata": {},
   "outputs": [
    {
     "data": {
      "text/plain": [
       "array([[1, 2, 4],\n",
       "       [2, 4, 5],\n",
       "       [2, 2, 4]])"
      ]
     },
     "execution_count": 154,
     "metadata": {},
     "output_type": "execute_result"
    }
   ],
   "source": [
    "yo"
   ]
  },
  {
   "cell_type": "code",
   "execution_count": 156,
   "id": "5886e966",
   "metadata": {},
   "outputs": [
    {
     "data": {
      "text/plain": [
       "9"
      ]
     },
     "execution_count": 156,
     "metadata": {},
     "output_type": "execute_result"
    }
   ],
   "source": [
    "np.count_nonzero(yo)"
   ]
  },
  {
   "cell_type": "code",
   "execution_count": 157,
   "id": "2f176227",
   "metadata": {},
   "outputs": [
    {
     "data": {
      "text/plain": [
       "array([[2, 2, 4],\n",
       "       [2, 4, 5],\n",
       "       [1, 2, 4]])"
      ]
     },
     "execution_count": 157,
     "metadata": {},
     "output_type": "execute_result"
    }
   ],
   "source": [
    "yo[::-1]"
   ]
  },
  {
   "cell_type": "code",
   "execution_count": 171,
   "id": "40a01366",
   "metadata": {},
   "outputs": [
    {
     "data": {
      "text/plain": [
       "array([[1, 2, 4],\n",
       "       [2, 4, 5],\n",
       "       [2, 2, 4]])"
      ]
     },
     "execution_count": 171,
     "metadata": {},
     "output_type": "execute_result"
    }
   ],
   "source": [
    "yo[0:4]"
   ]
  },
  {
   "cell_type": "code",
   "execution_count": null,
   "id": "4c4cf580",
   "metadata": {},
   "outputs": [],
   "source": [
    "a=\"sartthak\""
   ]
  },
  {
   "cell_type": "code",
   "execution_count": null,
   "id": "54b42546",
   "metadata": {},
   "outputs": [],
   "source": []
  }
 ],
 "metadata": {
  "kernelspec": {
   "display_name": "Python 3 (ipykernel)",
   "language": "python",
   "name": "python3"
  },
  "language_info": {
   "codemirror_mode": {
    "name": "ipython",
    "version": 3
   },
   "file_extension": ".py",
   "mimetype": "text/x-python",
   "name": "python",
   "nbconvert_exporter": "python",
   "pygments_lexer": "ipython3",
   "version": "3.9.13"
  }
 },
 "nbformat": 4,
 "nbformat_minor": 5
}
