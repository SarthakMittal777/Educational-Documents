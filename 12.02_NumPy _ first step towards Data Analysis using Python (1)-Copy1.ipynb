{
 "cells": [
  {
   "cell_type": "markdown",
   "metadata": {},
   "source": [
    "# NumPy Data Types"
   ]
  },
  {
   "cell_type": "code",
   "execution_count": 2,
   "metadata": {},
   "outputs": [],
   "source": [
    "import numpy as np"
   ]
  },
  {
   "cell_type": "markdown",
   "metadata": {},
   "source": [
    "Data Types in Python\n",
    "\n",
    "By default Python have these data types:\n",
    "\n",
    "1. strings - used to represent text data, the text is given under quote marks. eg. \"ABCD\"\n",
    "\n",
    "2. integer - used to represent integer numbers. eg. -1, -2, -3\n",
    "\n",
    "3. float - used to represent real numbers. eg. 1.2, 42.42\n",
    "\n",
    "4. boolean - used to represent True or False.\n",
    "\n",
    "5. complex - used to represent a number in complex plain. eg. 1.0 + 2.0j, 1.5 + 2.5j\n",
    "\n",
    "\n",
    "\n",
    "Data Types in NumPy\n",
    "\n",
    "NumPy has some extra data types, and refer to data types with one character, like i for integers, u for unsigned integers etc.\n",
    "\n",
    "Below is a list of all data types in NumPy and the characters used to represent them.\n",
    "\n",
    "i - integer\n",
    "\n",
    "b - boolean\n",
    "\n",
    "u - unsigned integer[https://www.ibm.com/docs/en/i/7.4?topic=type-unsigned-format]\n",
    "\n",
    "f - float\n",
    "\n",
    "c - complex float\n",
    "\n",
    "m - timedelta[Timedelta in Python is an object that represents the duration. It is mainly used to calculate the duration between two dates and times] \n",
    "https://www.guru99.com/date-time-and-datetime-classes-in-python.html\n",
    "\n",
    "M - datetime\n",
    "\n",
    "O - object\n",
    "\n",
    "S - string\n",
    "\n",
    "U - unicode string[https://docs.python.org/3/howto/unicode.html]\n"
   ]
  },
  {
   "cell_type": "markdown",
   "metadata": {},
   "source": [
    "Checking the Data Type of an Array\n",
    "\n",
    "The NumPy array object has a property called dtype that returns the data type of the array:"
   ]
  },
  {
   "cell_type": "code",
   "execution_count": 5,
   "metadata": {},
   "outputs": [
    {
     "name": "stdout",
     "output_type": "stream",
     "text": [
      "<U32\n"
     ]
    }
   ],
   "source": [
    "#et the data type of an array object:\n",
    "\n",
    "arr = np.array([1.2, 'A',2, 3, 4])\n",
    "\n",
    "print(arr.dtype)"
   ]
  },
  {
   "cell_type": "code",
   "execution_count": 6,
   "metadata": {},
   "outputs": [
    {
     "name": "stdout",
     "output_type": "stream",
     "text": [
      "<U6\n"
     ]
    }
   ],
   "source": [
    "arr = np.array(['@apple', 'banana', 'cherry'])\n",
    "\n",
    "print(arr.dtype)"
   ]
  },
  {
   "cell_type": "markdown",
   "metadata": {},
   "source": [
    "# Creating Arrays With a Defined Data Type"
   ]
  },
  {
   "cell_type": "markdown",
   "metadata": {},
   "source": [
    "We use the array() function to create arrays, this function can take an optional argument: dtype that allows us to define the expected data type of the array elements:"
   ]
  },
  {
   "cell_type": "code",
   "execution_count": 5,
   "metadata": {},
   "outputs": [
    {
     "name": "stdout",
     "output_type": "stream",
     "text": [
      "[b'1' b'2' b'3' b'4']\n",
      "|S1\n"
     ]
    }
   ],
   "source": [
    "arr = np.array([1, 2, 3, 4], dtype='S')\n",
    "\n",
    "print(arr)\n",
    "print(arr.dtype)"
   ]
  },
  {
   "cell_type": "markdown",
   "metadata": {},
   "source": [
    "For i, u, f, S and U we can define size as well."
   ]
  },
  {
   "cell_type": "code",
   "execution_count": 6,
   "metadata": {},
   "outputs": [
    {
     "name": "stdout",
     "output_type": "stream",
     "text": [
      "[1 2 3 4]\n",
      "int32\n"
     ]
    }
   ],
   "source": [
    "#Create an array with data type 4 bytes integer:\n",
    "#[when you define an integer type variable in any programming language,\n",
    "#a memory of 4 bytes will be allocated to store its value(]]\n",
    "\n",
    "import numpy as np\n",
    "\n",
    "arr = np.array([1, 2, 3, 4], dtype='i4')\n",
    "\n",
    "print(arr)\n",
    "print(arr.dtype)"
   ]
  },
  {
   "cell_type": "code",
   "execution_count": 9,
   "metadata": {},
   "outputs": [
    {
     "name": "stdout",
     "output_type": "stream",
     "text": [
      "[[[1. 1.]\n",
      "  [1. 1.]\n",
      "  [1. 1.]\n",
      "  [1. 1.]]\n",
      "\n",
      " [[1. 1.]\n",
      "  [1. 1.]\n",
      "  [1. 1.]\n",
      "  [1. 1.]]\n",
      "\n",
      " [[1. 1.]\n",
      "  [1. 1.]\n",
      "  [1. 1.]\n",
      "  [1. 1.]]]\n",
      "float64\n"
     ]
    }
   ],
   "source": [
    "A = np.ones(shape=(3, 4, 2), dtype=float)\n",
    "print(A)\n",
    "print(A.dtype)"
   ]
  },
  {
   "cell_type": "code",
   "execution_count": 7,
   "metadata": {},
   "outputs": [
    {
     "data": {
      "text/plain": [
       "array([0, 0, 0, 0, 0, 0, 0, 0, 0, 0])"
      ]
     },
     "execution_count": 7,
     "metadata": {},
     "output_type": "execute_result"
    }
   ],
   "source": [
    "# Create a length-10 integer array filled with zeros\n",
    "np.zeros(10, dtype=int)"
   ]
  },
  {
   "cell_type": "code",
   "execution_count": 8,
   "metadata": {},
   "outputs": [
    {
     "data": {
      "text/plain": [
       "array([[1., 1., 1., 1., 1.],\n",
       "       [1., 1., 1., 1., 1.],\n",
       "       [1., 1., 1., 1., 1.]])"
      ]
     },
     "execution_count": 8,
     "metadata": {},
     "output_type": "execute_result"
    }
   ],
   "source": [
    "# Create a 3x5 floating-point array filled with ones\n",
    "np.ones(shape=(3, 5), dtype=float)"
   ]
  },
  {
   "cell_type": "markdown",
   "metadata": {},
   "source": [
    "# NumPy Sorting Arrays"
   ]
  },
  {
   "cell_type": "markdown",
   "metadata": {},
   "source": [
    "Sorting Arrays\n",
    "Sorting means putting elements in a ordered sequence.\n",
    "\n",
    "Ordered sequence is any sequence that has an order corresponding to elements, like numeric or alphabetical, ascending or descending.\n",
    "\n",
    "The NumPy ndarray object has a function called sort(), that will sort a specified array."
   ]
  },
  {
   "cell_type": "code",
   "execution_count": 14,
   "metadata": {},
   "outputs": [
    {
     "name": "stdout",
     "output_type": "stream",
     "text": [
      "[3 2 0 1]\n"
     ]
    }
   ],
   "source": [
    "arr = np.array([3, 2, 0, 1])\n",
    "print(arr)\n"
   ]
  },
  {
   "cell_type": "code",
   "execution_count": 15,
   "metadata": {},
   "outputs": [
    {
     "name": "stdout",
     "output_type": "stream",
     "text": [
      "[0 1 2 3]\n"
     ]
    }
   ],
   "source": [
    "print(np.sort(arr))\n",
    "\n",
    "#Note: This method returns a copy of the array, leaving the original array unchanged."
   ]
  },
  {
   "cell_type": "code",
   "execution_count": 21,
   "metadata": {},
   "outputs": [
    {
     "name": "stdout",
     "output_type": "stream",
     "text": [
      "[3 2 0 1]\n",
      "[0 1 2 3]\n"
     ]
    },
    {
     "data": {
      "text/plain": [
       "array([3, 2, 1, 0])"
      ]
     },
     "execution_count": 21,
     "metadata": {},
     "output_type": "execute_result"
    }
   ],
   "source": [
    "#reverese sorting:\n",
    "arr = np.array([3, 2, 0, 1])\n",
    "print(arr)\n",
    "sortarr=np.sort(arr)\n",
    "print(sortarr)\n",
    "sortarr[::-1]"
   ]
  },
  {
   "cell_type": "code",
   "execution_count": 16,
   "metadata": {},
   "outputs": [
    {
     "name": "stdout",
     "output_type": "stream",
     "text": [
      "['apple' 'banana' 'cherry']\n"
     ]
    }
   ],
   "source": [
    "arr = np.array(['banana', 'cherry', 'apple'])\n",
    "\n",
    "print(np.sort(arr))"
   ]
  },
  {
   "cell_type": "code",
   "execution_count": 17,
   "metadata": {},
   "outputs": [
    {
     "name": "stdout",
     "output_type": "stream",
     "text": [
      "[False  True  True]\n"
     ]
    }
   ],
   "source": [
    "arr = np.array([True, False, True])\n",
    "\n",
    "print(np.sort(arr))"
   ]
  },
  {
   "cell_type": "code",
   "execution_count": 23,
   "metadata": {},
   "outputs": [
    {
     "data": {
      "text/plain": [
       "array([[3, 2, 4],\n",
       "       [5, 0, 1]])"
      ]
     },
     "execution_count": 23,
     "metadata": {},
     "output_type": "execute_result"
    }
   ],
   "source": [
    "#Sort a 2-D array:\n",
    "\n",
    "\n",
    "arr = np.array([[3, 2, 4], [5, 0, 1]])\n",
    "\n",
    "arr"
   ]
  },
  {
   "cell_type": "code",
   "execution_count": 25,
   "metadata": {},
   "outputs": [
    {
     "data": {
      "text/plain": [
       "array([[2, 3, 4],\n",
       "       [0, 1, 5]])"
      ]
     },
     "execution_count": 25,
     "metadata": {},
     "output_type": "execute_result"
    }
   ],
   "source": [
    "newarr=np.sort(arr)\n",
    "newarr"
   ]
  },
  {
   "cell_type": "code",
   "execution_count": 26,
   "metadata": {},
   "outputs": [
    {
     "name": "stdout",
     "output_type": "stream",
     "text": [
      "[[0 1 5]\n",
      " [2 3 4]]\n"
     ]
    }
   ],
   "source": [
    "revarr=newarr[::-1]\n",
    "print(revarr)"
   ]
  },
  {
   "cell_type": "markdown",
   "metadata": {},
   "source": [
    "# NumPy - Mathematical Functions"
   ]
  },
  {
   "cell_type": "markdown",
   "metadata": {},
   "source": [
    "# Trigonometric Functions"
   ]
  },
  {
   "cell_type": "code",
   "execution_count": 27,
   "metadata": {},
   "outputs": [
    {
     "name": "stdout",
     "output_type": "stream",
     "text": [
      "Sine of different angles:\n",
      "[0.         0.5        0.70710678 0.8660254  1.        ]\n"
     ]
    }
   ],
   "source": [
    "a = np.array([0,30,45,60,90]) \n",
    "\n",
    "print('Sine of different angles:') \n",
    "# Convert to radians by multiplying with pi/180 \n",
    "print(np.sin(a*np.pi/180) )"
   ]
  },
  {
   "cell_type": "code",
   "execution_count": 28,
   "metadata": {},
   "outputs": [
    {
     "name": "stdout",
     "output_type": "stream",
     "text": [
      "Cosine values for angles in array:\n",
      "[1.00000000e+00 8.66025404e-01 7.07106781e-01 5.00000000e-01\n",
      " 6.12323400e-17]\n"
     ]
    }
   ],
   "source": [
    "print('Cosine values for angles in array:' )\n",
    "print(np.cos(a*np.pi/180))"
   ]
  },
  {
   "cell_type": "code",
   "execution_count": 29,
   "metadata": {},
   "outputs": [
    {
     "name": "stdout",
     "output_type": "stream",
     "text": [
      "Tangent values for given angles:\n",
      "[0.00000000e+00 5.77350269e-01 1.00000000e+00 1.73205081e+00\n",
      " 1.63312394e+16]\n"
     ]
    }
   ],
   "source": [
    "print('Tangent values for given angles:' )\n",
    "print(np.tan(a*np.pi/180) )"
   ]
  },
  {
   "cell_type": "markdown",
   "metadata": {},
   "source": [
    "#arcsin, arcos, and arctan functions return the trigonometric inverse of sin, cos, and tan of the given angle. The result of these functions can be verified by numpy.degrees() function by converting radians to degrees."
   ]
  },
  {
   "cell_type": "markdown",
   "metadata": {},
   "source": [
    "Sin verification"
   ]
  },
  {
   "cell_type": "code",
   "execution_count": 30,
   "metadata": {},
   "outputs": [
    {
     "name": "stdout",
     "output_type": "stream",
     "text": [
      "Array containing sine values:\n",
      "[0.         0.5        0.70710678 0.8660254  1.        ]\n"
     ]
    }
   ],
   "source": [
    "a = np.array([0,30,45,60,90]) \n",
    "\n",
    "print('Array containing sine values:' )\n",
    "sin = np.sin(a*np.pi/180) \n",
    "print(sin)\n"
   ]
  },
  {
   "cell_type": "code",
   "execution_count": 31,
   "metadata": {},
   "outputs": [
    {
     "name": "stdout",
     "output_type": "stream",
     "text": [
      "Compute sine inverse of angles. Returned values are in radians.\n",
      "[0.         0.52359878 0.78539816 1.04719755 1.57079633]\n"
     ]
    }
   ],
   "source": [
    "print('Compute sine inverse of angles. Returned values are in radians.' )\n",
    "inv = np.arcsin(sin) \n",
    "print(inv)\n",
    "\n"
   ]
  },
  {
   "cell_type": "code",
   "execution_count": 32,
   "metadata": {},
   "outputs": [
    {
     "name": "stdout",
     "output_type": "stream",
     "text": [
      "Check result by converting to degrees:\n",
      "[ 0. 30. 45. 60. 90.]\n"
     ]
    }
   ],
   "source": [
    "print('Check result by converting to degrees:' )\n",
    "print(np.degrees(inv))"
   ]
  },
  {
   "cell_type": "markdown",
   "metadata": {},
   "source": [
    "# Lab exercise\n"
   ]
  },
  {
   "cell_type": "code",
   "execution_count": null,
   "metadata": {},
   "outputs": [],
   "source": [
    "#Verify for cos and tan"
   ]
  },
  {
   "cell_type": "markdown",
   "metadata": {},
   "source": [
    "# Functions for Rounding"
   ]
  },
  {
   "cell_type": "markdown",
   "metadata": {},
   "source": [
    "numpy.around(a,decimals)"
   ]
  },
  {
   "cell_type": "markdown",
   "metadata": {},
   "source": [
    "1\ta: Input data\n",
    "\n",
    "2\tdecimals:The number of decimals to round to. Default is 0. "
   ]
  },
  {
   "cell_type": "code",
   "execution_count": 2,
   "metadata": {},
   "outputs": [
    {
     "name": "stdout",
     "output_type": "stream",
     "text": [
      "[ 1.0125  5.5462  1.2342  0.5679 25.1532]\n"
     ]
    }
   ],
   "source": [
    "import numpy as np\n",
    "a = np.array([1.0125,5.5462, 1.2342, 0.5679, 25.1532]) \n",
    "print(a)\n"
   ]
  },
  {
   "cell_type": "code",
   "execution_count": 3,
   "metadata": {},
   "outputs": [
    {
     "name": "stdout",
     "output_type": "stream",
     "text": [
      "After rounding:\n",
      "[ 1.  6.  1.  1. 25.]\n"
     ]
    }
   ],
   "source": [
    "print('After rounding:' )\n",
    "print(np.round(a)) \n"
   ]
  },
  {
   "cell_type": "code",
   "execution_count": 4,
   "metadata": {},
   "outputs": [
    {
     "name": "stdout",
     "output_type": "stream",
     "text": [
      "[ 1.   5.5  1.2  0.6 25.2]\n"
     ]
    }
   ],
   "source": [
    "print(np.round(a, decimals = 1) )\n"
   ]
  },
  {
   "cell_type": "code",
   "execution_count": 5,
   "metadata": {},
   "outputs": [
    {
     "name": "stdout",
     "output_type": "stream",
     "text": [
      "[ 1.01  5.55  1.23  0.57 25.15]\n"
     ]
    }
   ],
   "source": [
    "print(np.round(a, decimals = 2))"
   ]
  },
  {
   "cell_type": "markdown",
   "metadata": {},
   "source": [
    "# Arithmetic Operations"
   ]
  },
  {
   "cell_type": "markdown",
   "metadata": {},
   "source": [
    "Input arrays for performing arithmetic operations such as add(), subtract(), multiply(), and divide() must be either of the same shape or should conform to array broadcasting rules."
   ]
  },
  {
   "cell_type": "code",
   "execution_count": 12,
   "metadata": {},
   "outputs": [
    {
     "name": "stdout",
     "output_type": "stream",
     "text": [
      "[0. 1. 2.]\n"
     ]
    }
   ],
   "source": [
    "a = np.arange(3, dtype = np.float_)\n",
    "print(a)"
   ]
  },
  {
   "cell_type": "code",
   "execution_count": 13,
   "metadata": {},
   "outputs": [
    {
     "name": "stdout",
     "output_type": "stream",
     "text": [
      "[10 10 10]\n"
     ]
    }
   ],
   "source": [
    "b = np.array([10,10,10]) \n",
    "print(b)"
   ]
  },
  {
   "cell_type": "code",
   "execution_count": 14,
   "metadata": {},
   "outputs": [
    {
     "name": "stdout",
     "output_type": "stream",
     "text": [
      "Add the two arrays:\n",
      "[10. 11. 12.]\n"
     ]
    }
   ],
   "source": [
    "print('Add the two arrays:' )\n",
    "print(np.add(a,b)) "
   ]
  },
  {
   "cell_type": "code",
   "execution_count": 16,
   "metadata": {},
   "outputs": [
    {
     "name": "stdout",
     "output_type": "stream",
     "text": [
      "Subtract the two arrays:\n",
      "[-10.  -9.  -8.]\n"
     ]
    }
   ],
   "source": [
    "print('Subtract the two arrays:' )\n",
    "print(np.subtract(a,b)) "
   ]
  },
  {
   "cell_type": "code",
   "execution_count": 17,
   "metadata": {},
   "outputs": [
    {
     "name": "stdout",
     "output_type": "stream",
     "text": [
      "Multiply the two arrays:\n",
      "[ 0. 10. 20.]\n"
     ]
    }
   ],
   "source": [
    "print('Multiply the two arrays:' )\n",
    "print(np.multiply(a,b))"
   ]
  },
  {
   "cell_type": "code",
   "execution_count": 18,
   "metadata": {},
   "outputs": [
    {
     "name": "stdout",
     "output_type": "stream",
     "text": [
      "Divide the two arrays:\n",
      "[0.  0.1 0.2]\n"
     ]
    }
   ],
   "source": [
    "print('Divide the two arrays:' )\n",
    "print(np.divide(a,b))"
   ]
  },
  {
   "cell_type": "markdown",
   "metadata": {},
   "source": [
    "numpy.reciprocal()\n",
    "This function returns the reciprocal of argument, element-wise. For elements with absolute values larger than 1, the result is always 0 because of the way in which Python handles integer division. For integer 0, an overflow warning is issued."
   ]
  },
  {
   "cell_type": "code",
   "execution_count": 19,
   "metadata": {},
   "outputs": [
    {
     "name": "stdout",
     "output_type": "stream",
     "text": [
      "[  0.25   1.33   1.     0.   100.  ]\n"
     ]
    }
   ],
   "source": [
    "a = np.array([0.25, 1.33, 1, 0, 100]) \n",
    "print(a)"
   ]
  },
  {
   "cell_type": "code",
   "execution_count": 20,
   "metadata": {},
   "outputs": [
    {
     "name": "stdout",
     "output_type": "stream",
     "text": [
      "After applying reciprocal function:\n",
      "[4.        0.7518797 1.              inf 0.01     ]\n"
     ]
    },
    {
     "name": "stderr",
     "output_type": "stream",
     "text": [
      "<ipython-input-20-68891f89caaf>:2: RuntimeWarning: divide by zero encountered in reciprocal\n",
      "  print(np.reciprocal(a))\n"
     ]
    }
   ],
   "source": [
    "print('After applying reciprocal function:' )\n",
    "print(np.reciprocal(a))"
   ]
  },
  {
   "cell_type": "markdown",
   "metadata": {},
   "source": [
    "numpy.power()\n",
    "\n",
    "\n",
    "This function treats elements in the first input array as base and returns it raised to the power of the corresponding element in the second input array."
   ]
  },
  {
   "cell_type": "code",
   "execution_count": 22,
   "metadata": {},
   "outputs": [
    {
     "name": "stdout",
     "output_type": "stream",
     "text": [
      "[  10  100 1000]\n"
     ]
    }
   ],
   "source": [
    "a = np.array([10,100,1000]) \n",
    "\n",
    "print(a) "
   ]
  },
  {
   "cell_type": "code",
   "execution_count": 23,
   "metadata": {},
   "outputs": [
    {
     "name": "stdout",
     "output_type": "stream",
     "text": [
      "Applying power function:\n",
      "[    100   10000 1000000]\n"
     ]
    }
   ],
   "source": [
    "print('Applying power function:' )\n",
    "print(np.power(a,2))"
   ]
  },
  {
   "cell_type": "code",
   "execution_count": 24,
   "metadata": {},
   "outputs": [
    {
     "data": {
      "text/plain": [
       "array([1, 2, 3])"
      ]
     },
     "execution_count": 24,
     "metadata": {},
     "output_type": "execute_result"
    }
   ],
   "source": [
    "b = np.array([1,2,3]) \n",
    "b"
   ]
  },
  {
   "cell_type": "code",
   "execution_count": 25,
   "metadata": {},
   "outputs": [
    {
     "name": "stdout",
     "output_type": "stream",
     "text": [
      "Applying power function again:\n",
      "[        10      10000 1000000000]\n"
     ]
    }
   ],
   "source": [
    "print('Applying power function again:' )\n",
    "print(np.power(a,b))"
   ]
  },
  {
   "cell_type": "markdown",
   "metadata": {},
   "source": [
    "numpy.mod()\n",
    "\n",
    "This function returns the remainder of division of the corresponding elements in the input array. The function numpy.remainder() also produces the same result.\n",
    "\n"
   ]
  },
  {
   "cell_type": "code",
   "execution_count": 26,
   "metadata": {},
   "outputs": [
    {
     "data": {
      "text/plain": [
       "array([10, 20, 30])"
      ]
     },
     "execution_count": 26,
     "metadata": {},
     "output_type": "execute_result"
    }
   ],
   "source": [
    "a = np.array([10,20,30]) \n",
    "a"
   ]
  },
  {
   "cell_type": "code",
   "execution_count": 27,
   "metadata": {},
   "outputs": [
    {
     "data": {
      "text/plain": [
       "array([3, 5, 7])"
      ]
     },
     "execution_count": 27,
     "metadata": {},
     "output_type": "execute_result"
    }
   ],
   "source": [
    "b = np.array([3,5,7]) \n",
    "b"
   ]
  },
  {
   "cell_type": "code",
   "execution_count": 28,
   "metadata": {},
   "outputs": [
    {
     "name": "stdout",
     "output_type": "stream",
     "text": [
      "Applying mod() function:\n",
      "[1 0 2]\n"
     ]
    }
   ],
   "source": [
    "print('Applying mod() function:' )\n",
    "print(np.mod(a,b) )"
   ]
  },
  {
   "cell_type": "code",
   "execution_count": 29,
   "metadata": {},
   "outputs": [
    {
     "name": "stdout",
     "output_type": "stream",
     "text": [
      "Applying remainder() function:\n",
      "[1 0 2]\n"
     ]
    }
   ],
   "source": [
    "print('Applying remainder() function:' )\n",
    "print(np.remainder(a,b)) "
   ]
  },
  {
   "cell_type": "markdown",
   "metadata": {},
   "source": [
    "The following functions are used to perform operations on array with complex numbers.\n",
    "\n",
    "numpy.real() − returns the real part of the complex data type argument.\n",
    "\n",
    "numpy.imag() − returns the imaginary part of the complex data type argument.\n",
    "\n",
    "numpy.conj() − returns the complex conjugate, which is obtained by changing the sign of the imaginary part.\n",
    "\n",
    "numpy.angle() − returns the angle of the complex argument. The function has degree parameter. If true, the angle in the degree is returned, otherwise the angle is in radians.\n"
   ]
  },
  {
   "cell_type": "code",
   "execution_count": 30,
   "metadata": {},
   "outputs": [
    {
     "name": "stdout",
     "output_type": "stream",
     "text": [
      "[-0.-5.6j  0.+0.2j 11.+0.j   1.+1.j ]\n"
     ]
    }
   ],
   "source": [
    "a = np.array([-5.6j, 0.2j, 11. , 1+1j]) \n",
    "print(a)"
   ]
  },
  {
   "cell_type": "code",
   "execution_count": 31,
   "metadata": {},
   "outputs": [
    {
     "name": "stdout",
     "output_type": "stream",
     "text": [
      "Applying real() function:\n",
      "[-0.  0. 11.  1.]\n"
     ]
    }
   ],
   "source": [
    "print('Applying real() function:' )\n",
    "print(np.real(a))"
   ]
  },
  {
   "cell_type": "code",
   "execution_count": 32,
   "metadata": {},
   "outputs": [
    {
     "name": "stdout",
     "output_type": "stream",
     "text": [
      "Applying imag() function:\n",
      "[-5.6  0.2  0.   1. ]\n"
     ]
    }
   ],
   "source": [
    "print('Applying imag() function:' )\n",
    "print(np.imag(a))"
   ]
  },
  {
   "cell_type": "code",
   "execution_count": 33,
   "metadata": {},
   "outputs": [
    {
     "name": "stdout",
     "output_type": "stream",
     "text": [
      "Applying conj() function:\n",
      "[-0.+5.6j  0.-0.2j 11.-0.j   1.-1.j ]\n"
     ]
    }
   ],
   "source": [
    "print('Applying conj() function:' )\n",
    "print(np.conj(a))"
   ]
  },
  {
   "cell_type": "code",
   "execution_count": 34,
   "metadata": {},
   "outputs": [
    {
     "name": "stdout",
     "output_type": "stream",
     "text": [
      "Applying angle() function:\n",
      "[-1.57079633  1.57079633  0.          0.78539816]\n"
     ]
    }
   ],
   "source": [
    "print('Applying angle() function:' )\n",
    "print(np.angle(a))"
   ]
  },
  {
   "cell_type": "code",
   "execution_count": 35,
   "metadata": {},
   "outputs": [
    {
     "name": "stdout",
     "output_type": "stream",
     "text": [
      "Applying angle() function again (result in degrees)\n",
      "[-90.  90.   0.  45.]\n"
     ]
    }
   ],
   "source": [
    "print('Applying angle() function again (result in degrees)' )\n",
    "print(np.angle(a, deg = True))"
   ]
  },
  {
   "cell_type": "code",
   "execution_count": 37,
   "metadata": {},
   "outputs": [
    {
     "data": {
      "text/plain": [
       "array([121,  81], dtype=int32)"
      ]
     },
     "execution_count": 37,
     "metadata": {},
     "output_type": "execute_result"
    }
   ],
   "source": [
    "#numpy.square\n",
    "\n",
    "np.square([11, 9])"
   ]
  },
  {
   "cell_type": "code",
   "execution_count": 38,
   "metadata": {},
   "outputs": [
    {
     "data": {
      "text/plain": [
       "array([-1.2,  1.2])"
      ]
     },
     "execution_count": 38,
     "metadata": {},
     "output_type": "execute_result"
    }
   ],
   "source": [
    "#numpy.absolute\n",
    "\n",
    "x = np.array([-1.2, 1.2])\n",
    "x"
   ]
  },
  {
   "cell_type": "code",
   "execution_count": 39,
   "metadata": {},
   "outputs": [
    {
     "data": {
      "text/plain": [
       "array([1.2, 1.2])"
      ]
     },
     "execution_count": 39,
     "metadata": {},
     "output_type": "execute_result"
    }
   ],
   "source": [
    "np.absolute(x)"
   ]
  },
  {
   "cell_type": "code",
   "execution_count": 40,
   "metadata": {},
   "outputs": [
    {
     "data": {
      "text/plain": [
       "1.5620499351813308"
      ]
     },
     "execution_count": 40,
     "metadata": {},
     "output_type": "execute_result"
    }
   ],
   "source": [
    "np.absolute(1.2 + 1j)"
   ]
  },
  {
   "cell_type": "code",
   "execution_count": 41,
   "metadata": {},
   "outputs": [
    {
     "data": {
      "text/plain": [
       "array([2, 5, 4])"
      ]
     },
     "execution_count": 41,
     "metadata": {},
     "output_type": "execute_result"
    }
   ],
   "source": [
    "#numpy.maximum\n",
    "\n",
    "np.maximum([2, 3, 4], [1, 5, 2])"
   ]
  },
  {
   "cell_type": "code",
   "execution_count": 42,
   "metadata": {},
   "outputs": [
    {
     "data": {
      "text/plain": [
       "array([1, 3, 2])"
      ]
     },
     "execution_count": 42,
     "metadata": {},
     "output_type": "execute_result"
    }
   ],
   "source": [
    "#numpy.minimum\n",
    "\n",
    "np.minimum([2, 3, 4], [1, 5, 2])"
   ]
  },
  {
   "cell_type": "code",
   "execution_count": 43,
   "metadata": {},
   "outputs": [
    {
     "data": {
      "text/plain": [
       "array([1., 2., 3.])"
      ]
     },
     "execution_count": 43,
     "metadata": {},
     "output_type": "execute_result"
    }
   ],
   "source": [
    "#numpy.cbrt\n",
    "\n",
    "np.cbrt([1,8,27])"
   ]
  },
  {
   "cell_type": "code",
   "execution_count": 44,
   "metadata": {},
   "outputs": [
    {
     "data": {
      "text/plain": [
       "array([1., 2., 3.])"
      ]
     },
     "execution_count": 44,
     "metadata": {},
     "output_type": "execute_result"
    }
   ],
   "source": [
    "#numpy.sqrt\n",
    "\n",
    "np.sqrt([1,4,9])\n",
    "\n"
   ]
  },
  {
   "cell_type": "code",
   "execution_count": 48,
   "metadata": {},
   "outputs": [
    {
     "data": {
      "text/plain": [
       "array([1, 2])"
      ]
     },
     "execution_count": 48,
     "metadata": {},
     "output_type": "execute_result"
    }
   ],
   "source": [
    "x = np.array([1, 2])\n",
    "x"
   ]
  },
  {
   "cell_type": "code",
   "execution_count": 49,
   "metadata": {},
   "outputs": [
    {
     "data": {
      "text/plain": [
       "array([2.71828183, 7.3890561 ])"
      ]
     },
     "execution_count": 49,
     "metadata": {},
     "output_type": "execute_result"
    }
   ],
   "source": [
    "# np.exp(x) -> The exponential function is e^x where e is a mathematical \n",
    "# constant called Euler's number, approximately 2.718281\n",
    "np.exp(x)\n",
    "\n",
    "# https://stackoverflow.com/questions/31951980/what-exactly-does-numpy-exp-do"
   ]
  },
  {
   "cell_type": "markdown",
   "metadata": {},
   "source": [
    "There are the following two ways to create linear sequences:\n",
    "\n",
    "> **np.arange**\n",
    "\n",
    "> **np.linspace**"
   ]
  },
  {
   "cell_type": "markdown",
   "metadata": {},
   "source": [
    "# numpy.linspace() in Python"
   ]
  },
  {
   "cell_type": "markdown",
   "metadata": {},
   "source": [
    "linspace is similar to the colon operator, “:”, but gives direct control over the number of points and always includes the endpoints. \n",
    "\n",
    "“lin” in the name “linspace” refers to generating linearly spaced values as opposed to the sibling function logspace, which generates logarithmically spaced values.\n",
    "\n",
    "\n",
    "numpy.linspace(start, stop, num = 50, endpoint = True, restep = False, dtype = None) : \n",
    "\n",
    "Returns number spaces evenly w.r.t interval. Similar to arange but instead of step it uses sample number.\n",
    "\n",
    "Parameters :\n",
    "\n",
    "-> start  : [optional] start of interval range. By default start = 0\n",
    "\n",
    "-> stop   : end of interval range\n",
    "\n",
    "-> restep : If True, return (samples, step). By deflut restep = False\n",
    "\n",
    "-> num    : [int, optional] No. of samples to generate\n",
    "\n",
    "-> dtype  : type of output array"
   ]
  },
  {
   "cell_type": "code",
   "execution_count": 51,
   "metadata": {},
   "outputs": [
    {
     "data": {
      "text/plain": [
       "array([2.  , 2.25, 2.5 , 2.75, 3.  ])"
      ]
     },
     "execution_count": 51,
     "metadata": {},
     "output_type": "execute_result"
    }
   ],
   "source": [
    "np.linspace(2.0, 3.0, num=5)"
   ]
  },
  {
   "cell_type": "code",
   "execution_count": 52,
   "metadata": {},
   "outputs": [
    {
     "data": {
      "text/plain": [
       "array([2. , 2.2, 2.4, 2.6, 2.8])"
      ]
     },
     "execution_count": 52,
     "metadata": {},
     "output_type": "execute_result"
    }
   ],
   "source": [
    "np.linspace(2.0, 3.0, num=5, endpoint=False)"
   ]
  },
  {
   "cell_type": "code",
   "execution_count": 53,
   "metadata": {},
   "outputs": [
    {
     "data": {
      "text/plain": [
       "(array([2.        , 2.33333333, 2.66666667, 3.        ]), 0.3333333333333333)"
      ]
     },
     "execution_count": 53,
     "metadata": {},
     "output_type": "execute_result"
    }
   ],
   "source": [
    "np.linspace(2.0, 3.0, num=4, retstep=True)"
   ]
  },
  {
   "cell_type": "markdown",
   "metadata": {},
   "source": [
    "# LogSpace"
   ]
  },
  {
   "cell_type": "markdown",
   "metadata": {},
   "source": [
    "LogSpace returns even spaced numbers on a log scale. Logspace has the same parameters as np.linspace."
   ]
  },
  {
   "cell_type": "markdown",
   "metadata": {},
   "source": [
    "Parameters :\n",
    "\n",
    "-> start    : [float] start(base ** start) of interval range.\n",
    "\n",
    "-> stop     : [float] end(base ** stop) of interval range\n",
    "\n",
    "-> endpoint : [boolean, optional]If True, stop is the last sample. By default, True\n",
    "\n",
    "-> num      : [int, optional] No. of samples to generate\n",
    "\n",
    "-> base     : [float, optional] Base of log scale. By default, equals 10.0\n",
    "\n",
    "-> dtype    : type of output array"
   ]
  },
  {
   "cell_type": "code",
   "execution_count": 59,
   "metadata": {},
   "outputs": [
    {
     "data": {
      "text/plain": [
       "array([   10.,   100.,  1000., 10000.])"
      ]
     },
     "execution_count": 59,
     "metadata": {},
     "output_type": "execute_result"
    }
   ],
   "source": [
    "np.logspace(1.0, 4.0, num=4)"
   ]
  },
  {
   "cell_type": "code",
   "execution_count": 60,
   "metadata": {},
   "outputs": [
    {
     "data": {
      "text/plain": [
       "array([  10.,  100., 1000.])"
      ]
     },
     "execution_count": 60,
     "metadata": {},
     "output_type": "execute_result"
    }
   ],
   "source": [
    "np.logspace(1.0, 4.0, num=3, endpoint=False)"
   ]
  },
  {
   "cell_type": "code",
   "execution_count": 55,
   "metadata": {},
   "outputs": [
    {
     "data": {
      "text/plain": [
       "array([ 1331.        ,  2960.11750055,  6583.24238696, 14641.        ])"
      ]
     },
     "execution_count": 55,
     "metadata": {},
     "output_type": "execute_result"
    }
   ],
   "source": [
    "np.logspace(3.0, 4.0, num=4, base=11)"
   ]
  },
  {
   "cell_type": "markdown",
   "metadata": {},
   "source": [
    "# numpy statistical functions"
   ]
  },
  {
   "cell_type": "markdown",
   "metadata": {},
   "source": [
    "# numpy.random.normal\n",
    "\n",
    "[creates an array of specified shape and fills it with random values which is actually a part of Normal(Gaussian)Distribution]\n",
    "\n",
    "numpy.random.normal(loc=0.0, scale=1.0, size=None)\n",
    "\n",
    "loc=Mean (“centre”) of the distribution.\n",
    "\n",
    "scale=Standard deviation (spread or “width”) of the distribution. Must be non-negative.\n",
    "\n",
    "size =Output shape. If size is None (default), a single value is returned "
   ]
  },
  {
   "cell_type": "code",
   "execution_count": 61,
   "metadata": {},
   "outputs": [
    {
     "name": "stdout",
     "output_type": "stream",
     "text": [
      "[5.00396516 4.39993269 5.74171622 5.62733653 5.07615753 5.27410256\n",
      " 5.10322297 4.80833951 5.45890088 4.65774774]\n"
     ]
    }
   ],
   "source": [
    "normal_array = np.random.normal(5, 0.5,10)\n",
    "print(normal_array)"
   ]
  },
  {
   "cell_type": "code",
   "execution_count": 63,
   "metadata": {},
   "outputs": [
    {
     "name": "stdout",
     "output_type": "stream",
     "text": [
      "4.399932692225188\n"
     ]
    }
   ],
   "source": [
    "### Min \n",
    "print(np.min(normal_array))"
   ]
  },
  {
   "cell_type": "code",
   "execution_count": 64,
   "metadata": {},
   "outputs": [
    {
     "name": "stdout",
     "output_type": "stream",
     "text": [
      "5.741716223714627\n"
     ]
    }
   ],
   "source": [
    "### Max \n",
    "print(np.max(normal_array))"
   ]
  },
  {
   "cell_type": "code",
   "execution_count": 65,
   "metadata": {},
   "outputs": [
    {
     "name": "stdout",
     "output_type": "stream",
     "text": [
      "5.115142180480937\n"
     ]
    }
   ],
   "source": [
    "### Mean \n",
    "print(np.mean(normal_array))"
   ]
  },
  {
   "cell_type": "code",
   "execution_count": 66,
   "metadata": {},
   "outputs": [
    {
     "name": "stdout",
     "output_type": "stream",
     "text": [
      "5.089690251945341\n"
     ]
    }
   ],
   "source": [
    "### Median\n",
    "print(np.median(normal_array))"
   ]
  },
  {
   "cell_type": "code",
   "execution_count": 67,
   "metadata": {},
   "outputs": [
    {
     "name": "stdout",
     "output_type": "stream",
     "text": [
      "0.4033932194331755\n"
     ]
    }
   ],
   "source": [
    "### Sd\n",
    "print(np.std(normal_array))"
   ]
  },
  {
   "cell_type": "code",
   "execution_count": 68,
   "metadata": {},
   "outputs": [
    {
     "name": "stdout",
     "output_type": "stream",
     "text": [
      "0.16272608948466208\n"
     ]
    }
   ],
   "source": [
    "###Variance\n",
    "print(np.var(normal_array))"
   ]
  },
  {
   "cell_type": "markdown",
   "metadata": {},
   "source": [
    "# percentile() in NumPy\n",
    "\n",
    "Percentile is a measure used in statistics which indicates the value below which a given percentage of observations in a group of observations falls. This function takes 3 arguments percentile(array,q,axis).\n",
    "\n",
    "array: the array for which we want to find the percentile\n",
    "\n",
    "q: the percentile value(0-100)\n",
    "\n",
    "axis: it can be 0/1"
   ]
  },
  {
   "cell_type": "code",
   "execution_count": 69,
   "metadata": {},
   "outputs": [
    {
     "name": "stdout",
     "output_type": "stream",
     "text": [
      "[[10 20 30]\n",
      " [40 50 60]\n",
      " [70 80 90]]\n"
     ]
    }
   ],
   "source": [
    "arr=np.array([[10,20,30],[40,50,60],[70,80,90]])\n",
    "print(arr)"
   ]
  },
  {
   "cell_type": "code",
   "execution_count": 70,
   "metadata": {},
   "outputs": [
    {
     "name": "stdout",
     "output_type": "stream",
     "text": [
      "[20. 50. 80.]\n"
     ]
    }
   ],
   "source": [
    "new_var = print(np.percentile(arr,50,axis=1))\n",
    "new_var"
   ]
  },
  {
   "cell_type": "code",
   "execution_count": 71,
   "metadata": {},
   "outputs": [
    {
     "name": "stdout",
     "output_type": "stream",
     "text": [
      "[40. 50. 60.]\n"
     ]
    }
   ],
   "source": [
    "print(np.percentile(arr,50,axis=0))"
   ]
  },
  {
   "cell_type": "code",
   "execution_count": null,
   "metadata": {},
   "outputs": [],
   "source": [
    " ###Write a NumPy program to compute the 80th percentile for all elements \n",
    "    #in a given array along the second axis"
   ]
  },
  {
   "cell_type": "markdown",
   "metadata": {},
   "source": [
    "# ptp()\n",
    "\n",
    "This function returns the range(max-min) of values in the axis."
   ]
  },
  {
   "cell_type": "code",
   "execution_count": 72,
   "metadata": {},
   "outputs": [
    {
     "name": "stdout",
     "output_type": "stream",
     "text": [
      "[[0 1]\n",
      " [2 3]]\n"
     ]
    }
   ],
   "source": [
    "x = np.arange(4).reshape((2,2))\n",
    "print(x)"
   ]
  },
  {
   "cell_type": "code",
   "execution_count": 73,
   "metadata": {},
   "outputs": [
    {
     "data": {
      "text/plain": [
       "array([2, 2])"
      ]
     },
     "execution_count": 73,
     "metadata": {},
     "output_type": "execute_result"
    }
   ],
   "source": [
    "np.ptp(x, axis=0)"
   ]
  },
  {
   "cell_type": "code",
   "execution_count": 74,
   "metadata": {},
   "outputs": [
    {
     "data": {
      "text/plain": [
       "array([1, 1])"
      ]
     },
     "execution_count": 74,
     "metadata": {},
     "output_type": "execute_result"
    }
   ],
   "source": [
    "np.ptp(x, axis=1)"
   ]
  },
  {
   "cell_type": "markdown",
   "metadata": {},
   "source": [
    "\n",
    "# Correlation in Python\n"
   ]
  },
  {
   "cell_type": "code",
   "execution_count": 75,
   "metadata": {},
   "outputs": [
    {
     "name": "stdout",
     "output_type": "stream",
     "text": [
      "[10 11 12 13 14 15 16 17 18 19]\n"
     ]
    }
   ],
   "source": [
    "x = np.arange(10, 20)\n",
    "print(x)"
   ]
  },
  {
   "cell_type": "code",
   "execution_count": 76,
   "metadata": {},
   "outputs": [
    {
     "name": "stdout",
     "output_type": "stream",
     "text": [
      "[ 2  1  4  5  8 12 18 25 96 48]\n"
     ]
    }
   ],
   "source": [
    "y = np.array([2, 1, 4, 5, 8, 12, 18, 25, 96, 48])\n",
    "print(y)"
   ]
  },
  {
   "cell_type": "code",
   "execution_count": 78,
   "metadata": {},
   "outputs": [
    {
     "data": {
      "text/plain": [
       "array([[1.        , 0.75864029],\n",
       "       [0.75864029, 1.        ]])"
      ]
     },
     "execution_count": 78,
     "metadata": {},
     "output_type": "execute_result"
    }
   ],
   "source": [
    "r = np.corrcoef(x, y)\n",
    "r"
   ]
  },
  {
   "cell_type": "code",
   "execution_count": 82,
   "metadata": {},
   "outputs": [
    {
     "data": {
      "text/plain": [
       "array([ 21,  11,  41,  51,  81, 112, 118, 125, 196, 148])"
      ]
     },
     "execution_count": 82,
     "metadata": {},
     "output_type": "execute_result"
    }
   ],
   "source": [
    "z = np.array([21, 11, 41, 51, 81, 112, 118, 125, 196, 148])\n",
    "z"
   ]
  },
  {
   "cell_type": "code",
   "execution_count": 81,
   "metadata": {},
   "outputs": [
    {
     "data": {
      "text/plain": [
       "array([[1.        , 0.75864029, 0.94945273],\n",
       "       [0.75864029, 1.        , 0.86738492],\n",
       "       [0.94945273, 0.86738492, 1.        ]])"
      ]
     },
     "execution_count": 81,
     "metadata": {},
     "output_type": "execute_result"
    }
   ],
   "source": [
    "r = np.corrcoef([x, y,z])\n",
    "r"
   ]
  },
  {
   "cell_type": "markdown",
   "metadata": {},
   "source": [
    "# Covariance Matrix using Python"
   ]
  },
  {
   "cell_type": "markdown",
   "metadata": {},
   "source": [
    "Covariance is a measure of how much two random variables vary together. It’s similar to variance, but where variance tells you how a single variable varies, co variance tells you how two variables vary together.\n",
    "\n",
    "Covariance is nothing but a measure of correlation\n",
    "\n",
    "Covariance can vary between -∞ and +∞\n",
    "While correlation coefficients lie between -1 and +1, \n",
    "\n",
    "Covariance assumes the units from the product of the units of the two variables. \n",
    "On the other hand, correlation is dimensionless.\n",
    "\n",
    "The value of covariance is affected by the change in scale of the variables.\n",
    "However the value of correlation is not influenced by the change in scale of the values"
   ]
  },
  {
   "cell_type": "code",
   "execution_count": 84,
   "metadata": {},
   "outputs": [
    {
     "data": {
      "text/plain": [
       "array([[45, 37, 42, 35, 39],\n",
       "       [38, 31, 26, 28, 33],\n",
       "       [10, 15, 17, 21, 12]])"
      ]
     },
     "execution_count": 84,
     "metadata": {},
     "output_type": "execute_result"
    }
   ],
   "source": [
    "A = [45,37,42,35,39]\n",
    "B = [38,31,26,28,33]\n",
    "C = [10,15,17,21,12]\n",
    "\n",
    "data = np.array([A,B,C])\n",
    "data"
   ]
  },
  {
   "cell_type": "code",
   "execution_count": 85,
   "metadata": {},
   "outputs": [
    {
     "name": "stdout",
     "output_type": "stream",
     "text": [
      "[[ 12.64   7.68  -9.6 ]\n",
      " [  7.68  17.36 -13.8 ]\n",
      " [ -9.6  -13.8   14.8 ]]\n"
     ]
    }
   ],
   "source": [
    "covMatrix = np.cov(data,bias=True)\n",
    "print (covMatrix)\n",
    "#bias:Default normalization (False) is by (N - 1), \n",
    "#where N is the number of observations given (unbiased estimate). \n",
    "#If bias is True, then normalization is by N. "
   ]
  },
  {
   "cell_type": "code",
   "execution_count": 86,
   "metadata": {},
   "outputs": [
    {
     "name": "stdout",
     "output_type": "stream",
     "text": [
      "[[ 1.          0.5184571  -0.70188642]\n",
      " [ 0.5184571   1.         -0.86094096]\n",
      " [-0.70188642 -0.86094096  1.        ]]\n"
     ]
    }
   ],
   "source": [
    "r = np.corrcoef(data)\n",
    "print(r)"
   ]
  },
  {
   "cell_type": "markdown",
   "metadata": {},
   "source": [
    "# Lab Exercises"
   ]
  },
  {
   "cell_type": "code",
   "execution_count": null,
   "metadata": {},
   "outputs": [],
   "source": [
    "#Write a NumPy program to find the indices of the maximum and minimum values along the given axis of an array."
   ]
  },
  {
   "cell_type": "code",
   "execution_count": null,
   "metadata": {},
   "outputs": [],
   "source": [
    "#Write a NumPy program to to create a 1-D array of 20 element spaced evenly on a log scale between 2. and 5."
   ]
  },
  {
   "cell_type": "code",
   "execution_count": null,
   "metadata": {},
   "outputs": [],
   "source": [
    "#Write a NumPy program to sum and compute the product of a NumPy array elements.\n",
    "#Hint:np.sum() and np.prod()"
   ]
  },
  {
   "cell_type": "code",
   "execution_count": null,
   "metadata": {},
   "outputs": [],
   "source": [
    "#Write a NumPy program to calculate 50th, 40th and 90th percentiles for a sequence or single-dimensional NumPy array"
   ]
  },
  {
   "cell_type": "code",
   "execution_count": null,
   "metadata": {},
   "outputs": [],
   "source": [
    "# Write a NumPy program to add, subtract, multiply, divide arguments element-wise."
   ]
  },
  {
   "cell_type": "code",
   "execution_count": null,
   "metadata": {},
   "outputs": [],
   "source": [
    "# Write a NumPy program to get the powers of an array values element-wise."
   ]
  },
  {
   "cell_type": "code",
   "execution_count": null,
   "metadata": {},
   "outputs": [],
   "source": [
    "#Write a NumPy program to get the element-wise remainder of an array of division by 5.\n",
    "#Hint:np.remainder(x, 5)"
   ]
  },
  {
   "cell_type": "code",
   "execution_count": null,
   "metadata": {},
   "outputs": [],
   "source": [
    "#Write a NumPy program to calculate the absolute value element-wise"
   ]
  },
  {
   "cell_type": "code",
   "execution_count": null,
   "metadata": {},
   "outputs": [],
   "source": [
    "#Write a NumPy program to round elements of the array to the nearest integer. \n"
   ]
  },
  {
   "cell_type": "code",
   "execution_count": null,
   "metadata": {},
   "outputs": [],
   "source": [
    "#Write a Python program to find the maximum and minimum value of a given flattened array. "
   ]
  },
  {
   "cell_type": "code",
   "execution_count": null,
   "metadata": {},
   "outputs": [],
   "source": [
    "#Write a NumPy program to get the minimum and maximum value of a given array along the second axis."
   ]
  },
  {
   "cell_type": "code",
   "execution_count": null,
   "metadata": {},
   "outputs": [],
   "source": [
    "#Write a NumPy program to compute the median of flattened given array"
   ]
  },
  {
   "cell_type": "code",
   "execution_count": null,
   "metadata": {},
   "outputs": [],
   "source": [
    "#Write a NumPy program to compute the mean, standard deviation, and variance of a given array along the second axis."
   ]
  },
  {
   "cell_type": "code",
   "execution_count": null,
   "metadata": {},
   "outputs": [],
   "source": [
    "#Write a NumPy program to compute the covariance matrix of two given arrays"
   ]
  },
  {
   "cell_type": "code",
   "execution_count": null,
   "metadata": {},
   "outputs": [],
   "source": [
    "#Write a NumPy program to compute cross-correlation of two given arrays. "
   ]
  },
  {
   "cell_type": "code",
   "execution_count": null,
   "metadata": {},
   "outputs": [],
   "source": [
    "#Write a NumPy program to calculate the difference between the maximum and the minimum values of a given array along the second axis."
   ]
  },
  {
   "cell_type": "code",
   "execution_count": null,
   "metadata": {},
   "outputs": [],
   "source": [
    "# Create a vector of size 10 with values ranging from 0 to 1, both excluded "
   ]
  },
  {
   "cell_type": "code",
   "execution_count": null,
   "metadata": {},
   "outputs": [],
   "source": [
    "x = np.arange(4).reshape(2, 2) \n",
    "print(x)\n",
    "np.amax(x,axis=1)\n"
   ]
  },
  {
   "cell_type": "code",
   "execution_count": null,
   "metadata": {},
   "outputs": [],
   "source": []
  }
 ],
 "metadata": {
  "kernelspec": {
   "display_name": "Python 3 (ipykernel)",
   "language": "python",
   "name": "python3"
  },
  "language_info": {
   "codemirror_mode": {
    "name": "ipython",
    "version": 3
   },
   "file_extension": ".py",
   "mimetype": "text/x-python",
   "name": "python",
   "nbconvert_exporter": "python",
   "pygments_lexer": "ipython3",
   "version": "3.10.9"
  },
  "toc": {
   "colors": {
    "hover_highlight": "#DAA520",
    "running_highlight": "#FF0000",
    "selected_highlight": "#FFD700"
   },
   "moveMenuLeft": true,
   "nav_menu": {
    "height": "283px",
    "width": "252px"
   },
   "navigate_menu": true,
   "number_sections": true,
   "sideBar": true,
   "threshold": 4,
   "toc_cell": false,
   "toc_section_display": "block",
   "toc_window_display": false
  }
 },
 "nbformat": 4,
 "nbformat_minor": 2
}
