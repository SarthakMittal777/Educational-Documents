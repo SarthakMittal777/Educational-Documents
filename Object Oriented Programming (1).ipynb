{
 "cells": [
  {
   "cell_type": "markdown",
   "metadata": {},
   "source": [
    "Introduction to Object-Oriented Programming in Python :\n",
    "Object-oriented programming (OOP) is a programming paradigm that uses objects - instances of classes - to model real-world entities and concepts. In this notebook, we'll cover the basics of OOP in Python, including classes, objects, attributes, and methods.\n",
    "\n",
    "Classes:\n",
    "A class is a blueprint for creating objects. It defines a set of attributes and methods that objects of that class will have. Here's an example of a simple class in Python:"
   ]
  },
  {
   "cell_type": "code",
   "execution_count": 1,
   "metadata": {},
   "outputs": [],
   "source": [
    "class Dog:\n",
    "    def __init__(self, name, age):\n",
    "        self.name = name\n",
    "        self.age = age\n",
    "    \n",
    "    def bark(self):\n",
    "        print(\"Woof!\")"
   ]
  },
  {
   "cell_type": "markdown",
   "metadata": {},
   "source": [
    "In this example, we define a class called Dog. It has two attributes - name and age - and one method - bark().\n",
    "\n",
    "The __init__() method is a special method that gets called when an object of the class is created. It takes two arguments - name and age - and initializes the object's name and age attributes.\n",
    "\n",
    "The bark() method is a simple method that prints \"Woof!\" to the console.\n",
    "\n",
    "Objects:\n",
    "An object is an instance of a class. When you create an object, you're creating a specific instance of the class, with its own values for the class's attributes. Here's an example of creating an object of the Dog class:"
   ]
  },
  {
   "cell_type": "code",
   "execution_count": 2,
   "metadata": {},
   "outputs": [],
   "source": [
    "my_dog = Dog(\"Fido\", 3)"
   ]
  },
  {
   "cell_type": "markdown",
   "metadata": {},
   "source": [
    "In this example, we create an object of the Dog class called my_dog. We pass in two arguments to the class's __init__() method - \"Fido\" and 3 - which set the object's name and age attributes."
   ]
  },
  {
   "cell_type": "markdown",
   "metadata": {},
   "source": [
    "Attributes:\n",
    "Attributes are variables that are part of an object's state. They store information about the object. In the Dog class example, name and age are attributes. You can access an object's attributes using dot notation, like this:"
   ]
  },
  {
   "cell_type": "code",
   "execution_count": 3,
   "metadata": {},
   "outputs": [
    {
     "name": "stdout",
     "output_type": "stream",
     "text": [
      "Fido\n",
      "3\n"
     ]
    }
   ],
   "source": [
    "print(my_dog.name)  # Output: \"Fido\"\n",
    "print(my_dog.age)   # Output: 3"
   ]
  },
  {
   "cell_type": "markdown",
   "metadata": {},
   "source": [
    "Methods:\n",
    "Methods are functions that are part of an object. They can modify the object's state or perform other actions. In the Dog class example, bark() is a method. You can call an object's methods using dot notation, like this:"
   ]
  },
  {
   "cell_type": "code",
   "execution_count": 4,
   "metadata": {},
   "outputs": [
    {
     "name": "stdout",
     "output_type": "stream",
     "text": [
      "Woof!\n"
     ]
    }
   ],
   "source": [
    "my_dog.bark()"
   ]
  },
  {
   "cell_type": "markdown",
   "metadata": {},
   "source": [
    "Inheritance:\n",
    "Inheritance is a way to create a new class based on an existing class. The new class - called a subclass - inherits the attributes and methods of the existing class - called the superclass. The subclass can then add new attributes and methods or override the superclass's methods. Here's an example:"
   ]
  },
  {
   "cell_type": "code",
   "execution_count": 5,
   "metadata": {},
   "outputs": [],
   "source": [
    "class Poodle(Dog):\n",
    "    def __init__(self, name, age, color):\n",
    "        super().__init__(name, age)\n",
    "        self.color = color\n",
    "    \n",
    "    def bark(self):\n",
    "        print(\"Yap!\")"
   ]
  },
  {
   "cell_type": "markdown",
   "metadata": {},
   "source": [
    "In this example, we define a new class called Poodle that inherits from the Dog class. The Poodle class has three attributes - name, age, and color - and overrides the bark() method to print \"Yap!\" instead of \"Woof!\".\n",
    "\n",
    "The super().__init__(name, age) call in the __init__() method is a way to call the superclass's __init__() method and set the name"
   ]
  },
  {
   "cell_type": "markdown",
   "metadata": {},
   "source": [
    "multiple inheritance in Python:"
   ]
  },
  {
   "cell_type": "code",
   "execution_count": 6,
   "metadata": {},
   "outputs": [
    {
     "name": "stdout",
     "output_type": "stream",
     "text": [
      "Sparrow is chirping.\n",
      "Sparrow is eating.\n",
      "Sparrow is flying.\n"
     ]
    }
   ],
   "source": [
    "class Animal:\n",
    "    def __init__(self, name):\n",
    "        self.name = name\n",
    "\n",
    "    def eat(self):\n",
    "        print(f\"{self.name} is eating.\")\n",
    "\n",
    "class Flyer:\n",
    "    def fly(self):\n",
    "        print(f\"{self.name} is flying.\")\n",
    "class Bird(Animal, Flyer):\n",
    "    def __init__(self, name):\n",
    "        Animal.__init__(self, name)\n",
    "        Flyer.__init__(self)\n",
    "\n",
    "    def chirp(self):\n",
    "        print(f\"{self.name} is chirping.\")\n",
    "\n",
    "bird = Bird(\"Sparrow\")\n",
    "bird.chirp()  # Sparrow is chirping.\n",
    "bird.eat()  # Sparrow is eating.\n",
    "bird.fly()  # Sparrow is flying."
   ]
  },
  {
   "cell_type": "markdown",
   "metadata": {},
   "source": [
    "Q1: Create a class Person with attributes name, age, and gender. Define a method get_details() that prints the person's name, age, and gender. Create an object of this class and call the method to print the person's details."
   ]
  },
  {
   "cell_type": "markdown",
   "metadata": {},
   "source": []
  },
  {
   "cell_type": "markdown",
   "metadata": {},
   "source": [
    "Q2: Create a class Student that inherits from the Person class in the previous assignment. Add attributes roll_number, marks, and grade. Define a method get_grade() that prints the student's grade based on their marks. Create an object of this class and call the get_grade() method to print the student's grade."
   ]
  },
  {
   "cell_type": "code",
   "execution_count": null,
   "metadata": {},
   "outputs": [],
   "source": []
  },
  {
   "cell_type": "markdown",
   "metadata": {},
   "source": [
    "Q3:Create a class Shape with methods area() and perimeter(). Create three classes Rectangle, Circle, and Triangle that inherit from the Shape class and define their own area() and perimeter() methods. Create objects of each class and call their methods to calculate and print their area and perimeter."
   ]
  },
  {
   "cell_type": "code",
   "execution_count": null,
   "metadata": {},
   "outputs": [],
   "source": []
  },
  {
   "cell_type": "markdown",
   "metadata": {},
   "source": [
    "Q4:Create a class BankAccount with attributes account_number, account_holder_name, balance, and methods deposit() and withdraw(). Create an object of this class and perform some deposits and withdrawals to check the balance."
   ]
  },
  {
   "cell_type": "code",
   "execution_count": null,
   "metadata": {},
   "outputs": [],
   "source": []
  },
  {
   "cell_type": "markdown",
   "metadata": {},
   "source": [
    "Q5: Create a class Car with attributes make, model, year, and color. Define a method start() that prints a message indicating the car has started. Define a method stop() that prints a message indicating the car has stopped. Create an object of this class and call the start() and stop() methods to check if they are working properly."
   ]
  },
  {
   "cell_type": "markdown",
   "metadata": {},
   "source": [
    "Q6: Create a class Bank with a list of accounts as an attribute. Define methods add_account(), remove_account(), display_all_accounts(), and total_balance() that add a new account, remove an existing account, display all accounts, and calculate the total balance of all accounts respectively."
   ]
  },
  {
   "cell_type": "code",
   "execution_count": null,
   "metadata": {},
   "outputs": [],
   "source": []
  },
  {
   "cell_type": "markdown",
   "metadata": {},
   "source": [
    "Q7:Create a class Student with attributes name, roll_number, and marks. Define a method calculate_grade() that calculates the grade of the student based on their marks. Define another method is_passed() that returns True if the student has passed (i.e. their grade is above a certain threshold), otherwise False."
   ]
  },
  {
   "cell_type": "code",
   "execution_count": null,
   "metadata": {},
   "outputs": [],
   "source": []
  },
  {
   "cell_type": "markdown",
   "metadata": {},
   "source": [
    "Q8:Create a class Employee with attributes name, id, and salary. Define a method get_salary_raise() that takes a percentage as input and increases the salary of the employee by that percentage. Define another method display_details() that prints the details of the employee."
   ]
  },
  {
   "cell_type": "code",
   "execution_count": null,
   "metadata": {},
   "outputs": [],
   "source": []
  },
  {
   "cell_type": "markdown",
   "metadata": {},
   "source": [
    "Q9:Create a class Car with attributes make, model, year, color, and speed. Define methods accelerate() and brake() that increase or decrease the speed of the car by a certain amount. Define another method display_speed() that prints the current speed of the car."
   ]
  },
  {
   "cell_type": "markdown",
   "metadata": {},
   "source": [
    "Q10:Create a class Rectangle with attributes length and width. Define methods area() and perimeter() that calculate the area and perimeter of the rectangle respectively. Define another method is_square() that returns True if the rectangle is a square (i.e. length and width are equal), otherwise False."
   ]
  },
  {
   "cell_type": "code",
   "execution_count": null,
   "metadata": {},
   "outputs": [],
   "source": []
  }
 ],
 "metadata": {
  "kernelspec": {
   "display_name": "Python 3",
   "language": "python",
   "name": "python3"
  },
  "language_info": {
   "codemirror_mode": {
    "name": "ipython",
    "version": 3
   },
   "file_extension": ".py",
   "mimetype": "text/x-python",
   "name": "python",
   "nbconvert_exporter": "python",
   "pygments_lexer": "ipython3",
   "version": "3.7.4"
  }
 },
 "nbformat": 4,
 "nbformat_minor": 2
}
