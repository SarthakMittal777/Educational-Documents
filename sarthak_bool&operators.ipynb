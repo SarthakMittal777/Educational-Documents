{
 "cells": [
  {
   "cell_type": "code",
   "execution_count": null,
   "metadata": {},
   "outputs": [],
   "source": [
    "#Take two inputs from user and check whether they are equal or not.\n",
    "a = input(\"Enter the first number: \")\n",
    "b = input(\"Enter the second number: \")\n",
    "# if a is b: - Compares id's, and can cause inconsistencies. Use == instead.\n",
    "if a == b:\n",
    "  print(\"Both inputs are equal\")\n",
    "else:\n",
    "  print(\"Your input is not equal.\")"
   ]
  },
  {
   "cell_type": "code",
   "execution_count": null,
   "metadata": {},
   "outputs": [],
   "source": [
    "#Take 3 inputs from user and check :\n",
    "#all are equal\n",
    "#any of two are equal\n",
    "#( use and or )\n",
    "a = input(\"Enter the first number: \")\n",
    "b = input(\"Enter the second number: \")\n",
    "c = input(\"Enter the third number: \")\n",
    "d= a==b or b==c or c==a\n",
    "print(\"Any of two are equal\", d)"
   ]
  },
  {
   "cell_type": "code",
   "execution_count": null,
   "metadata": {},
   "outputs": [],
   "source": [
    "#Take two inputs from user and check whether if first is gretaer than second or not.\n",
    "a=int(input(\"enter1\"))\n",
    "b=int(input(\"enter2\"))\n",
    "if a>b:\n",
    "    print(\"a is greater than b\")\n",
    "else:\n",
    "    print(\"a is less than b\")"
   ]
  },
  {
   "cell_type": "code",
   "execution_count": null,
   "metadata": {},
   "outputs": [],
   "source": [
    "#Take two number and check whether the sum is greater than 5, less than 5 or equal to 5.\n",
    "a=int(input(\"enter1\"))\n",
    "b=int(input(\"enter2\"))\n",
    "sum=0\n",
    "sum=a+b\n",
    "if sum<5:\n",
    "    print(\"sum is less than 5\")\n",
    "elif sum>5:\n",
    "    print(\"sum is greater than 5\")\n",
    "elif sum==5:\n",
    "    print(\"sum is equal to 5\")\n",
    "else:\n",
    "    print(\"invalid input\")"
   ]
  },
  {
   "cell_type": "code",
   "execution_count": null,
   "metadata": {},
   "outputs": [],
   "source": [
    "#Suppose passing marks of a subject is 40. Take input of marks from user and check whether it is greater than passing marks or not.\n",
    "a=int(input(\"Enter Marks\"))\n",
    "if a<40:\n",
    "    print(\"fail\")\n",
    "else:\n",
    "    print(\"pass\")"
   ]
  },
  {
   "cell_type": "code",
   "execution_count": null,
   "metadata": {},
   "outputs": [],
   "source": [
    "##Take two inputs from user and check thier divisibility.\n",
    "a=int(input(\"enter1\"))\n",
    "b=int(input(\"enter2\"))\n",
    "if a%b == 0:\n",
    "    print(\"completely divisible\")\n",
    "else:\n",
    "    print(\"not completely divisible\")\n",
    "\n"
   ]
  },
  {
   "cell_type": "code",
   "execution_count": null,
   "metadata": {},
   "outputs": [],
   "source": [
    "#write a Python Program for simple interest provided by user input\n",
    "p=int(input(\"principle\"))\n",
    "r=int(input(\"rate\"))\n",
    "t=int(input(\"time\"))\n",
    "total=0\n",
    "total=((p*r*t)/100)\n",
    "print(\"for principle amount {} rate {} and time {} the value of simple interest is {}\".format(p,r,t,total))\n"
   ]
  },
  {
   "cell_type": "code",
   "execution_count": null,
   "metadata": {},
   "outputs": [],
   "source": [
    "a = int(input(\"Principal Amount: \"))\n",
    "b = float(input(\"time: \"))\n",
    "c = float(input(\"rate: \"))"
   ]
  },
  {
   "cell_type": "code",
   "execution_count": null,
   "metadata": {},
   "outputs": [],
   "source": []
  }
 ],
 "metadata": {
  "kernelspec": {
   "display_name": "Python 3",
   "language": "python",
   "name": "python3"
  },
  "language_info": {
   "name": "python",
   "version": "3.11.1"
  },
  "orig_nbformat": 4,
  "vscode": {
   "interpreter": {
    "hash": "885c4dc66f44133be1fb52203e8e99cbc069c984b4d16773daeef528bb648e87"
   }
  }
 },
 "nbformat": 4,
 "nbformat_minor": 2
}
