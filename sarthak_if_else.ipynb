{
 "cells": [
  {
   "cell_type": "code",
   "execution_count": null,
   "metadata": {},
   "outputs": [],
   "source": [
    "\n",
    "#Take values of length and breadth of a rectangle from user and check if it is square or not.\n",
    "l=int(input(\"length\"))\n",
    "b=int(input(\"breath\"))\n",
    "if l==b:\n",
    "    print(\"it is  a square\")\n",
    "else:\n",
    "    print(\"it is a rectangle\")"
   ]
  },
  {
   "cell_type": "code",
   "execution_count": null,
   "metadata": {},
   "outputs": [],
   "source": [
    "#Program to check whether a person is eligible to vote or not.\n",
    "age=int(input(\"enter the age \"))\n",
    "if age<18:\n",
    "    print(\"not eligible to vote\")\n",
    "else:\n",
    "    print(\"eligible to vote\")\n",
    "    "
   ]
  },
  {
   "cell_type": "code",
   "execution_count": null,
   "metadata": {},
   "outputs": [],
   "source": [
    "#Take input of age of 3 people by user and determine oldest and youngest among them.\n",
    "a=int(input())\n",
    "b=int(input())\n",
    "c=int(input())\n",
    "if a>b and a>c:\n",
    "    print(\"a is greatest\")\n",
    "if b>a and b>c:\n",
    "    print(\"b is greatest\")\n",
    "if c>b and c>a:\n",
    "    print(\"c is greatest\")\n",
    "if a<b and a<c:\n",
    "    print(\"a is smallest\")\n",
    "if b<a and b<c:\n",
    "    print(\"a is smallest\")\n",
    "if c<a and c<b:\n",
    "    print(\"a is smallest\")\n",
    "if a==b and a==c: \n",
    "    print(\"similar values\")\n"
   ]
  },
  {
   "cell_type": "code",
   "execution_count": null,
   "metadata": {},
   "outputs": [],
   "source": [
    "a=int(input(\"enter\"))\n",
    "print(abs(a))"
   ]
  },
  {
   "cell_type": "code",
   "execution_count": null,
   "metadata": {},
   "outputs": [],
   "source": [
    "#Modify the above question to allow student to sit if he/she has medical cause. Ask user if he/she has medical cause or not ( 'Y' or 'N' ) and print accordingly.\n",
    "a=float(input(\"enter the total number of classes held\"))\n",
    "b=float(input(\"how many classees you attended\"))\n",
    "percent=0.0\n",
    "percent=(b/a)*100\n",
    "print(percent)\n",
    "if percent<75:\n",
    "    print(\"you are not allowed to sit in your examinations\")\n",
    "else:\n",
    "    print(\"allowed\")\n",
    "c=str(input(\"do you have medical cause? Y/N\"))\n",
    "if c=='Y':\n",
    "    print(\"yes you are allowed to sit\")\n",
    "else:\n",
    "    print(\"no you are allowed to sit\")\n"
   ]
  },
  {
   "cell_type": "code",
   "execution_count": null,
   "metadata": {},
   "outputs": [],
   "source": [
    "#Write a Python program that reads two integers representing a month and day and prints the season for that month\n",
    "month = input(\"Input the month: \")\n",
    "day = int(input(\"Input the day: \"))\n",
    "\n",
    "if month in ('January', 'February', 'March'):\n",
    "\tseason = 'winter'\n",
    "elif month in ('April', 'May', 'June'):\n",
    "\tseason = 'spring'\n",
    "elif month in ('July', 'August', 'September'):\n",
    "\tseason = 'summer'\n",
    "else:\n",
    "\tseason = 'autumn'\n",
    "\n",
    "if (month == 'March') and (day > 19):\n",
    "\tseason = 'spring'\n",
    "elif (month == 'June') and (day > 20):\n",
    "\tseason = 'summer'\n",
    "elif (month == 'September') and (day > 21):\n",
    "\tseason = 'autumn'\n",
    "elif (month == 'December') and (day > 20):\n",
    "\tseason = 'winter'\n",
    "\n",
    "print(\"Season is\",season)"
   ]
  },
  {
   "cell_type": "code",
   "execution_count": null,
   "metadata": {},
   "outputs": [],
   "source": [
    "# Write a Python program to check a triangle is equilateral, isosceles or scalene.\n",
    "#WAP to check triangle is equilateral, isosceles or scalene.\n",
    "\n",
    "print(\"Input lengths of the triangle sides: \")\n",
    "x = int(input(\"x =\"))\n",
    "y = int(input(\"y =\"))\n",
    "z = int(input(\"z =\"))\n",
    "\n",
    "if x == y == z:\n",
    "\tprint(\"Equilateral triangle\")\n",
    "elif x == y or y == z or z == x:\n",
    "\tprint(\"isosceles triangle\")\n",
    "else:\n",
    "\tprint(\"Scalene triangle\")\n"
   ]
  },
  {
   "cell_type": "code",
   "execution_count": null,
   "metadata": {},
   "outputs": [],
   "source": [
    "#A shop will give discount of 10% if the cost of purchased quantity is more than 1000.\n",
    "#Ask user for quantity\n",
    "#Suppose, one unit will cost 100.\n",
    "#print total cost for user.\n",
    "qty = int(input(\"Enter the quantity\"))\n",
    "cost = 100*qty\n",
    "if cost > 1000:\n",
    "    print(\"Total cost for user =\", cost)\n",
    "    cost = cost*0.1\n",
    "    print(\"Total cost to be paid after discount =\", cost)\n",
    "else:\n",
    "    cost = cost\n",
    "    print(\"Total cost for user =\", cost)\n",
    "# for qty=20, cost=2000, cost paid=200"
   ]
  },
  {
   "cell_type": "code",
   "execution_count": null,
   "metadata": {},
   "outputs": [],
   "source": [
    "#Write a python program to find out the Area of rectangle or triangle.\n",
    "# Write a python program to find out the Area of rectangle or triangle.\n",
    "type_ = input(\"rectangle or triangle: \").lower()\n",
    "if type_ == \"rectangle\":\n",
    "    x = int(input(\"Enter the length:\"))\n",
    "    y = int(input(\"Enter the breadth:\"))\n",
    "    area = x*y\n",
    "    print(\"Area of rectangle is\", area, \"sq units\")\n",
    "elif type_ == \"triangle\":\n",
    "    b = int(input(\"Enter the base\"))\n",
    "    h = int(input(\"Enter the height\"))\n",
    "    area = 0.5*b*h\n",
    "    print(\"Area of triangle is\", area, \"sq units\")\n",
    "else:\n",
    "    print(\"I don't know that one.\")\n",
    "\n",
    "# for rectangle x=2 and y=4 : area =8\n"
   ]
  },
  {
   "cell_type": "code",
   "execution_count": null,
   "metadata": {},
   "outputs": [],
   "source": [
    "#Write a Python program to check whether an alphabet is a vowel or consonant.\n",
    "# Write a Python program to check whether an alphabet is a vowel or consonant.\n",
    "a = input(\"Enter alphabet\")\n",
    "if a in ('a', 'e', 'i', 'o', 'u'):\n",
    "    print(\"It is a vowel\")\n",
    "else:\n",
    "    print(\"It is consonant\")\n",
    "# for a=i\n"
   ]
  }
 ],
 "metadata": {
  "kernelspec": {
   "display_name": "Python 3",
   "language": "python",
   "name": "python3"
  },
  "language_info": {
   "name": "python",
   "version": "3.11.1"
  },
  "orig_nbformat": 4,
  "vscode": {
   "interpreter": {
    "hash": "885c4dc66f44133be1fb52203e8e99cbc069c984b4d16773daeef528bb648e87"
   }
  }
 },
 "nbformat": 4,
 "nbformat_minor": 2
}
