{
 "cells": [
  {
   "cell_type": "code",
   "execution_count": null,
   "metadata": {},
   "outputs": [],
   "source": [
    "#Write a Python program to create a set\n",
    "a={1,2,3}\n",
    "print(a)"
   ]
  },
  {
   "cell_type": "code",
   "execution_count": null,
   "metadata": {},
   "outputs": [],
   "source": [
    "#Return a set that contains the items that only exist in set y, and not in set x:\n",
    "a={1,2,3,4}\n",
    "b={1,2,4,5,3}\n",
    "x=a.intersection(b)\n",
    "for i in x:\n",
    "    b.discard(i)\n",
    "\n",
    "print(b)"
   ]
  },
  {
   "cell_type": "code",
   "execution_count": null,
   "metadata": {},
   "outputs": [],
   "source": [
    "#Compare 3 sets, and return a set with items that is present in all 3 sets:\n",
    "a={1,2,3}\n",
    "b={1,2,3,4,5}\n",
    "c={1,2,3,4,5,6,7,8,9}\n",
    "y=a.intersection(b,c)\n",
    "print(y)"
   ]
  },
  {
   "cell_type": "code",
   "execution_count": null,
   "metadata": {},
   "outputs": [],
   "source": [
    "#What if no items are present in both sets?\n",
    "a={1,23,3}\n",
    "b={1,2,3}\n",
    "x=len(a)\n",
    "y=len(b)\n",
    "if x==0 and y==0:\n",
    "    print(\"true\")\n",
    "else:\n",
    "    print(\"false\")\n",
    "#Return False if one ore more items are present in both sets:Try it yourself"
   ]
  },
  {
   "cell_type": "code",
   "execution_count": null,
   "metadata": {},
   "outputs": [],
   "source": [
    "#Write a Python program to add member(s) in a set\n",
    "a={1,2,3,34,44,5}\n",
    "a.update(2)\n",
    "print(a)"
   ]
  },
  {
   "cell_type": "code",
   "execution_count": null,
   "metadata": {},
   "outputs": [],
   "source": [
    "#Write a Python program to remove an item from a set if it is present in the set\n",
    "a={1,2,33,45,6,75,33}\n",
    "a.discard(2)\n",
    "print(a)"
   ]
  },
  {
   "cell_type": "code",
   "execution_count": null,
   "metadata": {},
   "outputs": [],
   "source": [
    "#Write a Python program to check if a given value is present in a set or not.\n",
    "#given a set\n",
    "a={1,2,3,4,5}\n",
    "c=int(input(\"which value to be searched \"))\n",
    "for i in a:\n",
    "    if i==c:\n",
    "        return True\n",
    "    else:\n",
    "        return False"
   ]
  },
  {
   "cell_type": "code",
   "execution_count": null,
   "metadata": {},
   "outputs": [],
   "source": [
    "#Write a Python program to check if two given sets have no elements in common.\n",
    "a={1,2,3,4,5,6,7,8} \n",
    "b={2,4,5,6,4}\n",
    "y=a.intersection(b)\n",
    "print(y)"
   ]
  },
  {
   "cell_type": "code",
   "execution_count": null,
   "metadata": {},
   "outputs": [],
   "source": [
    "#Write a Python program to find maximum and the minimum value in a set.\n",
    "a={1,2,3,4,8,65,43}\n",
    "y=max(a)\n",
    "z=min(a)\n",
    "print(y,z)\n",
    "#hint: Use max(set) and min(Set)"
   ]
  },
  {
   "cell_type": "code",
   "execution_count": null,
   "metadata": {},
   "outputs": [],
   "source": [
    "#Write a Python program to check if a given set is subset of itself and subset of another given set\n",
    "#Hint: Use <\n",
    "a={1,2,3}\n",
    "b={1,2,3}\n",
    "c={1,2,3}\n",
    "y=a.intersection(b,c)"
   ]
  },
  {
   "cell_type": "code",
   "execution_count": null,
   "metadata": {},
   "outputs": [],
   "source": [
    "dict"
   ]
  },
  {
   "cell_type": "code",
   "execution_count": null,
   "metadata": {},
   "outputs": [],
   "source": [
    "#Write a Python script to add a key to a dictionary.\n",
    "a={\"sam\":\"student\",\"san\":\"student1\"}\n",
    "a[\"ady\"]=\"student2\"\n",
    "print(a)"
   ]
  },
  {
   "cell_type": "code",
   "execution_count": null,
   "metadata": {},
   "outputs": [],
   "source": [
    "#Write a Python script to concatenate following dictionaries to create a new one\n",
    "a={\"sam\":\"student\",\"san\":\"student1\"}\n",
    "b={\"sm\":\"student34\",\"sn\":\"student123\"}\n",
    "y=a.append(b)\n",
    "print(y)"
   ]
  },
  {
   "cell_type": "code",
   "execution_count": null,
   "metadata": {},
   "outputs": [],
   "source": [
    "#Write a Python script to check whether a given key already exists in a dictionary.\n",
    "#Write a Python script to concatenate following dictionaries to create a new one\n",
    "a={\"sam\":\"student\",\"san\":\"student1\"}\n",
    "key=\"sam\"\n",
    "for i,j in a.items():\n",
    "    print(i,j)\n",
    "    if i==key:\n",
    "        print(\"yes\")\n",
    "    "
   ]
  },
  {
   "cell_type": "code",
   "execution_count": null,
   "metadata": {},
   "outputs": [],
   "source": [
    "#Write a Python script to print a dictionary where the keys are numbers between 1 and 15 (both included) and the values are cube of keys.\n",
    "import math\n",
    "a={1:pow(1,3),2:pow(2,3),3:pow(3,3),4:pow(4,3),5:pow(5,3),6:pow(6,3),7:pow(7,3),8:pow(8,3),9:pow(9,3),10:pow(10,3),11:pow(11,3),12:pow(12,3),13:pow(13,3),14:pow(14,3),15:pow(15,3)}\n",
    "print(a)"
   ]
  },
  {
   "cell_type": "code",
   "execution_count": null,
   "metadata": {},
   "outputs": [],
   "source": [
    " #Write a Python program to multiply all the items in a dictionary.\n",
    " a={1:pow(1,3),2:pow(2,3),3:pow(3,3),4:pow(4,3)}\n",
    " a=1\n",
    " b=1\n",
    " for i,j in a.items():\n",
    "     a=a*i\n",
    "     b=b*j\n",
    "print(a)\n",
    "print(b)"
   ]
  },
  {
   "cell_type": "code",
   "execution_count": null,
   "metadata": {},
   "outputs": [],
   "source": [
    "#Write a Python program to convert two lists into a dictionary\n",
    "\n",
    "# Python3 code to demonstrate\n",
    "# conversion of lists to dictionary\n",
    "# using naive method\n",
    " \n",
    "# initializing lists\n",
    "test_keys = [\"Rash\", \"Kil\", \"Varsha\"]\n",
    "test_values = [1, 4, 5]\n",
    " \n",
    "# Printing original keys-value lists\n",
    "print(\"Original key list is : \" + str(test_keys))\n",
    "print(\"Original value list is : \" + str(test_values))\n",
    " \n",
    "# using naive method\n",
    "# to convert lists to dictionary\n",
    "res = {}\n",
    "for key in test_keys:\n",
    "    for value in test_values:\n",
    "        res[key] = value\n",
    "        test_values.remove(value)\n",
    "        break\n",
    " \n",
    "# Printing resultant dictionary\n",
    "print(\"Resultant dictionary is : \" + str(res))"
   ]
  },
  {
   "cell_type": "code",
   "execution_count": null,
   "metadata": {},
   "outputs": [],
   "source": [
    "#Rename key city to location in the following dictionary\n",
    "sampleDict = {\n",
    "  \"name\": \"Kelly\",\n",
    "  \"age\":25,\n",
    "  \"salary\": 8000,\n",
    "  \"city\": \"New york\"\n",
    "}\n",
    "sampleDict[\"city\"] = \"london\"\n",
    "print(sampleDict)"
   ]
  },
  {
   "cell_type": "code",
   "execution_count": null,
   "metadata": {},
   "outputs": [],
   "source": [
    "inventory = {\n",
    "    'gold' : 500,\n",
    "    'pouch' : ['flint', 'twine', 'gemstone'],\n",
    "    'backpack' : ['xylophone','dagger', 'bedroll','bread loaf']\n",
    "}\n",
    "inventory[\"pocket\"]=['seashell', 'strange berry', 'lint']\n",
    "print(inventory)\n",
    "for i,j in inventory.items():\n",
    "j.sort()\n",
    "j,discard\n",
    "\n",
    "\n",
    "#Add a key to inventory called 'pocket'.\n",
    "#Set the value of 'pocket' to be a list consisting of the strings 'seashell', 'strange berry', and 'lint'.\n",
    "#.sort()the items in the list stored under the 'backpack' key.\n",
    "#Then .remove('dagger') from the list of items stored under the 'backpack' key.\n",
    "#Add 50 to the number stored under the 'gold' key."
   ]
  },
  {
   "cell_type": "code",
   "execution_count": null,
   "metadata": {},
   "outputs": [],
   "source": [
    "end of doc"
   ]
  }
 ],
 "metadata": {
  "kernelspec": {
   "display_name": "Python 3",
   "language": "python",
   "name": "python3"
  },
  "language_info": {
   "name": "python",
   "version": "3.11.1"
  },
  "orig_nbformat": 4,
  "vscode": {
   "interpreter": {
    "hash": "885c4dc66f44133be1fb52203e8e99cbc069c984b4d16773daeef528bb648e87"
   }
  }
 },
 "nbformat": 4,
 "nbformat_minor": 2
}
