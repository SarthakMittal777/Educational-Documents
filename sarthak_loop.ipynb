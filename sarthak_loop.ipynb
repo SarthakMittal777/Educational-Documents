{
 "cells": [
  {
   "cell_type": "code",
   "execution_count": null,
   "metadata": {},
   "outputs": [],
   "source": [
    "#Write a python program with for loop to iterate over a list using range()\n",
    "#genralised\n",
    "a=[]\n",
    "n=int(input(\"enter the number of itrations you want to\"))\n",
    "for i in range(0,n):\n",
    "    ft=int(input(\"enter the elements:\"))\n",
    "    a.append(ft)\n",
    "print(a)\n",
    "for j in a:\n",
    "    print(j)"
   ]
  },
  {
   "cell_type": "code",
   "execution_count": 1,
   "metadata": {},
   "outputs": [
    {
     "name": "stdout",
     "output_type": "stream",
     "text": [
      "54321\n",
      "4321\n",
      "321\n",
      "21\n",
      "1\n"
     ]
    }
   ],
   "source": [
    "#pattern code \n",
    "#pattern code \n",
    "n=int(input(\"enter the value of n\"))\n",
    "count=n\n",
    "for i in range(0,n):\n",
    "    for j in range(n-i,0,-1):\n",
    "        print(j,end=\"\")\n",
    "    print()\n",
    "\n"
   ]
  },
  {
   "cell_type": "code",
   "execution_count": null,
   "metadata": {},
   "outputs": [],
   "source": [
    "#Write a Python Program to print Cubes of all numbers present in a list\n",
    "#Write a python program with for loop to iterate over a list using range()\n",
    "#genralised\n",
    "a=[]\n",
    "n=int(input(\"enter the number of itrations you want to\"))\n",
    "for i in range(0,n):\n",
    "    ft=int(input(\"enter the elements:\"))\n",
    "    a.append(ft)\n",
    "print(a)\n",
    "for j in a:\n",
    "    print(j)"
   ]
  },
  {
   "cell_type": "code",
   "execution_count": null,
   "metadata": {},
   "outputs": [],
   "source": [
    "#Generates a list of 5 values starting from 1 ***\")\n",
    "c=[]\n",
    "for i in range(1,6):\n",
    "    c.append(i)\n",
    "print(c)\n",
    "\n"
   ]
  },
  {
   "cell_type": "code",
   "execution_count": null,
   "metadata": {},
   "outputs": [],
   "source": [
    "#Write a Python program that prints all the numbers from 0 to 6 except 3 and 6.\n",
    "#Hint:Use continue\n",
    "c=[]\n",
    "for i in range(1,7):\n",
    "    if i==3:\n",
    "        continue\n",
    "    else:\n",
    "        c.append(i)\n",
    "    \n",
    "print(c)\n"
   ]
  },
  {
   "cell_type": "code",
   "execution_count": null,
   "metadata": {},
   "outputs": [],
   "source": [
    " #Write a Python Program to print the Product of first 10 natural numbers\n",
    "pro=1\n",
    "c=[]\n",
    "for i in range(1,11):\n",
    "    pro=pro*i\n",
    "print(pro)"
   ]
  },
  {
   "cell_type": "code",
   "execution_count": null,
   "metadata": {},
   "outputs": [],
   "source": [
    "#Write a Python program to display all the elements before number 71 in the list [11, 9, 77, 10, 90, 3, 19]\n",
    "#Hint: break\n",
    "a=[11, 9, 77, 10, 90, 3, 19]\n",
    "c=[]\n",
    "for i in a:\n",
    "    print(i)\n",
    "    c.append(i)\n",
    "    if i>=71:\n",
    "        break\n",
    "print(c)"
   ]
  },
  {
   "cell_type": "code",
   "execution_count": null,
   "metadata": {},
   "outputs": [],
   "source": [
    "#Accept number from user and calculate the sum of all number between 1 and given number\n",
    "a=[]\n",
    "n=int(input(\"enter the number of numbers\"))\n",
    "for i in range(n):\n",
    "    ls=int(input(\"ENTER\"))\n",
    "    a.append(ls)\n",
    "sum=0\n",
    "for j in a:\n",
    "    sum+=j\n",
    "print(sum)\n",
    "\n",
    "    "
   ]
  },
  {
   "cell_type": "code",
   "execution_count": null,
   "metadata": {},
   "outputs": [],
   "source": [
    "#Print multiplication table of given number(from user)\n",
    "n=int(input(\"enter the number\"))\n",
    "for i in range(1,11):\n",
    "    print(n, \"X\", i, \"=\", n*i)"
   ]
  },
  {
   "cell_type": "code",
   "execution_count": null,
   "metadata": {},
   "outputs": [],
   "source": [
    "# Given a list iterate it and display numbers which are divisible by 5\n",
    "a=[5,10,15,20,3,4]\n",
    "c=[]\n",
    "for i in a:\n",
    "    if(i % 5 ==0):\n",
    "        c.append(i)\n",
    "print(c)"
   ]
  },
  {
   "cell_type": "code",
   "execution_count": null,
   "metadata": {},
   "outputs": [],
   "source": [
    "#Given a list iterate it and display numbers which are divisible by 5 and if you find number greater than 150 stop the loop iteration\n",
    "a=[5,10,251,15,20,3,4]\n",
    "c=[]\n",
    "for i in a:\n",
    "    if(i % 5 ==0):\n",
    "        c.append(i)\n",
    "    if i>150:\n",
    "        break\n",
    "print(c)\n"
   ]
  },
  {
   "cell_type": "code",
   "execution_count": null,
   "metadata": {},
   "outputs": [],
   "source": [
    "#Display -10 to -1 using for loop\n",
    "for i in range(-10,0):\n",
    "    print(i)"
   ]
  },
  {
   "cell_type": "code",
   "execution_count": null,
   "metadata": {},
   "outputs": [],
   "source": [
    "# Python Program to Calculate Sum of Even Numbers from 1 to N(from user)\n",
    "a=[]\n",
    "n=int(input(\"enter the number of itrations you want to\"))\n",
    "for i in range(0,n):\n",
    "    ft=int(input(\"enter the elements:\"))\n",
    "    a.append(ft)\n",
    "sum=0\n",
    "for j in a:\n",
    "    if j%2==0:\n",
    "        sum =sum+j\n",
    "print(sum)\n"
   ]
  },
  {
   "cell_type": "code",
   "execution_count": null,
   "metadata": {},
   "outputs": [],
   "source": [
    "#Write a python program to read three numbers(a,b,c) and check how many numbers between ‘a’ and ‘b’ are divisible by ‘c’\n",
    "a=int(input(\"enter the initial number\"))\n",
    "b=int(input(\"enter the final number\"))\n",
    "c=int(input(\"enter the nuber to check divisiblity\"))\n",
    "count=0\n",
    "for i in range(a,b+1):\n",
    "    if i%c==0:\n",
    "        count=count+1\n",
    "print(count)\n"
   ]
  }
 ],
 "metadata": {
  "kernelspec": {
   "display_name": "Python 3",
   "language": "python",
   "name": "python3"
  },
  "language_info": {
   "codemirror_mode": {
    "name": "ipython",
    "version": 3
   },
   "file_extension": ".py",
   "mimetype": "text/x-python",
   "name": "python",
   "nbconvert_exporter": "python",
   "pygments_lexer": "ipython3",
   "version": "3.11.2"
  },
  "orig_nbformat": 4,
  "vscode": {
   "interpreter": {
    "hash": "885c4dc66f44133be1fb52203e8e99cbc069c984b4d16773daeef528bb648e87"
   }
  }
 },
 "nbformat": 4,
 "nbformat_minor": 2
}
