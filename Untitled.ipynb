{
 "cells": [
  {
   "cell_type": "code",
   "execution_count": 1,
   "id": "74673f01-1721-4bfe-b703-22e7d69dc5f8",
   "metadata": {},
   "outputs": [
    {
     "name": "stdout",
     "output_type": "stream",
     "text": [
      "hello\n"
     ]
    }
   ],
   "source": [
    "print(\"hello\")"
   ]
  },
  {
   "cell_type": "code",
   "execution_count": 3,
   "id": "bbca8492-91d0-4d96-b9b2-0a8bd715af4c",
   "metadata": {},
   "outputs": [],
   "source": [
    "import pandas as pd\n",
    "import numpy as np"
   ]
  },
  {
   "cell_type": "code",
   "execution_count": 8,
   "id": "22e15f4d-8acf-42fc-8cac-c865b5fadb4b",
   "metadata": {},
   "outputs": [],
   "source": [
    "dict2={\"names\":[\"harry\",\"shubh\",\"gau\"],\n",
    "      \"marks\":[30,40,50],\"city\":[\"banglore\",\"karnataka\",\"raipur\"]}"
   ]
  },
  {
   "cell_type": "code",
   "execution_count": 9,
   "id": "9165f1ef-0e69-481f-b305-0613ed6cad83",
   "metadata": {},
   "outputs": [],
   "source": [
    "df=pd.DataFrame(dict2)"
   ]
  },
  {
   "cell_type": "code",
   "execution_count": 10,
   "id": "e895e8e2-c593-407f-9fbd-fb5e7e643813",
   "metadata": {},
   "outputs": [
    {
     "name": "stdout",
     "output_type": "stream",
     "text": [
      "   names  marks       city\n",
      "0  harry     30   banglore\n",
      "1  shubh     40  karnataka\n",
      "2    gau     50     raipur\n"
     ]
    }
   ],
   "source": [
    "print(df)"
   ]
  },
  {
   "cell_type": "code",
   "execution_count": 12,
   "id": "5263b4e0-3b4f-431a-9a05-68c2e82b9034",
   "metadata": {},
   "outputs": [],
   "source": [
    "df.to_csv(\"names.csv\")"
   ]
  },
  {
   "cell_type": "code",
   "execution_count": 14,
   "id": "c088ec0e-50dc-4a7e-8812-3255be6b5a84",
   "metadata": {},
   "outputs": [],
   "source": [
    "df.to_csv(\"inames.csv\",index=False)"
   ]
  },
  {
   "cell_type": "code",
   "execution_count": 15,
   "id": "f9bb0547-d905-4756-87ff-4435f388ea32",
   "metadata": {},
   "outputs": [
    {
     "data": {
      "text/html": [
       "<div>\n",
       "<style scoped>\n",
       "    .dataframe tbody tr th:only-of-type {\n",
       "        vertical-align: middle;\n",
       "    }\n",
       "\n",
       "    .dataframe tbody tr th {\n",
       "        vertical-align: top;\n",
       "    }\n",
       "\n",
       "    .dataframe thead th {\n",
       "        text-align: right;\n",
       "    }\n",
       "</style>\n",
       "<table border=\"1\" class=\"dataframe\">\n",
       "  <thead>\n",
       "    <tr style=\"text-align: right;\">\n",
       "      <th></th>\n",
       "      <th>marks</th>\n",
       "    </tr>\n",
       "  </thead>\n",
       "  <tbody>\n",
       "    <tr>\n",
       "      <th>count</th>\n",
       "      <td>3.0</td>\n",
       "    </tr>\n",
       "    <tr>\n",
       "      <th>mean</th>\n",
       "      <td>40.0</td>\n",
       "    </tr>\n",
       "    <tr>\n",
       "      <th>std</th>\n",
       "      <td>10.0</td>\n",
       "    </tr>\n",
       "    <tr>\n",
       "      <th>min</th>\n",
       "      <td>30.0</td>\n",
       "    </tr>\n",
       "    <tr>\n",
       "      <th>25%</th>\n",
       "      <td>35.0</td>\n",
       "    </tr>\n",
       "    <tr>\n",
       "      <th>50%</th>\n",
       "      <td>40.0</td>\n",
       "    </tr>\n",
       "    <tr>\n",
       "      <th>75%</th>\n",
       "      <td>45.0</td>\n",
       "    </tr>\n",
       "    <tr>\n",
       "      <th>max</th>\n",
       "      <td>50.0</td>\n",
       "    </tr>\n",
       "  </tbody>\n",
       "</table>\n",
       "</div>"
      ],
      "text/plain": [
       "       marks\n",
       "count    3.0\n",
       "mean    40.0\n",
       "std     10.0\n",
       "min     30.0\n",
       "25%     35.0\n",
       "50%     40.0\n",
       "75%     45.0\n",
       "max     50.0"
      ]
     },
     "execution_count": 15,
     "metadata": {},
     "output_type": "execute_result"
    }
   ],
   "source": [
    "df.describe()"
   ]
  },
  {
   "cell_type": "code",
   "execution_count": 23,
   "id": "bdf70ee9-52b5-44b3-9600-92227b34e70e",
   "metadata": {},
   "outputs": [],
   "source": [
    "s=pd.read_csv(r\"C:\\Users\\mitta\\Pandas\\Book3.csv\")"
   ]
  },
  {
   "cell_type": "code",
   "execution_count": 24,
   "id": "cc246548-8a80-4b9b-a3bc-b62b47405369",
   "metadata": {},
   "outputs": [
    {
     "name": "stdout",
     "output_type": "stream",
     "text": [
      "   Voltage  Current\n",
      "0     2.64      473\n",
      "1     3.96      773\n",
      "2     5.10      973\n",
      "3     5.59     1073\n",
      "4     6.26     1173\n",
      "5     6.69     1273\n",
      "6     7.91     1400\n",
      "7     8.21     1473\n",
      "8     9.67     1673\n"
     ]
    }
   ],
   "source": [
    "print(s)"
   ]
  },
  {
   "cell_type": "code",
   "execution_count": 33,
   "id": "984142d1-78fc-4390-a0db-15af33cbbb18",
   "metadata": {},
   "outputs": [],
   "source": [
    "s.index=[\"ds\",\"sa\",\"as\",\"sa\",\"ef\",\"sdf\",\"fds\",\"dsf\",\"sfd\"]"
   ]
  },
  {
   "cell_type": "code",
   "execution_count": 47,
   "id": "701b03a9-cac2-4c9b-8498-4c34a16be8bb",
   "metadata": {},
   "outputs": [
    {
     "name": "stdout",
     "output_type": "stream",
     "text": [
      "     Voltage  Current\n",
      "ds      2.64      473\n",
      "sa      3.96      773\n",
      "as      5.10      973\n",
      "sa      5.59     1073\n",
      "ef      6.26     1173\n",
      "sdf     6.69     1273\n",
      "fds     7.91     1400\n",
      "dsf     8.21     1473\n",
      "sfd     9.67     1673\n"
     ]
    }
   ],
   "source": [
    "print(s)"
   ]
  },
  {
   "cell_type": "code",
   "execution_count": 52,
   "id": "b03a63f8-fe6d-4de2-8332-d756f63b736c",
   "metadata": {
    "tags": []
   },
   "outputs": [
    {
     "name": "stdout",
     "output_type": "stream",
     "text": [
      "\n",
      "\n",
      "\n"
     ]
    }
   ],
   "source": [
    "print()\n",
    "print()\n",
    "print()"
   ]
  },
  {
   "cell_type": "code",
   "execution_count": 51,
   "id": "3c82e446-b52e-4bb3-972f-54d810d509f5",
   "metadata": {},
   "outputs": [
    {
     "name": "stdout",
     "output_type": "stream",
     "text": [
      "\n",
      "\n"
     ]
    }
   ],
   "source": []
  },
  {
   "cell_type": "code",
   "execution_count": null,
   "id": "cf60fc6b-09b2-499e-ba13-6d5d34df3c5c",
   "metadata": {},
   "outputs": [],
   "source": []
  }
 ],
 "metadata": {
  "kernelspec": {
   "display_name": "Python 3 (ipykernel)",
   "language": "python",
   "name": "python3"
  },
  "language_info": {
   "codemirror_mode": {
    "name": "ipython",
    "version": 3
   },
   "file_extension": ".py",
   "mimetype": "text/x-python",
   "name": "python",
   "nbconvert_exporter": "python",
   "pygments_lexer": "ipython3",
   "version": "3.9.13"
  }
 },
 "nbformat": 4,
 "nbformat_minor": 5
}
