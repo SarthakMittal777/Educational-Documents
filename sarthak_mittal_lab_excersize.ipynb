{
 "cells": [
  {
   "cell_type": "code",
   "execution_count": null,
   "metadata": {},
   "outputs": [],
   "source": [
    "#Write a Python program to Multiply all numbers in the list\n",
    "a=[1,2,3,4,5,6,7,8,9,10,11,12]\n",
    "total=1\n",
    "for i in a:\n",
    "    total=total*i\n",
    "print(total)\n",
    "    "
   ]
  },
  {
   "cell_type": "code",
   "execution_count": null,
   "metadata": {},
   "outputs": [],
   "source": [
    "#Write a Python program to Python program to find largest number in a list\n",
    "#list given \n",
    "a=[]\n",
    "n=int(input(\"Enter number of elements\"))\n",
    "for i in range(1,n+1):\n",
    "    b=int(input(\"Enter element\"))\n",
    "    a.append(b)\n",
    "a.sort()\n",
    "print(\"Largest element is\",a[n-1])"
   ]
  },
  {
   "cell_type": "code",
   "execution_count": null,
   "metadata": {},
   "outputs": [],
   "source": [
    "#Write a Python program to Python program to find second largest number in a list \n",
    "a=[]\n",
    "n=int(input(\"enter thr value of n\"))\n",
    "for i in range(0,n):\n",
    "    b=int(input(\"Enter element\"))\n",
    "    a.append(b)\n",
    "print(a[n-2])"
   ]
  },
  {
   "cell_type": "code",
   "execution_count": null,
   "metadata": {},
   "outputs": [],
   "source": [
    "#Python program to print even numbers in a list\n",
    "a=[1,2,3,4,5,6,7,8,9,10]\n",
    "for i in a:\n",
    "    if(i%2==0):\n",
    "        print(i)"
   ]
  },
  {
   "cell_type": "code",
   "execution_count": null,
   "metadata": {},
   "outputs": [],
   "source": [
    "#Python program to print odd numbers in a list\n",
    "a=[1,2,3,4,5,6,7,8,9,10]\n",
    "for i in a:\n",
    "    if(i%2==1):\n",
    "        print(i)"
   ]
  },
  {
   "cell_type": "code",
   "execution_count": null,
   "metadata": {},
   "outputs": [],
   "source": [
    "#Python program to count Odd numbers in a List\n",
    "a=[1,2,3,4,5,6,7,8,9,10]\n",
    "count=0\n",
    "for i in a:\n",
    "    if(i%2==1):\n",
    "        count+=1\n",
    "print(count)"
   ]
  },
  {
   "cell_type": "code",
   "execution_count": null,
   "metadata": {},
   "outputs": [],
   "source": [
    "#Python program to count Odd numbers in a List\n",
    "a=[1,2,3,4,5,6,7,8,9,10]\n",
    "count=0\n",
    "for i in a:\n",
    "    if(i%2==0):\n",
    "        count+=1\n",
    "print(count)"
   ]
  },
  {
   "cell_type": "code",
   "execution_count": null,
   "metadata": {},
   "outputs": [],
   "source": [
    "## Python program to count Even and Odd numbers in a List \n",
    "a=[1,2,3,4,5,6,7,8,9,10]\n",
    "counte=0\n",
    "counto=0\n",
    "for i in a:\n",
    "    if(i%2==0):\n",
    "        counte+=1\n",
    "    if(1%2==1):\n",
    "        counto+=1\n",
    "print(counte)\n",
    "print(counto)"
   ]
  },
  {
   "cell_type": "code",
   "execution_count": null,
   "metadata": {},
   "outputs": [],
   "source": [
    "# Python program to print Negative Numbers in a List \n",
    "a=[-1,-2,-3,-4,-5,-6,-7,-8,-9,-10,-11]\n",
    "for i in a:\n",
    "    if(i<0):\n",
    "        print(i)"
   ]
  },
  {
   "cell_type": "code",
   "execution_count": null,
   "metadata": {},
   "outputs": [],
   "source": [
    "#Write a Python program to create a tuple with different data types\n",
    "a=(1,\"a\",\"sarthak\",-1,8.9,0.7)\n",
    "print(a)"
   ]
  },
  {
   "cell_type": "code",
   "execution_count": null,
   "metadata": {},
   "outputs": [],
   "source": [
    "#Write a Python program to create a tuple with numbers and print one item.\n",
    "a=(1,2,3,4,4,54,5,5)\n",
    "print(a[3])"
   ]
  },
  {
   "cell_type": "code",
   "execution_count": null,
   "metadata": {},
   "outputs": [],
   "source": [
    "#Write a Python program to add an item in a tuple.\\\n",
    "a=()\n",
    "a.append(\"sa\")\n",
    "print(a)"
   ]
  },
  {
   "cell_type": "code",
   "execution_count": null,
   "metadata": {},
   "outputs": [],
   "source": [
    "#Write a Python program to check whether an element exists within a tuple.\n",
    "a=(1,2,3,4,5,6,7,8,9,10)\n",
    "n=int(input(\"which element to check\"))\n",
    "for i in a:\n",
    "    if(i==n):\n",
    "        print(\"Checked\")"
   ]
  },
  {
   "cell_type": "code",
   "execution_count": null,
   "metadata": {},
   "outputs": [],
   "source": [
    "#Write a Python program to convert a list to a tuple. \n",
    "#Write a Python program to check whether an element exists within a tuple.\n",
    "a=[1,2,3,4,5,6,7,8,9,10]\n",
    "b=()\n",
    "b=a\n",
    "print(b)"
   ]
  },
  {
   "cell_type": "code",
   "execution_count": null,
   "metadata": {},
   "outputs": [],
   "source": [
    "#Write a Python program to remove an item from a tuple.\n",
    "#Write a Python program to check whether an element exists within a tuple.\n",
    "a=(1,2,3,4,5,6,7,8,9,10)\n",
    "del(a[2])\n",
    "print(a)"
   ]
  },
  {
   "cell_type": "code",
   "execution_count": null,
   "metadata": {},
   "outputs": [],
   "source": [
    "#Write a Python program to reverse a tuple\n",
    "def Reverse(tuples):\n",
    "    new_tup = tuples[::-1]\n",
    "    return new_tup\n",
    "     \n",
    "# Driver Code\n",
    "tuples = ('z','a','d','f','g','e','e','k')\n",
    "print(Reverse(tuples))"
   ]
  },
  {
   "cell_type": "code",
   "execution_count": null,
   "metadata": {},
   "outputs": [],
   "source": [
    "#Write a Python program to slice a tuple. \n",
    "a=(1,233,4,55,6)\n",
    "a[0:2]"
   ]
  },
  {
   "cell_type": "code",
   "execution_count": null,
   "metadata": {},
   "outputs": [],
   "source": [
    "#Write a Python Program to Packing and Unpacking the Tuple\n",
    "a=(1,2,3)\n",
    "c,d,e=a\n",
    "print(c,d,e)"
   ]
  },
  {
   "cell_type": "code",
   "execution_count": null,
   "metadata": {},
   "outputs": [],
   "source": [
    "#Write a Python Program to find the largest element in tuple\n",
    "a = (3, 78, 67, 34, 88, 11, 23, 19)\n",
    "print(\"Tuple Items = \", a)\n",
    "\n",
    "print(\"Largest Item in mxTuple Tuple = \", max(a))"
   ]
  },
  {
   "cell_type": "code",
   "execution_count": null,
   "metadata": {},
   "outputs": [],
   "source": [
    "#Write a Python Program to find the sum of all element in tuple (Hint: sum())\n",
    "def summ(k):\n",
    "    sum=0\n",
    "    for i in k:\n",
    "        sum+=i\n",
    "    return sum\n",
    "\n",
    "a=(1,2,3,4,5,6,7,8,9,10,11)\n",
    "print(summ(a))\n",
    "\n"
   ]
  }
 ],
 "metadata": {
  "kernelspec": {
   "display_name": "Python 3",
   "language": "python",
   "name": "python3"
  },
  "language_info": {
   "name": "python",
   "version": "3.11.1"
  },
  "orig_nbformat": 4,
  "vscode": {
   "interpreter": {
    "hash": "885c4dc66f44133be1fb52203e8e99cbc069c984b4d16773daeef528bb648e87"
   }
  }
 },
 "nbformat": 4,
 "nbformat_minor": 2
}
