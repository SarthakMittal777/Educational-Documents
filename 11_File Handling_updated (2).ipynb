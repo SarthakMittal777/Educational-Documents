{
 "cells": [
  {
   "cell_type": "markdown",
   "metadata": {},
   "source": [
    "# Steps to process file Input/output in Python:\n",
    "\n",
    "Step 1. Open the file : Opening a file creates a connection between the file and the program.\n",
    "\n",
    "Step 2. Process the file : In this step data is either written to the file (if it is an output file) or read from the file (if it is an input file).\n",
    "\n",
    "Step 3. Close the file : When the program is finished using the file, the file must be closed. Closing a file disconnects the file from the program\n"
   ]
  },
  {
   "cell_type": "markdown",
   "metadata": {},
   "source": [
    "# Python File Handling Operations:\n",
    "\n",
    "•\tOpen\n",
    "\n",
    "•\tRead\n",
    "\n",
    "•\tWrite\n",
    "\n",
    "•\tClose\n",
    "\n",
    "\n",
    "\n",
    "Other operations include:\n",
    "\n",
    "•\tRename\n",
    "\n",
    "•\tDelete\n"
   ]
  },
  {
   "cell_type": "markdown",
   "metadata": {},
   "source": [
    "# Open() Function:\n",
    "The open function is used in Python to open a file. The open function returns a file object and associates it with a file on the disk.\n",
    "\n",
    "Here is the general format:\n",
    "\n",
    "variable = open(filename, mode)\n"
   ]
  },
  {
   "cell_type": "markdown",
   "metadata": {},
   "source": [
    "# File Access Modes:\n",
    "The following table shows different access modes we can use while opening a file in Python.\n",
    "Mode\tDescription\n",
    "\n",
    "r\t       It opens an existing file to read-only mode. The file pointer exists at the beginning.\n",
    "\n",
    "rb\t         It opens the file to read-only in binary format. The file pointer exists at the beginning.\n",
    "\n",
    "r+\t      It opens the file to read and write both. The file pointer exists at the beginning.\n",
    "\n",
    "rb+\t     It opens the file to read and write both in binary format. The file pointer exists at the beginning of the file.\n",
    "\n",
    "w\t    It opens the file to write only. It overwrites the file if previously exists or creates a new one if no file exists with the same name.\n",
    "\n",
    "wb\t    It opens the file to write only in binary format. It overwrites the file if it exists previously or creates a new one if no file exists.\n",
    "\n",
    "w+\t    It opens the file to write and read data. It will override existing data.\n",
    "\n",
    "wb+\t    It opens the file to write and read both in binary format\n",
    "\n",
    "a\t    It opens the file in the append mode. It will not override existing data. It creates a new file if no file exists with the same name.\n",
    "\n",
    "ab\t   It opens the file in the append mode in binary format.\n",
    "\n",
    "a+\t   It opens a file to append and read both.\n",
    "\n",
    "ab+\t   It opens a file to append and read both in binary format.\n"
   ]
  },
  {
   "cell_type": "code",
   "execution_count": 2,
   "metadata": {},
   "outputs": [],
   "source": [
    "#f = open(\"C:/Users/notes.txt\",\"r\")\n",
    "f = open(\"C:/Users/notes.txt\",\"r\")\n",
    "\n",
    "\n",
    "\n",
    "#Note: Make sure the file exists, or else you will get an error."
   ]
  },
  {
   "cell_type": "markdown",
   "metadata": {},
   "source": [
    "# read()"
   ]
  },
  {
   "cell_type": "code",
   "execution_count": 3,
   "metadata": {},
   "outputs": [
    {
     "name": "stdout",
     "output_type": "stream",
     "text": [
      "abcd\n"
     ]
    }
   ],
   "source": [
    "#The read() method for reading the content of the file:\n",
    "print(f.read())"
   ]
  },
  {
   "cell_type": "code",
   "execution_count": 5,
   "metadata": {},
   "outputs": [
    {
     "name": "stdout",
     "output_type": "stream",
     "text": [
      "ab\n"
     ]
    }
   ],
   "source": [
    "#Read Only Parts of the File\n",
    "#By default the read() method returns the whole text, but you can also specify how many characters you want to return:\n",
    "\n",
    "#Return the 5 first characters of the file:\n",
    "f = open(\"C:/Users/notes.txt\",\"r\")\n",
    "\n",
    "print(f.read(2))"
   ]
  },
  {
   "cell_type": "markdown",
   "metadata": {},
   "source": [
    "# readlines()"
   ]
  },
  {
   "cell_type": "code",
   "execution_count": 8,
   "metadata": {},
   "outputs": [
    {
     "name": "stdout",
     "output_type": "stream",
     "text": [
      "abcd\n",
      "\n"
     ]
    }
   ],
   "source": [
    "#Read Lines\n",
    "#You can return one line by using the readline() method:\n",
    "f = open(\"C:/Users/notes.txt\",\"r\")\n",
    "\n",
    "#Read one line of the file:\n",
    "print(f.readline())"
   ]
  },
  {
   "cell_type": "code",
   "execution_count": 10,
   "metadata": {},
   "outputs": [
    {
     "name": "stdout",
     "output_type": "stream",
     "text": [
      "abcd\n",
      "\n",
      "xsxaxasd\n",
      "\n"
     ]
    }
   ],
   "source": [
    "#Read two lines of the file:\n",
    "f = open(\"C:/Users/notes.txt\",\"r\")\n",
    "print(f.readline())\n",
    "print(f.readline())"
   ]
  },
  {
   "cell_type": "code",
   "execution_count": 11,
   "metadata": {},
   "outputs": [
    {
     "name": "stdout",
     "output_type": "stream",
     "text": [
      "abcd\n",
      "\n"
     ]
    }
   ],
   "source": [
    "#Close the file when you are finish with it:\n",
    "\n",
    "f = open(\"C:/Users/notes.txt\",\"r\")\n",
    "print(f.readline())\n",
    "f.close()"
   ]
  },
  {
   "cell_type": "code",
   "execution_count": 13,
   "metadata": {},
   "outputs": [
    {
     "name": "stdout",
     "output_type": "stream",
     "text": [
      "abc\n"
     ]
    }
   ],
   "source": [
    "f = open(\"C:/Users/notes.txt\",\"r\")\n",
    "print(f.readline(3))\n",
    "f.close()"
   ]
  },
  {
   "cell_type": "markdown",
   "metadata": {},
   "source": [
    "# write()"
   ]
  },
  {
   "cell_type": "code",
   "execution_count": 14,
   "metadata": {},
   "outputs": [
    {
     "name": "stdout",
     "output_type": "stream",
     "text": [
      "abcd\n",
      "xsxaxasd\n",
      "sdqsd\n",
      "dqwdwd\n",
      "fef\n",
      "dfdfdf\n",
      "afee2\n",
      "dger\n",
      "3\n",
      "wfwefr\n",
      "\n",
      "Now the file has more content!\n"
     ]
    }
   ],
   "source": [
    "#Python File Write\n",
    "#Write to an Existing File\n",
    "#To write to an existing file, you must add a parameter to the open() function:\n",
    "\n",
    "#\"a\" - Append - will append to the end of the file\n",
    "\n",
    "#\"w\" - Write - will overwrite any existing content\n",
    "\n",
    "#Open the file and append content to the file:\n",
    "\n",
    "f = open(\"C:/Users/notes.txt\",\"a\")\n",
    "f.write(\"\\nNow the file has more content!\")\n",
    "f.close()\n",
    "\n",
    "#open and read the file after the appending:\n",
    "f = open(\"C:/Users/notes.txt\",\"r\")\n",
    "print(f.read())"
   ]
  },
  {
   "cell_type": "code",
   "execution_count": 15,
   "metadata": {},
   "outputs": [
    {
     "name": "stdout",
     "output_type": "stream",
     "text": [
      "abcd\n",
      "xsxaxasd\n",
      "sdqsd\n",
      "dqwdwd\n",
      "fef\n",
      "dfdfdf\n",
      "afee2\n",
      "dger\n",
      "3\n",
      "wfwefr\n",
      "\n",
      "Now the file has more content!\n"
     ]
    }
   ],
   "source": [
    "#Open the file and overwrite the content:\n",
    "\n",
    "f = open(\"C:/Users/notes.txt\", \"r\")\n",
    "print(f.read())"
   ]
  },
  {
   "cell_type": "code",
   "execution_count": 17,
   "metadata": {},
   "outputs": [
    {
     "name": "stdout",
     "output_type": "stream",
     "text": [
      "Woops! I have deleted the content!\n"
     ]
    }
   ],
   "source": [
    "f = open(\"C:/Users/notes.txt\", \"w\")\n",
    "f.write(\"Woops! I have deleted the content!\")\n",
    "f.close()\n",
    "\n",
    "#open and read the file after the appending:\n",
    "f = open(\"C:/Users/notes.txt\", \"r\")\n",
    "print(f.read())"
   ]
  },
  {
   "cell_type": "markdown",
   "metadata": {},
   "source": [
    "# Create a New File\n"
   ]
  },
  {
   "cell_type": "code",
   "execution_count": 18,
   "metadata": {},
   "outputs": [],
   "source": [
    "#To create a new file in Python, use the open() method, with one of the following parameters:\n",
    "\n",
    "#\"x\" - Create - will create a file, returns an error if the file exist\n",
    "\n",
    "#\"a\" - Append - will create a file if the specified file does not exist\n",
    "\n",
    "#\"w\" - Write - will create a file if the specified file does not exist\n",
    "\n",
    "#Create a file called \"myfile.txt\":\n",
    "\n",
    "f = open(\"C:/Users/New2.txt\", \"x\")\n",
    "f.write(\"NEW FILE\")\n",
    "f.close()"
   ]
  },
  {
   "cell_type": "code",
   "execution_count": 19,
   "metadata": {},
   "outputs": [
    {
     "name": "stdout",
     "output_type": "stream",
     "text": [
      "NEW FILE\n"
     ]
    }
   ],
   "source": [
    "f = open(\"C:/Users/New2.txt\", \"r\")\n",
    "\n",
    "print(f.read())"
   ]
  },
  {
   "cell_type": "code",
   "execution_count": 20,
   "metadata": {},
   "outputs": [],
   "source": [
    "f.close()"
   ]
  },
  {
   "cell_type": "markdown",
   "metadata": {},
   "source": [
    "# Delete a file"
   ]
  },
  {
   "cell_type": "markdown",
   "metadata": {},
   "source": [
    "To delete a file, you must import the OS module, and run its os.remove() function:\n",
    "\n"
   ]
  },
  {
   "cell_type": "code",
   "execution_count": null,
   "metadata": {},
   "outputs": [],
   "source": [
    "import os\n",
    "os.remove(\"C:/Users/NIDHI ASTHANA/Desktop/PYTHON/New2.txt\")\n"
   ]
  },
  {
   "cell_type": "markdown",
   "metadata": {},
   "source": [
    "# \tWrite a list of lines into a file using writelines() "
   ]
  },
  {
   "cell_type": "code",
   "execution_count": 21,
   "metadata": {},
   "outputs": [],
   "source": [
    "file = open(\"C:/Users/ABC.txt\", \"x\")\n",
    "\n",
    "# Define a list of lines\n",
    "lines = [\"This is the first line.\\n\", \"This is the second line.\\n\", \"\\n\", \"This is the fourth line.\\n\"]\n",
    "\n",
    "    # Write the lines to the file using writelines()\n",
    "file.writelines(lines)"
   ]
  },
  {
   "cell_type": "code",
   "execution_count": 22,
   "metadata": {},
   "outputs": [
    {
     "name": "stdout",
     "output_type": "stream",
     "text": [
      "This is the first line.\n",
      "This is the second line.\n",
      "\n",
      "This is the fourth line.\n",
      "\n"
     ]
    }
   ],
   "source": [
    "file = open(\"C:/Users/ABC.txt\", \"r\")\n",
    "\n",
    "print(file.read())"
   ]
  },
  {
   "cell_type": "markdown",
   "metadata": {},
   "source": [
    "# Write a python script to count the number of lines from a text file which is not starting with an alphabet \"T\"."
   ]
  },
  {
   "cell_type": "code",
   "execution_count": 24,
   "metadata": {},
   "outputs": [
    {
     "name": "stdout",
     "output_type": "stream",
     "text": [
      "Number of lines not starting with 'T': 1\n"
     ]
    }
   ],
   "source": [
    "file = open(\"C:/Users/notes.txt\",\"r\")\n",
    "count = 0\n",
    "for line in file:\n",
    "    if line[0] != 'T':\n",
    "        count += 1\n",
    "print(f\"Number of lines not starting with 'T': {count}\")\n"
   ]
  },
  {
   "cell_type": "markdown",
   "metadata": {},
   "source": [
    "# Write a python script to delete the specified line giving the line number from the text file."
   ]
  },
  {
   "cell_type": "code",
   "execution_count": 26,
   "metadata": {},
   "outputs": [
    {
     "name": "stdout",
     "output_type": "stream",
     "text": [
      "line1\n",
      "line2\n",
      "line3\n"
     ]
    }
   ],
   "source": [
    "f = open(\"C:/Users/line.txt\", \"r\")\n",
    "print(f.read())"
   ]
  },
  {
   "cell_type": "code",
   "execution_count": 28,
   "metadata": {},
   "outputs": [
    {
     "name": "stdout",
     "output_type": "stream",
     "text": [
      "Line number to be deleted: 2\n"
     ]
    }
   ],
   "source": [
    "f = open(\"C:/Users/line.txt\",\"r\")\n",
    "lines = f.readlines()\n",
    "linenumber=int(input(\"Line number to be deleted: \"))\n",
    "del lines[linenumber - 1]\n",
    "f = open(\"C:/Users/line.txt\",\"w\")\n",
    "f.writelines(lines)\n"
   ]
  },
  {
   "cell_type": "code",
   "execution_count": 31,
   "metadata": {},
   "outputs": [],
   "source": [
    "f = open(\"C:/Users/line.txt\",\"w\")\n",
    "f.writelines(lines)\n"
   ]
  },
  {
   "cell_type": "code",
   "execution_count": 33,
   "metadata": {},
   "outputs": [
    {
     "name": "stdout",
     "output_type": "stream",
     "text": [
      "line1\n",
      "line3\n"
     ]
    }
   ],
   "source": [
    "New = open(\"C:/Users/line.txt\",\"r\")\n",
    "print(New.read())\n"
   ]
  },
  {
   "cell_type": "markdown",
   "metadata": {},
   "source": [
    "# Lab Exercise"
   ]
  },
  {
   "cell_type": "code",
   "execution_count": null,
   "metadata": {},
   "outputs": [],
   "source": [
    "#Write a Python program to read an entire text file"
   ]
  },
  {
   "cell_type": "code",
   "execution_count": null,
   "metadata": {},
   "outputs": [],
   "source": [
    "#Write a Python program to read first 9 lines of a file"
   ]
  },
  {
   "cell_type": "code",
   "execution_count": null,
   "metadata": {},
   "outputs": [],
   "source": [
    "#Write a Python program to append text to a file and display the text"
   ]
  },
  {
   "cell_type": "code",
   "execution_count": null,
   "metadata": {},
   "outputs": [],
   "source": [
    "#Write a Python program to count the number of lines in a text file\n",
    "#Write a Python program to count the number of lines in a text file\n",
    "\n",
    "filename = \"myfile.txt\"\n",
    "line_count = 0\n",
    "\n",
    "file = open(filename, 'r')\n",
    "for line in file:\n",
    "    line_count += 1\n",
    "\n",
    "file.close()\n",
    "\n",
    "print(\"The file\", filename, \"has\", line_count, \"lines.\")\n"
   ]
  },
  {
   "cell_type": "code",
   "execution_count": null,
   "metadata": {},
   "outputs": [],
   "source": [
    "#Write a Python program to combine each line from first file with the corresponding line in second file.\n",
    "#Hint:Zip\n",
    "file1 = \"file1.txt\"\n",
    "file2 = \"file2.txt\"\n",
    "outfile = \"combined.txt\"\n",
    "\n",
    "f1 = open(file1, 'r')\n",
    "f2 = open(file2, 'r')\n",
    "out = open(outfile, 'w')\n",
    "\n",
    "for line1, line2 in zip(f1, f2):\n",
    "    out.write(line1.strip() + \" \" + line2.strip() + \"\\n\")\n",
    "\n",
    "f1.close()\n",
    "f2.close()\n",
    "out.close()\n"
   ]
  },
  {
   "cell_type": "code",
   "execution_count": null,
   "metadata": {},
   "outputs": [],
   "source": [
    "#wordcount\n",
    "filename = \"myfile.txt\"\n",
    "word_count = 0\n",
    "\n",
    "file = open(filename, 'r')\n",
    "\n",
    "for line in file:\n",
    "    words = line.split()\n",
    "    word_count += len(words)\n",
    "\n",
    "file.close()\n",
    "\n",
    "print(\"The file\", filename, \"has\", word_count, \"words.\")\n"
   ]
  },
  {
   "cell_type": "code",
   "execution_count": null,
   "metadata": {},
   "outputs": [],
   "source": [
    "#Python Program to Print the Contents of File in Reverse Order\n",
    "#Hint:reversed, rstrip\n",
    "filename = \"myfile.txt\"\n",
    "\n",
    "file = open(filename, 'r')\n",
    "lines = file.readlines()\n",
    "file.close()\n",
    "\n",
    "for line in reversed(lines):\n",
    "    print(line.rstrip())\n"
   ]
  },
  {
   "cell_type": "code",
   "execution_count": null,
   "metadata": {},
   "outputs": [],
   "source": [
    "\n",
    "\n",
    "filename = \"myfile.txt\"\n",
    "char_count = 0\n",
    "word_count = 0\n",
    "line_count = 0\n",
    "\n",
    "file = open(filename, 'r')\n",
    "\n",
    "for line in file:\n",
    "    line_count += 1\n",
    "    word_count += len(line.split())\n",
    "    char_count += len(line)\n",
    "\n",
    "file.close()\n",
    "\n",
    "print(\"The file\", filename, \"has\", char_count, \"characters,\", word_count, \"words, and\", line_count, \"lines.\")\n"
   ]
  },
  {
   "cell_type": "code",
   "execution_count": null,
   "metadata": {},
   "outputs": [],
   "source": [
    "#Write a Python program to read a file and find the longest word in it.\n",
    "filename = \"myfile.txt\"\n",
    "longest_word = \"\"\n",
    "\n",
    "file = open(filename, 'r')\n",
    "\n",
    "for line in file:\n",
    "    words = line.strip().split()\n",
    "    for word in words:\n",
    "        if len(word) > len(longest_word):\n",
    "            longest_word = word\n",
    "\n",
    "file.close()\n",
    "\n",
    "print(\"The longest word in the file\", filename, \"is:\", longest_word)\n"
   ]
  },
  {
   "cell_type": "code",
   "execution_count": null,
   "metadata": {},
   "outputs": [],
   "source": [
    "#Write a Python program to read a file and convert all the words in it to uppercase.\n",
    "\n",
    "filename = \"myfile.txt\"\n",
    "\n",
    "file = open(filename, 'r')\n",
    "contents = file.read()\n",
    "file.close()\n",
    "\n",
    "uppercase_contents = contents.upper()\n",
    "\n",
    "print(\"Contents of file\", filename, \"in uppercase:\\n\", uppercase_contents)\n"
   ]
  },
  {
   "cell_type": "code",
   "execution_count": null,
   "metadata": {},
   "outputs": [],
   "source": [
    "#Write a Python program to read a file and convert all the words in it to lowercase."
   ]
  },
  {
   "cell_type": "code",
   "execution_count": null,
   "metadata": {},
   "outputs": [],
   "source": [
    "#Write a Python program to read a file and replace all occurrences of a given word with another word.\n"
   ]
  },
  {
   "cell_type": "markdown",
   "metadata": {},
   "source": [
    "# Try and Except"
   ]
  },
  {
   "cell_type": "markdown",
   "metadata": {},
   "source": [
    "we’ll attempt to use the open() function to open a file which exists on my local machine. If it works, the code runs and no exception is returned and no error is displayed."
   ]
  },
  {
   "cell_type": "markdown",
   "metadata": {},
   "source": [
    "If we repeat that process by attempting to run open() on a file called missing.txt that does not exist, Python will throw or “raise” an exception."
   ]
  },
  {
   "cell_type": "markdown",
   "metadata": {},
   "source": [
    "A try/except block wraps up the call to the open() command in a try statement. Python will try to run the code and, if it works, the contents of the file will be stored in the file variable and File exists will be printed. If it fails, except will run and raise an Exception which prints File does not exist."
   ]
  },
  {
   "cell_type": "code",
   "execution_count": 38,
   "metadata": {},
   "outputs": [
    {
     "name": "stdout",
     "output_type": "stream",
     "text": [
      "File does not exist <class 'Exception'>\n"
     ]
    }
   ],
   "source": [
    "try:\n",
    "    file = open('C:/Users/NIDHI ASTHANA/Desktop/PYTHON/missing.txt')\n",
    "    print('File exists')\n",
    "except Exception:\n",
    "    print('File does not exist',Exception)"
   ]
  },
  {
   "cell_type": "markdown",
   "metadata": {},
   "source": [
    "There are a wide number of common Python exception types that you can incorporate into your code to catch specific exceptions by their type and then change the program flow accordingly, or show more useful error messages."
   ]
  },
  {
   "cell_type": "code",
   "execution_count": 35,
   "metadata": {},
   "outputs": [
    {
     "name": "stdout",
     "output_type": "stream",
     "text": [
      "File does not exist\n"
     ]
    }
   ],
   "source": [
    "try:\n",
    "    file =open('C:/Users/NIDHI ASTHANA/Desktop/PYTHON/missing.txt')\n",
    "    print('File exists')\n",
    "except FileNotFoundError:\n",
    "    print('File does not exist')\n",
    "except Exception:\n",
    "    print('An error occurred')"
   ]
  },
  {
   "cell_type": "code",
   "execution_count": 36,
   "metadata": {},
   "outputs": [
    {
     "name": "stdout",
     "output_type": "stream",
     "text": [
      "Variable x is not defined\n"
     ]
    }
   ],
   "source": [
    "#Print one message if the try block raises a NameError and another for other errors:\n",
    "\n",
    "try:\n",
    "  print(x)\n",
    "except NameError:\n",
    "  print(\"Variable x is not defined\")\n",
    "except:\n",
    "  print(\"Something else went wrong\")"
   ]
  },
  {
   "cell_type": "markdown",
   "metadata": {},
   "source": [
    "# Else\n",
    "You can use the else keyword to define a block of code to be executed if no errors were raised:"
   ]
  },
  {
   "cell_type": "code",
   "execution_count": 37,
   "metadata": {},
   "outputs": [
    {
     "name": "stdout",
     "output_type": "stream",
     "text": [
      "Hello\n",
      "Nothing went wrong\n"
     ]
    }
   ],
   "source": [
    "try:\n",
    "  print(\"Hello\")\n",
    "except:\n",
    "  print(\"Something went wrong\")\n",
    "else:\n",
    "  print(\"Nothing went wrong\")"
   ]
  },
  {
   "cell_type": "markdown",
   "metadata": {},
   "source": [
    "Exceptions: Exceptions are raised when the program is syntactically correct, but the code resulted in an error. "
   ]
  },
  {
   "cell_type": "markdown",
   "metadata": {},
   "source": [
    "# Different types of exceptions in python:\n",
    "\n",
    "    SyntaxError: This exception is raised when the interpreter encounters a syntax error in the code, such as a misspelled keyword, a missing colon, or an unbalanced parenthesis.\n",
    "\n",
    "    TypeError: This exception is raised when an operation or function is applied to an object of the wrong type, such as adding a string to an integer.\n",
    "\n",
    "    NameError: This exception is raised when a variable or function name is not found in the current scope.\n",
    "\n",
    "    IndexError: This exception is raised when an index is out of range for a list, tuple, or other sequence type.\n",
    "\n",
    "    KeyError: This exception is raised when a key is not found in a dictionary.\n",
    "\n",
    "    ValueError: This exception is raised when a function or method is called with an invalid argument or input, such as trying to convert a string to an integer when the string does not represent a valid integer.\n",
    "\n",
    "    AttributeError: This exception is raised when an attribute or method is not found on an object, such as trying to access a non-existent attribute of a class instance.\n",
    "\n",
    "    IOError: This exception is raised when an I/O operation, such as reading or writing a file, fails due to an input/output error.\n",
    "\n",
    "    ZeroDivisionError: This exception is raised when an attempt is made to divide a number by zero.\n",
    "\n",
    "    ImportError: This exception is raised when an import statement fails to find or load a module."
   ]
  },
  {
   "cell_type": "code",
   "execution_count": 7,
   "metadata": {},
   "outputs": [
    {
     "name": "stdout",
     "output_type": "stream",
     "text": [
      "Error: can't find file or read data\n"
     ]
    }
   ],
   "source": [
    "#This example tries to open a file where you do not have write permission, so it raises an exception \n",
    "try:\n",
    "    fh = open(\"testfile\", \"r\")\n",
    "    fh.write(\"This is my test file for exception handling!!\")\n",
    "except IOError:\n",
    "    print (\"Error: can\\'t find file or read data\")\n",
    "else:\n",
    "    print (\"Written content in the file successfully\")"
   ]
  },
  {
   "cell_type": "code",
   "execution_count": 8,
   "metadata": {},
   "outputs": [
    {
     "name": "stdout",
     "output_type": "stream",
     "text": [
      "How old are you? 5+\n",
      "That does not look like a valid age.\n"
     ]
    }
   ],
   "source": [
    "try:\n",
    "    age = int(input(\"How old are you? \"))\n",
    "    if age >= 18:\n",
    "        print(\"You are old enough to vote.\")\n",
    "    else:\n",
    "        print(\"You are not old enough to vote yet.\")\n",
    "except ValueError:\n",
    "    print(\"That does not look like a valid age.\")"
   ]
  },
  {
   "cell_type": "code",
   "execution_count": null,
   "metadata": {},
   "outputs": [],
   "source": []
  },
  {
   "cell_type": "code",
   "execution_count": null,
   "metadata": {},
   "outputs": [],
   "source": []
  },
  {
   "cell_type": "code",
   "execution_count": null,
   "metadata": {},
   "outputs": [],
   "source": [
    "#Write a Python program that attempts to open a file that does not exist, and then handles the resulting exception.\n",
    "\n"
   ]
  },
  {
   "cell_type": "code",
   "execution_count": null,
   "metadata": {},
   "outputs": [],
   "source": []
  },
  {
   "cell_type": "code",
   "execution_count": null,
   "metadata": {},
   "outputs": [],
   "source": []
  },
  {
   "cell_type": "code",
   "execution_count": null,
   "metadata": {},
   "outputs": [],
   "source": []
  }
 ],
 "metadata": {
  "kernelspec": {
   "display_name": "Python 3",
   "language": "python",
   "name": "python3"
  },
  "language_info": {
   "codemirror_mode": {
    "name": "ipython",
    "version": 3
   },
   "file_extension": ".py",
   "mimetype": "text/x-python",
   "name": "python",
   "nbconvert_exporter": "python",
   "pygments_lexer": "ipython3",
   "version": "3.7.4"
  }
 },
 "nbformat": 4,
 "nbformat_minor": 4
}
