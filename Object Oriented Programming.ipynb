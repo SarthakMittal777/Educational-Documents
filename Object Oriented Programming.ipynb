{
 "cells": [
  {
   "cell_type": "markdown",
   "metadata": {},
   "source": [
    "Introduction to Object-Oriented Programming in Python :\n",
    "Object-oriented programming (OOP) is a programming paradigm that uses objects - instances of classes - to model real-world entities and concepts. In this notebook, we'll cover the basics of OOP in Python, including classes, objects, attributes, and methods.\n",
    "\n",
    "Classes:\n",
    "A class is a blueprint for creating objects. It defines a set of attributes and methods that objects of that class will have. Here's an example of a simple class in Python:"
   ]
  },
  {
   "cell_type": "code",
   "execution_count": 1,
   "metadata": {},
   "outputs": [],
   "source": [
    "class Dog:\n",
    "    def __init__(self, name, age):\n",
    "        self.name = name\n",
    "        self.age = age\n",
    "    \n",
    "    def bark(self):\n",
    "        print(\"Woof!\")"
   ]
  },
  {
   "cell_type": "markdown",
   "metadata": {},
   "source": [
    "In this example, we define a class called Dog. It has two attributes - name and age - and one method - bark().\n",
    "\n",
    "The __init__() method is a special method that gets called when an object of the class is created. It takes two arguments - name and age - and initializes the object's name and age attributes.\n",
    "\n",
    "The bark() method is a simple method that prints \"Woof!\" to the console.\n",
    "\n",
    "Objects:\n",
    "An object is an instance of a class. When you create an object, you're creating a specific instance of the class, with its own values for the class's attributes. Here's an example of creating an object of the Dog class:"
   ]
  },
  {
   "cell_type": "code",
   "execution_count": 2,
   "metadata": {},
   "outputs": [],
   "source": [
    "my_dog = Dog(\"Fido\", 3)"
   ]
  },
  {
   "cell_type": "markdown",
   "metadata": {},
   "source": [
    "In this example, we create an object of the Dog class called my_dog. We pass in two arguments to the class's __init__() method - \"Fido\" and 3 - which set the object's name and age attributes."
   ]
  },
  {
   "cell_type": "markdown",
   "metadata": {},
   "source": [
    "Attributes:\n",
    "Attributes are variables that are part of an object's state. They store information about the object. In the Dog class example, name and age are attributes. You can access an object's attributes using dot notation, like this:"
   ]
  },
  {
   "cell_type": "code",
   "execution_count": 3,
   "metadata": {},
   "outputs": [
    {
     "name": "stdout",
     "output_type": "stream",
     "text": [
      "Fido\n",
      "3\n"
     ]
    }
   ],
   "source": [
    "print(my_dog.name)  # Output: \"Fido\"\n",
    "print(my_dog.age)   # Output: 3"
   ]
  },
  {
   "cell_type": "markdown",
   "metadata": {},
   "source": [
    "Methods:\n",
    "Methods are functions that are part of an object. They can modify the object's state or perform other actions. In the Dog class example, bark() is a method. You can call an object's methods using dot notation, like this:"
   ]
  },
  {
   "cell_type": "code",
   "execution_count": 4,
   "metadata": {},
   "outputs": [
    {
     "name": "stdout",
     "output_type": "stream",
     "text": [
      "Woof!\n"
     ]
    }
   ],
   "source": [
    "my_dog.bark()"
   ]
  },
  {
   "cell_type": "markdown",
   "metadata": {},
   "source": [
    "Inheritance:\n",
    "Inheritance is a way to create a new class based on an existing class. The new class - called a subclass - inherits the attributes and methods of the existing class - called the superclass. The subclass can then add new attributes and methods or override the superclass's methods. Here's an example:"
   ]
  },
  {
   "cell_type": "code",
   "execution_count": 5,
   "metadata": {},
   "outputs": [],
   "source": [
    "class Poodle(Dog):\n",
    "    def __init__(self, name, age, color):\n",
    "        super().__init__(name, age)\n",
    "        self.color = color\n",
    "    \n",
    "    def bark(self):\n",
    "        print(\"Yap!\")"
   ]
  },
  {
   "cell_type": "markdown",
   "metadata": {},
   "source": [
    "In this example, we define a new class called Poodle that inherits from the Dog class. The Poodle class has three attributes - name, age, and color - and overrides the bark() method to print \"Yap!\" instead of \"Woof!\".\n",
    "\n",
    "The super().__init__(name, age) call in the __init__() method is a way to call the superclass's __init__() method and set the name"
   ]
  },
  {
   "cell_type": "markdown",
   "metadata": {},
   "source": [
    "multiple inheritance in Python:"
   ]
  },
  {
   "cell_type": "code",
   "execution_count": 6,
   "metadata": {},
   "outputs": [
    {
     "name": "stdout",
     "output_type": "stream",
     "text": [
      "Sparrow is chirping.\n",
      "Sparrow is eating.\n",
      "Sparrow is flying.\n"
     ]
    }
   ],
   "source": [
    "class Animal:\n",
    "    def __init__(self, name):\n",
    "        self.name = name\n",
    "\n",
    "    def eat(self):\n",
    "        print(f\"{self.name} is eating.\")\n",
    "\n",
    "class Flyer:\n",
    "    def fly(self):\n",
    "        print(f\"{self.name} is flying.\")\n",
    "class Bird(Animal, Flyer):\n",
    "    def __init__(self, name):\n",
    "        Animal.__init__(self, name)\n",
    "        Flyer.__init__(self)\n",
    "\n",
    "    def chirp(self):\n",
    "        print(f\"{self.name} is chirping.\")\n",
    "\n",
    "bird = Bird(\"Sparrow\")\n",
    "bird.chirp()  # Sparrow is chirping.\n",
    "bird.eat()  # Sparrow is eating.\n",
    "bird.fly()  # Sparrow is flying."
   ]
  },
  {
   "cell_type": "markdown",
   "metadata": {},
   "source": [
    "Q1: Create a class Person with attributes name, age, and gender. Define a method get_details() that prints the person's name, age, and gender. Create an object of this class and call the method to print the person's details."
   ]
  },
  {
   "cell_type": "code",
   "execution_count": null,
   "metadata": {},
   "outputs": [],
   "source": [
    "class Person:\n",
    "    name=\"sarthak\"\n",
    "    age=19\n",
    "    gender=\"M\"\n",
    "    def get_details(self,name,gender,age):\n",
    "        print(f\"his name is {self.name} and his {self.age} and {self.gender}\")\n",
    "a=Person()\n",
    "a.get_details(\"sarhak\",\"M\",19)\n"
   ]
  },
  {
   "cell_type": "markdown",
   "metadata": {},
   "source": []
  },
  {
   "cell_type": "markdown",
   "metadata": {},
   "source": [
    "Q2: Create a class Student that inherits from the Person class in the previous assignment. Add attributes roll_number, marks, and grade. Define a method get_grade() that prints the student's grade based on their marks. Create an object of this class and call the get_grade() method to print the student's grade."
   ]
  },
  {
   "cell_type": "code",
   "execution_count": null,
   "metadata": {},
   "outputs": [],
   "source": [
    "class Person:\n",
    "    name=\"sarthak\"\n",
    "    age=19\n",
    "    gender=\"M\"\n",
    "    def get_details(self,name,gender,age):\n",
    "        print(f\"his name is {self.name} and his {self.age} and {self.gender}\")\n",
    "class Student(Person):\n",
    "    roll_number=int()\n",
    "    marks=0\n",
    "    grade=\"\"\n",
    "    def get_grade(self,roll_number,marks,grade):\n",
    "        print(f\"his {self.roll_number} and his {self.marks} and his {self.grade}\")\n",
    "        \n",
    "a=Student()\n",
    "a.get_grade(12,34,\"B\")"
   ]
  },
  {
   "cell_type": "markdown",
   "metadata": {},
   "source": [
    "Q3:Create a class Shape with methods area() and perimeter(). Create three classes Rectangle, Circle, and Triangle that inherit from the Shape class and define their own area() and perimeter() methods. Create objects of each class and call their methods to calculate and print their area and perimeter."
   ]
  },
  {
   "cell_type": "code",
   "execution_count": null,
   "metadata": {},
   "outputs": [],
   "source": [
    "class Shape:\n",
    "    def rarea(self,l,b):\n",
    "        print(self.l * self.b)\n",
    "    def oarea(self,radius):\n",
    "        print(3.14 * self.radius * self.radius)\n",
    "    def tarea(self,base,hight):\n",
    "        print(0.5 * self.base * self.hight)\n",
    "    def rperi(self,l,b):\n",
    "        print(2*(self.l + self.b))\n",
    "    def operi(self,radius):\n",
    "        print(2*3.14*self.radius)\n",
    "    def t(self,s1,s2,s3):\n",
    "        print(self.s1+self.s2+self.s3)\n",
    "    \n",
    "        \n",
    "class Rectangle(Shape):\n",
    "    def area():\n",
    "        rarea()\n",
    "    def peri():\n",
    "        rperi()\n",
    "class Circle(Shape):\n",
    "    def carea():\n",
    "        oarea()\n",
    "    def cperi():\n",
    "        rperi()\n",
    "class Triangle(Shape):\n",
    "    def trarea():\n",
    "        tarea()\n",
    "    def trperi():\n",
    "        tperi()\n",
    "\n",
    "        \n",
    "rect=Rectangle()\n",
    "rect.l=78\n",
    "rect.b=89\n",
    "\n",
    "    \n",
    "        "
   ]
  },
  {
   "cell_type": "markdown",
   "metadata": {},
   "source": [
    "Q4:Create a class BankAccount with attributes account_number, account_holder_name, balance, and methods deposit() and withdraw(). Create an object of this class and perform some deposits and withdrawals to check the balance."
   ]
  },
  {
   "cell_type": "markdown",
   "metadata": {},
   "source": [
    "Q5: Create a class Car with attributes make, model, year, and color. Define a method start() that prints a message indicating the car has started. Define a method stop() that prints a message indicating the car has stopped. Create an object of this class and call the start() and stop() methods to check if they are working properly."
   ]
  },
  {
   "cell_type": "code",
   "execution_count": null,
   "metadata": {},
   "outputs": [],
   "source": [
    "# class Car:\n",
    "#     def start():\n",
    "#         print(\"car has been started\")\n",
    "#     def stop():\n",
    "#         print(\"class has been stopped\")\n",
    "        \n",
    "# benz=car()\n",
    "# benz.start()\n",
    "\n",
    "class Car:\n",
    "    def __init__(self, make, model, year, color):\n",
    "        self.make = make\n",
    "        self.model = model\n",
    "        self.year = year\n",
    "        self.color = color\n",
    "        \n",
    "    def start(self):\n",
    "        print(f\"The {self.color} {self.make} {self.model} of year {self.year} has started.\")\n",
    "        \n",
    "    def stop(self):\n",
    "        print(f\"The {self.color} {self.make} {self.model} of year {self.year} has stopped.\")\n",
    "my_car = Car(\"Toyota\", \"Camry\", 2021, \"Red\")\n",
    "my_car.start()\n",
    "my_car.stop()\n",
    "\n"
   ]
  },
  {
   "cell_type": "markdown",
   "metadata": {},
   "source": [
    "Q6: Create a class Bank with a list of accounts as an attribute. Define methods add_account(), remove_account(), display_all_accounts(), and total_balance() that add a new account, remove an existing account, display all accounts, and calculate the total balance of all accounts respectively."
   ]
  },
  {
   "cell_type": "code",
   "execution_count": null,
   "metadata": {},
   "outputs": [],
   "source": [
    "class Bank:\n",
    "    amount=0\n",
    "    def adda(self,name,a):\n",
    "        a.append(self.name)\n",
    "        print(a)\n",
    "    def removei(self,name,a):\n",
    "        a.remove(self.name)\n",
    "        print(a)\n",
    "    def amount_show(self,amount):\n",
    "        print(self.amount)\n",
    "axis=Bank()\n",
    "indi=Bank()\n",
    "axis.name=\"sarthak\"\n",
    "axis.a=[\"sarthak\"]\n",
    "axis.amount=10000\n",
    "axis.removei(axis.name,axis.a)\n"
   ]
  },
  {
   "cell_type": "markdown",
   "metadata": {},
   "source": [
    "Q7:Create a class Student with attributes name, roll_number, and marks. Define a method calculate_grade() that calculates the grade of the student based on their marks. Define another method is_passed() that returns True if the student has passed (i.e. their grade is above a certain threshold), otherwise False."
   ]
  },
  {
   "cell_type": "code",
   "execution_count": null,
   "metadata": {},
   "outputs": [],
   "source": [
    "class Student:\n",
    "    def __init__(self, name, roll_number, marks):\n",
    "        self.name = name\n",
    "        self.roll_number = roll_number\n",
    "        self.marks = marks\n",
    "        \n",
    "    def calculate_grade(self):\n",
    "        if self.marks >= 90:\n",
    "            return \"A+\"\n",
    "        elif self.marks >= 80:\n",
    "            return \"A\"\n",
    "        elif self.marks >= 70:\n",
    "            return \"B\"\n",
    "        elif self.marks >= 60:\n",
    "            return \"C\"\n",
    "        elif self.marks >= 50:\n",
    "            return \"D\"\n",
    "        else:\n",
    "            return \"F\"\n",
    "        \n",
    "    def is_passed(self, t=60):\n",
    "        return self.marks >= t\n",
    "my_student = Student(\"John Doe\", \"1234\", 85)\n",
    "print(my_student.calculate_grade())\n",
    "print(my_student.is_passed())\n",
    "print(my_student.is_passed(80))\n",
    "\n",
    "\n",
    "\n"
   ]
  },
  {
   "cell_type": "markdown",
   "metadata": {},
   "source": [
    "Q8:Create a class Employee with attributes name, id, and salary. Define a method get_salary_raise() that takes a percentage as input and increases the salary of the employee by that percentage. Define another method display_details() that prints the details of the employee."
   ]
  },
  {
   "cell_type": "code",
   "execution_count": null,
   "metadata": {},
   "outputs": [],
   "source": [
    "class Employee:\n",
    "    def __init__(self, name, id, salary):\n",
    "        self.name = name\n",
    "        self.id = id\n",
    "        self.salary = salary\n",
    "        \n",
    "    def get_salary_raise(self, percentage):\n",
    "        self.salary += (self.salary * percentage) / 100\n",
    "        \n",
    "    def display_details(self):\n",
    "        print(f\"Name: {self.name}, ID: {self.id}, Salary: {self.salary}\")\n",
    "my_employee = Employee(\"John Doe\", \"E1234\", 50000)\n",
    "my_employee.get_salary_raise(10) # 10% raise\n",
    "my_employee.display_details()\n"
   ]
  },
  {
   "cell_type": "markdown",
   "metadata": {},
   "source": [
    "Q9:Create a class Car with attributes make, model, year, color, and speed. Define methods accelerate() and brake() that increase or decrease the speed of the car by a certain amount. Define another method display_speed() that prints the current speed of the car."
   ]
  },
  {
   "cell_type": "code",
   "execution_count": null,
   "metadata": {},
   "outputs": [],
   "source": [
    "class Car:\n",
    "    def __init__(self, make, model, year, color, speed=0):\n",
    "        self.make = make\n",
    "        self.model = model\n",
    "        self.year = year\n",
    "        self.color = color\n",
    "        self.speed = speed\n",
    "        \n",
    "    def accelerate(self, amount):\n",
    "        self.speed += amount\n",
    "        \n",
    "    def brake(self, amount):\n",
    "        self.speed -= amount\n",
    "        \n",
    "    def display_speed(self):\n",
    "        print(f\"The car is currently traveling at {self.speed} mph.\")\n",
    "my_car = Car(\"Toyota\", \"Camry\", 2020, \"Silver\")\n",
    "my_car = Car(\"Toyota\", \"Camry\", 2020, \"Silver\")\n",
    "my_car.accelerate(10) \n",
    "my_car.brake(5)\n",
    "my_car.display_speed()\n"
   ]
  },
  {
   "cell_type": "markdown",
   "metadata": {},
   "source": [
    "Q10:Create a class Rectangle with attributes length and width. Define methods area() and perimeter() that calculate the area and perimeter of the rectangle respectively. Define another method is_square() that returns True if the rectangle is a square (i.e. length and width are equal), otherwise False."
   ]
  },
  {
   "cell_type": "code",
   "execution_count": null,
   "metadata": {},
   "outputs": [],
   "source": [
    "class Rectangle:\n",
    "    def __init__(self, length, width):\n",
    "        self.length = length\n",
    "        self.width = width\n",
    "        \n",
    "    def area(self):\n",
    "        return self.length * self.width\n",
    "    \n",
    "    def perimeter(self):\n",
    "        return 2 * (self.length + self.width)\n",
    "    \n",
    "    def is_square(self):\n",
    "        return self.length == self.width\n",
    "my_rectangle = Rectangle(5, 10)\n",
    "area = my_rectangle.area()\n",
    "print(f\"The area of the rectangle is {area}\")\n",
    "perimeter = my_rectangle.perimeter()\n",
    "print(f\"The perimeter of the rectangle is {perimeter}\")\n",
    "is_square = my_rectangle.is_square()\n",
    "print(f\"Is the rectangle a square? {is_square}\")\n",
    "\n",
    "\n",
    "\n"
   ]
  }
 ],
 "metadata": {
  "kernelspec": {
   "display_name": "Python 3",
   "language": "python",
   "name": "python3"
  },
  "language_info": {
   "codemirror_mode": {
    "name": "ipython",
    "version": 3
   },
   "file_extension": ".py",
   "mimetype": "text/x-python",
   "name": "python",
   "nbconvert_exporter": "python",
   "pygments_lexer": "ipython3",
   "version": "3.7.4"
  }
 },
 "nbformat": 4,
 "nbformat_minor": 2
}
