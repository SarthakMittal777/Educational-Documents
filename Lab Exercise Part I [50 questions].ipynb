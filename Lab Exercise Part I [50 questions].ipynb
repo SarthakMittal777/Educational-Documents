{
 "cells": [
  {
   "cell_type": "markdown",
   "id": "1239651b",
   "metadata": {},
   "source": [
    "# 1. Find the sum of the first n natural numbers."
   ]
  },
  {
   "cell_type": "markdown",
   "id": "9b292d05",
   "metadata": {},
   "source": [
    "# 2. Extract fields from a roll number.\n",
    "\n",
    "Consider an institute with roll numbers of the following format. An example roll number is\n",
    "CS23B010.\n",
    "\n",
    "● The roll number is exactly eight letters long.\n",
    "\n",
    "● The first two letters indicate the department (e.g., CS, ME, EE, AE).\n",
    "\n",
    "● The next two digits indicate the admission year (e.g., 23, 22, 21, 20).\n",
    "\n",
    "● The next letter is for degree (e.g., B for BTech, M for MTech, S for MS, P for PhD).\n",
    "\n",
    "● The last three digits indicate the position within the class.\n",
    "\n",
    "Our task is to extract these different fields from an input roll number\n"
   ]
  },
  {
   "cell_type": "markdown",
   "id": "d43596a0",
   "metadata": {},
   "source": [
    "# 3. Store and print all the vowels from the word Mississippi."
   ]
  },
  {
   "cell_type": "markdown",
   "id": "26869839",
   "metadata": {},
   "source": [
    "# 4. Given a postal address, extract its fields, and print.\n",
    "#Here, we will make use of a string function called split() to divide a string into different parts, and make\n",
    "use of a tuple containing all the parts."
   ]
  },
  {
   "cell_type": "code",
   "execution_count": null,
   "id": "2cb256f7",
   "metadata": {},
   "outputs": [],
   "source": [
    "a=\"\"\n",
    "strj=\"338,kuttewalli colony, indore,452003\"\n",
    "a=(strj.split(\",\"))\n",
    "b=tuple(a)\n",
    "print(b)"
   ]
  },
  {
   "cell_type": "markdown",
   "id": "e9054a0b",
   "metadata": {},
   "source": [
    "# 5. Extract the phone number of a friend from a directory."
   ]
  },
  {
   "cell_type": "markdown",
   "id": "e7a74985",
   "metadata": {},
   "source": [
    "# 6. Write a program that reads marks of three quizzes and outputs the total out of 100"
   ]
  },
  {
   "cell_type": "markdown",
   "id": "bbf94be1",
   "metadata": {},
   "source": [
    "# 7. A card is drawn at random from a deck of well-shuffled cards. Find the probability of it being neither a king nor a spade"
   ]
  },
  {
   "cell_type": "markdown",
   "id": "f1847205",
   "metadata": {},
   "source": [
    "# 8. Consider two millionaires: you and your friend. You want to identify who is richer."
   ]
  },
  {
   "cell_type": "markdown",
   "id": "4815c9cc",
   "metadata": {},
   "source": [
    "# 9. Let us say that the user enters two blood groups and we want to write a program to find out if the two blood groups match."
   ]
  },
  {
   "cell_type": "markdown",
   "id": "00f25bcf",
   "metadata": {},
   "source": [
    "# 10. WAP to Find the student from your department. \n",
    "#Say you are in the Computer Science (CS) Department with roll number as CS23B001. \n",
    "#Using the roll number of a student, you should be able to find out if the student is from CS or not."
   ]
  },
  {
   "cell_type": "markdown",
   "id": "c4fbf4b8",
   "metadata": {},
   "source": [
    "# 11. WAP to find the student from your department where the roll number may be in capital or small-case letters."
   ]
  },
  {
   "cell_type": "markdown",
   "id": "09f39745",
   "metadata": {},
   "source": [
    "# 12. Lucky cards!\n",
    "To expand on our understanding, let’s implement the game of lucky cards.\n",
    "\n",
    "We know that a standard deck of 52 cards is grouped into four suites Club, Diamond, Heart, and Spade, each containing 13 cards:\n",
    "\n",
    "Ace, 2, 3, 4, 5, 6, 7, 8, 9, 10, \n",
    "\n",
    "Jack, Queen, and King. Some of these cards are considered lucky. \n",
    "\n",
    "Our task is to read a card as input and output if the card is lucky or not.\n",
    "\n",
    "\n",
    "The predefined set of lucky cards is as follows:\n",
    "● Ace of Spade\n",
    "\n",
    "● Any Heart\n",
    "\n",
    "● Queen of Diamond\n",
    "\n",
    "● King of Diamond\n",
    "\n",
    "● Any 7\n",
    "\n",
    "The corresponding program will have a list of conditions separated by or.\n",
    "\n",
    "Each condition can then take care of one category of lucky cards.\n",
    "\n",
    "A sample run of such a program can be as follows.\n",
    "\n",
    "\n"
   ]
  },
  {
   "attachments": {
    "aa.png": {
     "image/png": "[encoded data removed]"
    }
   },
   "cell_type": "markdown",
   "id": "53839380",
   "metadata": {},
   "source": [
    "![aa.png](attachment:aa.png)"
   ]
  },
  {
   "cell_type": "markdown",
   "id": "e0654d07",
   "metadata": {},
   "source": [
    "# 13. Find pass-percentage of a class.\n",
    "A teacher is entering the marks of students. A student passes a course if the marks are at least 40 (out of 100). The teacher wants to know the percentage of students passed."
   ]
  },
  {
   "cell_type": "markdown",
   "id": "b2faece1",
   "metadata": {},
   "source": [
    "# 14. Print Fibonacci sequence. [0, 1, 1, 2, 3, 5, 8, 13, 21, 34, 55, 89, 144, … and so on.]"
   ]
  },
  {
   "cell_type": "code",
   "execution_count": null,
   "id": "e562a695",
   "metadata": {},
   "outputs": [],
   "source": [
    "term1=0\n",
    "term2=1\n",
    "n=int(input(\"how many terms\"))\n",
    "print(0)\n",
    "for i in range(0,n):\n",
    "    next=term1+term2\n",
    "    term1=term2\n",
    "    term2=next\n",
    "    print(term2)"
   ]
  },
  {
   "cell_type": "markdown",
   "id": "cf367edc",
   "metadata": {},
   "source": [
    "# 15. Collatz sequence.\n",
    "Mathematician Collatz made a conjecture which is still unproven. He said, start from any positive integer. If it is even, halve it; otherwise triple it and add one. Now repeat this process. This sequence will finally reach 1. This conjecture is also known as the 3n+1 problem. For instance, for input 7, the sequence becomes 7, 22, 11, 34, 17, 52, 26, 13, 40, 20, 10, 5, 16, 8, 4, 2, 1."
   ]
  },
  {
   "cell_type": "markdown",
   "id": "1ba520e5",
   "metadata": {},
   "source": [
    "# 16. Print the negative numbers from a given sequence."
   ]
  },
  {
   "cell_type": "markdown",
   "id": "761608dc",
   "metadata": {},
   "source": [
    "# 17. Find the continent with the longest name"
   ]
  },
  {
   "cell_type": "markdown",
   "id": "68359bd6",
   "metadata": {},
   "source": [
    "# 18. Check if a given number is prime. The number is larger than 2."
   ]
  },
  {
   "cell_type": "markdown",
   "id": "e4458f2a",
   "metadata": {},
   "source": [
    "# 19. Given a list, print all the positive numbers, but stop as soon as 0 is reached.\n",
    "For instance, if the input list is [-4, 2, 54, 21, -32, 3, 6, 3, 1, 0, -5, 321],"
   ]
  },
  {
   "cell_type": "markdown",
   "id": "3c3d2b93",
   "metadata": {},
   "source": [
    "# 20. WAP to find birthdays in a month.\n",
    "Say, you have friends whose birthdays are written in DD/MM/YY format. You want to find who all have birthdays in the month of August. To store birthdays, we can use key-value pairs, where name is the key and value is the birthdate. We will use the string index range to extract the MM part of the date."
   ]
  },
  {
   "cell_type": "markdown",
   "id": "3e8e8d53",
   "metadata": {},
   "source": [
    "# 21. Do you have the exact change?\n",
    "You are given an infinite supply of notes of three denominations (say, 10 rupee, 20 rupee, and 50 rupee notes). Given a price, can you identify if you have exact change summing up to that price? For instance, using these three types of notes, we can pay 10, 20, 30, 40, 50, 60, 70 rupees, etc., but we cannot pay 55. It is also possible that the same price can be constructed using multiple combinations of notes. For instance, 50 rupees can be constructed using three notes of 10 and one note of 20, or by directly using a single 50 rupee note.\n",
    "\n",
    "A simple way to achieve this is by having a triply-nested loop going over various numbers of notes, and then checking every combination of notes. But since you have an infinite number of notes (as far as this example is concerned), when should individual loops terminate? The input price can help set the upper bound."
   ]
  },
  {
   "cell_type": "markdown",
   "id": "1a626d43",
   "metadata": {},
   "source": [
    "# 22. WAP to check whether the input string is a palindrome or not.\n",
    "A palindrome is a number, string or a sequence which will be the same even after we reverse the order. For example: MADAM, if spelled backwards will be same as MADAM."
   ]
  },
  {
   "cell_type": "markdown",
   "id": "4adbed28",
   "metadata": {},
   "source": [
    "# 23. WAP to create a simple calculator that can add, subtract, multiply or divide depending upon the input from the user."
   ]
  },
  {
   "cell_type": "markdown",
   "id": "7ed81346",
   "metadata": {},
   "source": [
    "# 24.  Write a Python function to calculate LCM "
   ]
  },
  {
   "cell_type": "markdown",
   "id": "aaee2b34",
   "metadata": {},
   "source": [
    "# 25.Write a Python function to calculate HCF "
   ]
  },
  {
   "cell_type": "markdown",
   "id": "74c23667",
   "metadata": {},
   "source": [
    "# 26. WAP to Print the square of each number on a separate line. Take input from the users"
   ]
  },
  {
   "cell_type": "markdown",
   "id": "48c528f7",
   "metadata": {},
   "source": [
    "# 27. Leap Year\n",
    "\n",
    "We add a Leap Day on February 29, almost every four years. The leap day is an extra, or intercalary, day and we add it to the shortest #month of the year, February.\n",
    "\n",
    "#In the Gregorian calendar three criteria must be taken into account to identify leap years:\n",
    "\n",
    "1. The year can be evenly divided by 4;\n",
    "\n",
    "2. If the year can be evenly divided by 100, it is NOT a leap year, unless;\n",
    "\n",
    "3. The year is also evenly divisible by 400. Then it is a leap year.\n",
    "\n",
    "Given a year, determine whether it is a leap year. If it is a leap year, return the Boolean True, otherwise return False."
   ]
  },
  {
   "cell_type": "markdown",
   "id": "8ea8f34a",
   "metadata": {},
   "source": [
    "# 28. Credit Card number Verification\n",
    "\n",
    "You and Fredrick are good friends. Yesterday, Fredrick received credit cards from ABCD Bank. He wants to verify whether his credit card numbers are valid or not. You happen to be great at regex so he is asking for your help! A valid credit card from ABCD Bank has the following characteristics:\n",
    "\n",
    "► It must start with a , or .\n",
    "\n",
    "► It must contain exactly digits.\n",
    "\n",
    "► It must only consist of digits (-).\n",
    "\n",
    "► It may have digits in groups of , separated by one hyphen \"-\".\n",
    "\n",
    "► It must NOT use any other separator like ' ' , '_', etc.\n",
    "\n",
    "► It must NOT have or more consecutive repeated digits."
   ]
  },
  {
   "cell_type": "code",
   "execution_count": null,
   "id": "6392c77d",
   "metadata": {},
   "outputs": [],
   "source": []
  },
  {
   "cell_type": "markdown",
   "id": "44a4c7b9",
   "metadata": {},
   "source": [
    "# 29.Swapcase\n",
    "You are given a string and your task is to swap cases. In other words, convert all lowercase letters to uppercase letters and vice versa."
   ]
  },
  {
   "cell_type": "markdown",
   "id": "d69d7ca2",
   "metadata": {},
   "source": [
    "# 30. SPilt and Join String\n",
    "\n",
    "You are given a string. Split the string on a \" \" (space) delimiter and join using a - hyphen."
   ]
  },
  {
   "cell_type": "markdown",
   "id": "10704a0a",
   "metadata": {},
   "source": [
    "# 31. Alphabet Rangoli\n",
    "You are given an integer, . Your task is to print an alphabet rangoli of size . (Rangoli is a form of Indian folk art based on creation of patterns.)"
   ]
  },
  {
   "attachments": {
    "aaa.png": {
     "image/png": "[encoded data removed]"
    }
   },
   "cell_type": "markdown",
   "id": "d95819c3",
   "metadata": {},
   "source": [
    "![aaa.png](attachment:aaa.png)"
   ]
  },
  {
   "cell_type": "markdown",
   "id": "59e93dbf",
   "metadata": {},
   "source": [
    "# 32. Doormat Problem \n",
    "\n",
    "Mr. Vincent works in a door mat manufacturing company. One day, he designed a new door mat with the following specifications:\n",
    "\n",
    "Mat size must be n*m. ( n is an odd natural number, and m is  3 times of n .)\n",
    "The design should have 'WELCOME' written in the center.\n",
    "The design pattern should only use |, . and - characters."
   ]
  },
  {
   "cell_type": "markdown",
   "id": "102994a9",
   "metadata": {},
   "source": [
    "# 33. WAP to check armstrong number"
   ]
  },
  {
   "cell_type": "markdown",
   "id": "82dff813",
   "metadata": {},
   "source": [
    "# 34. Calander\n",
    "Write a Python program to display the calendar."
   ]
  },
  {
   "cell_type": "markdown",
   "id": "e04cdb9f",
   "metadata": {},
   "source": [
    "# 35. Write a Python Program to Capitalize the First Letter of a String.\n"
   ]
  },
  {
   "cell_type": "markdown",
   "id": "fbec5194",
   "metadata": {},
   "source": [
    "# 36.An email address is provided: Take inout from user. Using tuple assignment, split the username and domain from the email address. (Hint : use split method)"
   ]
  },
  {
   "cell_type": "markdown",
   "id": "9747bbcf",
   "metadata": {},
   "source": [
    "# 37. Python Program to Calculate Electricity Bill\n",
    "Considering Indian Rupee (Rs) as the currency and taken conditions are:\n",
    "\n",
    "If unit consumed <= 100 then cost per unit is Rs 3.46\n",
    "\n",
    "If unit consumed >= 101 and <= 300 then cost per unit is Rs 7.43\n",
    "\n",
    "If unit consumed >= 301 and <= 500 then cost per unit is Rs 10.32\n",
    "\n",
    "If unit consumed >= 501 then the cost per unit is Rs 11.71\n",
    "\n",
    "Line rent is Rs 1.45 per unit.\n",
    "\n",
    "Additional fixed Meter rent is Rs 100.\n",
    "\n",
    "The tax on the bill is 16 percent which can be taken as 0.16."
   ]
  },
  {
   "cell_type": "markdown",
   "id": "bf43869a",
   "metadata": {},
   "source": [
    "# 38. Python program to calculate wages (Hourly paid employee)\n",
    "The payments made to the employee are based on the hours he has worked. Ideal working hours per day is 8 hours and for that 1500 is paid to the employee.\n",
    "\n",
    "The calculation of salary based on hours worked is,\n",
    "\n",
    "Hours worked = 8, payment = 1500.\n",
    "Hours worked < 8, pay less, 75 per hour.\n",
    "Hours worked > 8, pay more, 75 per hour.\n",
    "Python program to calculate gross pay\n",
    "Working hours can not be more than 14 hrs."
   ]
  },
  {
   "cell_type": "markdown",
   "id": "f05fecda",
   "metadata": {},
   "source": [
    "# 39. Python program to calculate discount based on selling price\n",
    "\n",
    "In a DVD  store, a DVD that sells with following discount crieteria.WAP to find the discount and the sale price of the DVD?\n",
    "Take rate and quanitity from the user.\n",
    "The discount will be calculated as,\n",
    "\n",
    "If the order amount is greater than 100 is 20%.\n",
    "If the order amount is greater than 500 and smaller than 100 is 10%.\n",
    "If the order amount is smaller than 500 is 5%.\n"
   ]
  },
  {
   "cell_type": "markdown",
   "id": "096bcd9c",
   "metadata": {},
   "source": [
    "# 40.Python Program to calculate the salary of an employee\n",
    "\n",
    "WAP to find the Gross Salary and detailed salary breakup of an employee for following allowance & deduction.\n",
    "Get Basic Salary of Employee from the user.\n",
    "DA = 25% of Basic,\n",
    "HRA = 15% of Basic,\n",
    "PF = 12% of Basic,\n",
    "TA = 7.50% of Basic.\n",
    "Net Pay = Basic + DA + HRA + TA\n",
    "Gross Pay = Net Pay - PF."
   ]
  },
  {
   "cell_type": "markdown",
   "id": "9c807ff5",
   "metadata": {},
   "source": [
    "# 41. Python program to calculate currency notes required to get the amount\n",
    "We are given total amount. We need to find the number of currency notes required to be given."
   ]
  },
  {
   "cell_type": "markdown",
   "id": "e1381496",
   "metadata": {},
   "source": [
    "# 42. Python program to count number of vowels using sets in given string\n"
   ]
  },
  {
   "cell_type": "markdown",
   "id": "a53a6ab8",
   "metadata": {},
   "source": [
    "# 43.HackerLand University has the following grading policy:\n",
    "•\tEvery student receives a  in the inclusive range from  0 to 100 .\n",
    "•\tAny grade less than 40  is a failing grade.\n",
    "Sam is a professor at the university and likes to round each student's  grade according to these rules:\n",
    "\n",
    "•\tIf the difference between the  grade and the next multiple of 5 is less than 3, round grade up to the next multiple of 5.\n",
    "•\tIf the value of grade is less than 38, no rounding occurs as the result will still be a failing grade.\n",
    "Given the initial value of grade for each of Sam's n students, write code to automate the rounding process.\n"
   ]
  },
  {
   "cell_type": "markdown",
   "id": "6fe8e373",
   "metadata": {},
   "source": [
    "# 44. #Python program to get selling price and GST rate and print invoice along with both CGST and SGST values"
   ]
  },
  {
   "cell_type": "markdown",
   "id": "d990f435",
   "metadata": {},
   "source": [
    "# 45. Python program to calculate GST\n",
    "GST:- GST stands for Goods and Services Tax. It is a value-added tax on the goods and services which are sold for domestic purpose or consumption. The GST is paid by the customers to the government on purchasing goods and services. For example:-\n",
    "\n",
    "Original price = Rs. 1000, Net price = Rs. 1180, GST% = 18%\n",
    "Original price = Rs. 2500, Net price = Rs. 3000, GST% = 20%\n",
    "\n",
    "To calculate the GST% first, we need to calculate the net GST amount by subtracting the Original price from Net price in which the GST is included. After Calculating the net GST amount, we will apply the GST% formula which is given below:-\n",
    "\n",
    "GST% formula = ((GST Amount * 100)/Original price)"
   ]
  },
  {
   "cell_type": "markdown",
   "id": "9c012a67",
   "metadata": {},
   "source": [
    "# 46.Airline Restriction\n",
    "\n",
    "Chef has 3 bags that she wants to take on a flight. They weigh A, B, and C kgs respectively. She wants to check-in exactly two of these bags and carry the remaining one bag with her.\n",
    "\n",
    "The airline restrictions says that the total sum of the weights of the bags that are checked-in cannot exceed  D kgs and the weight of the bag which is carried cannot exceed E kgs. Find if Chef can take all the three bags on the flight."
   ]
  },
  {
   "cell_type": "markdown",
   "id": "af6f083d",
   "metadata": {},
   "source": [
    "# 47.Weight Problem:\n",
    "    \n",
    "No play and eating all day makes your belly fat. This happened to Chef during the lockdown. His weight before the lockdown was \n",
    "w1 kg (measured on the most accurate hospital machine) and after M months of lockdown, when he measured his weight at home (on a regular scale, which can be inaccurate), he got the result that his weight was \n",
    "w2 kg w2>w1. Scientific research in all growing kids shows that their weights increase by a value between x1 and x2kg (inclusive) per month, but not necessarily the same value each month. Chef assumes that he is a growing kid. Tell him whether his home scale could be giving correct results."
   ]
  },
  {
   "cell_type": "markdown",
   "id": "1b01081b",
   "metadata": {},
   "source": [
    "# 48. Man in the Well\n",
    "Task:\n",
    "A man is stuck at the bottom of a well. Each day, he climbs up 8 metres, and then at night, he slips downwards by 3 metres. Using loops (any loop of your choice), write a function to determine (and print) how many days it takes for him to climb out of a well of any given depth, where the depth of the well is taken as input.\n",
    "\n",
    "E.g.; f(17) => the well is 17 metres deep.\n",
    "Day 1: climbs 8m, height=8m; slips 3m, height=8-3=5m;\n",
    "Day 2: climbs 8m, height=5+8=13m; slips 3m, height= 13-3=10m\n",
    "Day 3: climbs 8m, height=10+8=18m.\n",
    "But 18>17; STOP (height climbed has exceeded well depth).\n",
    "\n",
    "Therefore, f(17) = 3 days."
   ]
  },
  {
   "cell_type": "markdown",
   "id": "b7d119cc",
   "metadata": {},
   "source": [
    "# 49. Write a program in python that accepts a string to setup a passwords. Your entered password must meet the following requirements:\n",
    "* The password must be at least eight characters long.\n",
    "* It must contain at least one uppercase letter.\n",
    "* It must contain at least one lowercase letter.\n",
    "* It must contain at least one numeric digit.49. "
   ]
  },
  {
   "cell_type": "markdown",
   "id": "13f55543",
   "metadata": {},
   "source": [
    "# 50. Subscription\n",
    "\n",
    "Mr.A.N.  wants to conduct a lecture for which he needs to set up an online meeting of exactly X minutes.[Take input from user].\n",
    "\n",
    "The meeting platform supports a meeting of maximum 30 minutes without subscription and a meeting of unlimited duration with subscription.\n",
    "\n",
    "Determine whether Mr. A. N. needs to take a subscription or not for setting up the meet."
   ]
  },
  {
   "cell_type": "code",
   "execution_count": null,
   "id": "42bd82df",
   "metadata": {},
   "outputs": [],
   "source": []
  }
 ],
 "metadata": {
  "kernelspec": {
   "display_name": "Python 3 (ipykernel)",
   "language": "python",
   "name": "python3"
  },
  "language_info": {
   "codemirror_mode": {
    "name": "ipython",
    "version": 3
   },
   "file_extension": ".py",
   "mimetype": "text/x-python",
   "name": "python",
   "nbconvert_exporter": "python",
   "pygments_lexer": "ipython3",
   "version": "3.9.12"
  }
 },
 "nbformat": 4,
 "nbformat_minor": 5
}
