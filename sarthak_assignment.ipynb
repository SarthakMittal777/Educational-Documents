{
 "cells": [
  {
   "cell_type": "code",
   "execution_count": 1,
   "metadata": {},
   "outputs": [
    {
     "name": "stdout",
     "output_type": "stream",
     "text": [
      "\n"
     ]
    }
   ],
   "source": [
    "# 1. Find the sum of the first n natural numbers.\n",
    "k=int(input(\"for how many numbers\"))\n",
    "for i  in range(1,k):\n",
    "    sum=0\n",
    "    sum=sum+i\n",
    "print()"
   ]
  },
  {
   "attachments": {},
   "cell_type": "markdown",
   "metadata": {},
   "source": [
    "# 2. Extract fields from a roll number.\n",
    "\n",
    "Consider an institute with roll numbers of the following format. An example roll number is\n",
    "CS23B010.\n",
    "\n",
    "● The roll number is exactly eight letters long.\n",
    "\n",
    "● The first two letters indicate the department (e.g., CS, ME, EE, AE).\n",
    "\n",
    "● The next two digits indicate the admission year (e.g., 23, 22, 21, 20).\n",
    "\n",
    "● The next letter is for degree (e.g., B for BTech, M for MTech, S for MS, P for PhD).\n",
    "\n",
    "● The last three digits indicate the position within the class.\n",
    "\n",
    "Our task is to extract these different fields from an input roll number"
   ]
  },
  {
   "cell_type": "code",
   "execution_count": null,
   "metadata": {},
   "outputs": [],
   "source": [
    "\n",
    "str89=input(\"ENTER YOU ROLL NUMBER\")\n",
    "print(\"The department is =>\",str89[0:2])\n",
    "print('The admisiion year is =>',str89[2:4])\n",
    "print(\"The degree is =>\",str89[4:5])\n",
    "print(\"The position of class =>\",str89[5:8])\n",
    "\n"
   ]
  },
  {
   "attachments": {},
   "cell_type": "markdown",
   "metadata": {},
   "source": [
    "# 3. Store and print all the vowels from the word Mississippi."
   ]
  },
  {
   "cell_type": "code",
   "execution_count": null,
   "metadata": {},
   "outputs": [],
   "source": [
    "a=input(\"enter string\")\n",
    "for j in a:\n",
    "    if(j==\"a\" or j==\"e\" or j==\"i\" or j==\"o\" or j==\"u\"):\n",
    "        print(j)"
   ]
  },
  {
   "attachments": {},
   "cell_type": "markdown",
   "metadata": {},
   "source": [
    "# 4. Given a postal address, extract its fields, and print.\n",
    "#Here, we will make use of a string function called split() to divide a string into different parts, and make\n",
    "use of a tuple containing all the parts."
   ]
  },
  {
   "cell_type": "code",
   "execution_count": null,
   "metadata": {},
   "outputs": [],
   "source": [
    "a=\"\"\n",
    "strj=\"338,kuttewalli colony, indore,452003\"\n",
    "a=(strj.split(\",\"))\n",
    "b=tuple(a)\n",
    "print(b)"
   ]
  },
  {
   "attachments": {},
   "cell_type": "markdown",
   "metadata": {},
   "source": [
    "# 5. Extract the phone number of a friend from a directory."
   ]
  },
  {
   "cell_type": "code",
   "execution_count": 2,
   "metadata": {},
   "outputs": [
    {
     "name": "stdout",
     "output_type": "stream",
     "text": [
      "1234567890\n",
      "8976543210\n",
      "1234567898\n"
     ]
    }
   ],
   "source": [
    "if __name__ == '__main__':\n",
    "    a={\"sarthak\":1234567890, \"sam\":8976543210,\"krish\":1234567898}\n",
    "    for i,j in a.items():\n",
    "        print(j)"
   ]
  },
  {
   "attachments": {},
   "cell_type": "markdown",
   "metadata": {},
   "source": [
    "# 6. Write a program that reads marks of three quizzes and outputs the total out of 100"
   ]
  },
  {
   "cell_type": "code",
   "execution_count": 3,
   "metadata": {},
   "outputs": [
    {
     "name": "stdout",
     "output_type": "stream",
     "text": [
      "the total score is 30/100\n"
     ]
    }
   ],
   "source": [
    "quiz1=int(input(\"enter the score\"))\n",
    "quiz2=int(input(\"enter the score\"))\n",
    "quiz3=int(input(\"enter the score\"))\n",
    "total=(quiz1+quiz2+quiz3)//3\n",
    "print(\"the total score is {}/100\".format(total))\n"
   ]
  },
  {
   "attachments": {},
   "cell_type": "markdown",
   "metadata": {},
   "source": [
    "# 7. A card is drawn at random from a deck of well-shuffled cards. Find the probability of it being neither a king nor a spade"
   ]
  },
  {
   "cell_type": "code",
   "execution_count": 4,
   "metadata": {},
   "outputs": [
    {
     "name": "stdout",
     "output_type": "stream",
     "text": [
      "probablity of nither king nor spade is 0.6923076923076923\n"
     ]
    }
   ],
   "source": [
    "total_cards=52\n",
    "number_of_spade=13\n",
    "remaining_kings=3\n",
    "print(\"probablity of nither king nor spade is\",1-((13+3)/52))"
   ]
  },
  {
   "attachments": {},
   "cell_type": "markdown",
   "metadata": {},
   "source": [
    "# 8. Consider two millionaires: you and your friend. You want to identify who is richer."
   ]
  },
  {
   "cell_type": "code",
   "execution_count": 6,
   "metadata": {},
   "outputs": [
    {
     "name": "stdout",
     "output_type": "stream",
     "text": [
      "friend 1 is richer\n"
     ]
    }
   ],
   "source": [
    "f1=int(input(\"enter the net worth\"))\n",
    "f2=int(input(\"enter the net worth\"))\n",
    "if (f1>f2):\n",
    "    print(\"friend 1 is richer\")\n",
    "else:\n",
    "    print(\"friend 2 is richer\")"
   ]
  },
  {
   "attachments": {},
   "cell_type": "markdown",
   "metadata": {},
   "source": [
    "# 9. Let us say that the user enters two blood groups and we want to write a program to find out if the two blood groups match.\n"
   ]
  },
  {
   "cell_type": "code",
   "execution_count": 7,
   "metadata": {},
   "outputs": [
    {
     "name": "stdout",
     "output_type": "stream",
     "text": [
      "blood groups are same\n"
     ]
    }
   ],
   "source": [
    "f1=input(\"enter your blood group\")\n",
    "f2=input(\"enter your blood group\")\n",
    "if f1==f2:\n",
    "    print(\"blood groups are same\")\n",
    "else:\n",
    "    print(\"blood groups are different\")\n"
   ]
  },
  {
   "cell_type": "markdown",
   "metadata": {},
   "source": [
    "# 10. WAP to Find the student from your department. \n",
    "#Say you are in the Computer Science (CS) Department with roll number as CS23B001. \n",
    "#Using the roll number of a student, you should be able to find out if the student is from CS or not."
   ]
  },
  {
   "cell_type": "code",
   "execution_count": null,
   "metadata": {},
   "outputs": [
    {
     "ename": "",
     "evalue": "",
     "output_type": "error",
     "traceback": [
      "\u001b[1;31mRunning cells with 'c:\\msys64\\mingw64\\bin\\python.exe' requires the ipykernel package.\n",
      "\u001b[1;31mRun the following command to install 'ipykernel' into the Python environment. \n",
      "\u001b[1;31mCommand: 'c:/msys64/mingw64/bin/python.exe -m pip install ipykernel -U --user --force-reinstall'"
     ]
    }
   ],
   "source": [
    "ds=input(\"enter roll number\")\n",
    "y=ds[0:2]\n",
    "if y==\"CS\":\n",
    "    print(\"it belong to CS\")\n",
    "else:\n",
    "    print(\"not CS\")"
   ]
  },
  {
   "attachments": {},
   "cell_type": "markdown",
   "metadata": {},
   "source": [
    "# 11. WAP to find the student from your department where the roll number may be in capital or small-case letters."
   ]
  },
  {
   "cell_type": "code",
   "execution_count": null,
   "metadata": {},
   "outputs": [],
   "source": [
    "\n",
    "a={\"CS01\":\"sarthak\",\"MC03\":\"Hetesh\",\"IT67\":\"Chinmay\"}\n",
    "roll=str(input(\"enter the roll number\"))\n",
    "print(a[roll])"
   ]
  },
  {
   "attachments": {},
   "cell_type": "markdown",
   "metadata": {},
   "source": [
    "# 12. Lucky cards!\n",
    "To expand on our understanding, let’s implement the game of lucky cards.\n",
    "\n",
    "We know that a standard deck of 52 cards is grouped into four suites Club, Diamond, Heart, and Spade, each containing 13 cards:\n",
    "\n",
    "Ace, 2, 3, 4, 5, 6, 7, 8, 9, 10, \n",
    "\n",
    "Jack, Queen, and King. Some of these cards are considered lucky. \n",
    "\n",
    "Our task is to read a card as input and output if the card is lucky or not.\n",
    "\n",
    "\n",
    "The predefined set of lucky cards is as follows:\n",
    "● Ace of Spade\n",
    "\n",
    "● Any Heart\n",
    "\n",
    "● Queen of Diamond\n",
    "\n",
    "● King of Diamond\n",
    "\n",
    "● Any 7\n",
    "\n",
    "The corresponding program will have a list of conditions separated by or.\n",
    "\n",
    "Each condition can then take care of one category of lucky cards.\n",
    "\n",
    "A sample run of such a program can be as follows.\n",
    "\n",
    "\n"
   ]
  },
  {
   "cell_type": "code",
   "execution_count": null,
   "metadata": {},
   "outputs": [],
   "source": [
    "import random\n",
    "import random\n",
    "card_points =['A','K','Q','J','2','3','4','5','6','7','8','9','10']\n",
    "card_signs =['Heart','CLUB','DIAMOND','SPADE']\n",
    "random_point = random.choice(card_points)\n",
    "random_sign = random.choice(card_signs)\n",
    "random_card = random_point,random_sign\n",
    "# The predefined set of lucky cards is as follows:\n",
    "# ● Ace of Spade\n",
    "\n",
    "# ● Any Heart\n",
    "\n",
    "# ● Queen of Diamond\n",
    "\n",
    "# ● King of Diamond\n",
    "\n",
    "# ● Any 7\n",
    "print(random_card)\n",
    "if((random_point==\"A\" and random_point==\"SPADE\")or(random_point==\"Q\" and random_sign==\"DIAMOND\") or(random_point==\"K\" and random_sign==\"DIAMOND\")or(random_point==\"7\")or(random_sign==\"HEART\")):\n",
    "    print(\"Hurrah! lucky card\")"
   ]
  },
  {
   "attachments": {},
   "cell_type": "markdown",
   "metadata": {},
   "source": [
    "# 13. Find pass-percentage of a class.\n",
    "A teacher is entering the marks of students. A student passes a course if the marks are at least 40 (out of 100). The teacher wants to know the percentage of students passed."
   ]
  },
  {
   "cell_type": "code",
   "execution_count": null,
   "metadata": {},
   "outputs": [],
   "source": [
    "n=int(input(\"how many students\"))\n",
    "a=[]\n",
    "d=[]\n",
    "for i in range(0,n):\n",
    "    c=int(input(\"enter marks\"))\n",
    "    a.append(c)\n",
    "for i in a:\n",
    "    if (i>=40):\n",
    "        d.append(i)\n",
    "        count=0\n",
    "        count=count+1\n",
    "print((count/n)*100)"
   ]
  },
  {
   "attachments": {},
   "cell_type": "markdown",
   "metadata": {},
   "source": [
    "# 14. Print Fibonacci sequence. [0, 1, 1, 2, 3, 5, 8, 13, 21, 34, 55, 89, 144, … and so on.]"
   ]
  },
  {
   "cell_type": "code",
   "execution_count": null,
   "metadata": {},
   "outputs": [],
   "source": [
    "# Program to display the Fibonacci sequence up to n-th term\n",
    "\n",
    "nterms = int(input(\"How many terms? \"))\n",
    "n1, n2 = 0, 1\n",
    "count = 0\n",
    "if nterms <= 0:\n",
    "   print(\"Please enter a positive integer\")\n",
    "elif nterms == 1:\n",
    "   print(\"Fibonacci sequence upto\",nterms,\":\")\n",
    "   print(n1)\n",
    "else:\n",
    "   print(\"Fibonacci sequence:\")\n",
    "   while count < nterms:\n",
    "       print(n1)\n",
    "       nth = n1 + n2\n",
    "       n1 = n2\n",
    "       n2 = nth\n",
    "       count += 1"
   ]
  },
  {
   "attachments": {},
   "cell_type": "markdown",
   "metadata": {},
   "source": [
    "# 15. Collatz sequence.\n",
    "Mathematician Collatz made a conjecture which is still unproven. He said, start from any positive integer. If it is even, halve it; otherwise triple it and add one. Now repeat this process. This sequence will finally reach 1. This conjecture is also known as the 3n+1 problem. For instance, for input 7, the sequence becomes 7, 22, 11, 34, 17, 52, 26, 13, 40, 20, 10, 5, 16, 8, 4, 2, 1."
   ]
  },
  {
   "cell_type": "code",
   "execution_count": null,
   "metadata": {},
   "outputs": [],
   "source": [
    "print(\"This is The Collatz Sequence by sartahk\")\n",
    "user = int(input(\"Enter a number: \"))\n",
    "\n",
    "\n",
    "def collatz_sarthak(n):\n",
    "    print(n)\n",
    "    while n != 1:\n",
    "        if n % 2 == 0:\n",
    "            n = n // 2\n",
    "            print(n)\n",
    "        else:\n",
    "            n = n * 3 + 1\n",
    "            print(n)\n",
    "\n",
    "\n",
    "collatz_sarthak(user)"
   ]
  },
  {
   "attachments": {},
   "cell_type": "markdown",
   "metadata": {},
   "source": [
    "# 16. Print the negative numbers from a given sequence."
   ]
  },
  {
   "cell_type": "code",
   "execution_count": null,
   "metadata": {},
   "outputs": [],
   "source": [
    "a=[12,34,45,65,32,-89,-67,34]\n",
    "for i in a:\n",
    "    if i<0:\n",
    "        print(i)"
   ]
  },
  {
   "attachments": {},
   "cell_type": "markdown",
   "metadata": {},
   "source": [
    "# 17. Find the continent with the longest name"
   ]
  },
  {
   "cell_type": "code",
   "execution_count": null,
   "metadata": {},
   "outputs": [],
   "source": [
    "a=[\"asia\",\"amarica\",\"antatica\"]\n",
    "k=[]\n",
    "for i in a:\n",
    "    k.append(len(i))\n",
    "print(max(k))\n",
    "    \n",
    "    "
   ]
  },
  {
   "attachments": {},
   "cell_type": "markdown",
   "metadata": {},
   "source": [
    "# 18. Check if a given number is prime. The number is larger than 2."
   ]
  },
  {
   "cell_type": "code",
   "execution_count": null,
   "metadata": {},
   "outputs": [],
   "source": [
    "num = int(input(\"please enter the number you want to check\\n\"))\n",
    "\n",
    "if num > 1:\n",
    "    isPrime = True\n",
    "    for i in range(2, num):\n",
    "        if (num % i) == 0:\n",
    "            print(\"the number is not prime\")\n",
    "            print(str(i) + \" times \" + str(num//i) + \" is \"+ str(num))\n",
    "            isPrime = False\n",
    "            break\n",
    "    if isPrime:\n",
    "        print(\"the number is prime\")\n",
    "elif(num == 1):\n",
    "    print(\"the number is not prime\")\n",
    "else:\n",
    "    print('enter a positive value')"
   ]
  },
  {
   "attachments": {},
   "cell_type": "markdown",
   "metadata": {},
   "source": [
    "# 19. Given a list, print all the positive numbers, but stop as soon as 0 is reached.\n",
    "For instance, if the input list is [-4, 2, 54, 21, -32, 3, 6, 3, 1, 0, -5, 321],"
   ]
  },
  {
   "cell_type": "code",
   "execution_count": null,
   "metadata": {},
   "outputs": [],
   "source": [
    "a=[-4, 2, 54, 21, -32, 3, 6, 3, 1, 0, -5, 321]\n",
    "for i in a:\n",
    "    if(i==0):\n",
    "        break\n",
    "    else:\n",
    "        print(i)"
   ]
  },
  {
   "attachments": {},
   "cell_type": "markdown",
   "metadata": {},
   "source": [
    "# 20. WAP to find birthdays in a month.\n",
    "Say, you have friends whose birthdays are written in DD/MM/YY format. You want to find who all have birthdays in the month of August. To store birthdays, we can use key-value pairs, where name is the key and value is the birthdate. We will use the string index range to extract the MM part of the date."
   ]
  },
  {
   "cell_type": "code",
   "execution_count": null,
   "metadata": {},
   "outputs": [],
   "source": [
    "a={\"sarthak\":\"12/08/22\",\"samthak\":\"16/08/22\",\"jijjutsu\":\"12/07/22\"}\n",
    "name=[]\n",
    "date=[]\n",
    "x=[]\n",
    "for i,j in a.items():\n",
    "    name.append(i)\n",
    "    date.append(j)\n",
    "for i in date:\n",
    "    for j in name:\n",
    "        if(i[3:5]==\"08\"):\n",
    "            x.append(i)\n",
    "print(x)"
   ]
  },
  {
   "attachments": {},
   "cell_type": "markdown",
   "metadata": {},
   "source": [
    "# 21. Do you have the exact change?\n",
    "You are given an infinite supply of notes of three denominations (say, 10 rupee, 20 rupee, and 50 rupee notes). Given a price, can you identify if you have exact change summing up to that price? For instance, using these three types of notes, we can pay 10, 20, 30, 40, 50, 60, 70 rupees, etc., but we cannot pay 55. It is also possible that the same price can be constructed using multiple combinations of notes. For instance, 50 rupees can be constructed using three notes of 10 and one note of 20, or by directly using a single 50 rupee note.\n",
    "\n",
    "A simple way to achieve this is by having a triply-nested loop going over various numbers of notes, and then checking every combination of notes. But since you have an infinite number of notes (as far as this example is concerned), when should individual loops terminate? The input price can help set the upper bound."
   ]
  },
  {
   "cell_type": "code",
   "execution_count": null,
   "metadata": {},
   "outputs": [],
   "source": [
    "import itertools\n",
    "per=itertools.permutations([10,20,30])\n",
    "for i in list(per):\n",
    "    print(i)"
   ]
  },
  {
   "attachments": {},
   "cell_type": "markdown",
   "metadata": {},
   "source": [
    "# 22. WAP to check whether the input string is a palindrome or not.\n",
    "A palindrome is a number, string or a sequence which will be the same even after we reverse the order. For example: MADAM, if spelled backwards will be same as MADAM."
   ]
  },
  {
   "cell_type": "code",
   "execution_count": null,
   "metadata": {},
   "outputs": [],
   "source": [
    "import itertools \n",
    "# if __name__ == \"__main__\":\n",
    "    \n",
    "a=str(input(\"enter a string\"))\n",
    "y=a[::-1]\n",
    "if(a==y):\n",
    "    print(\"palindromic strings\")\n",
    "else:\n",
    "    print(\"non palindromic strings\")"
   ]
  },
  {
   "attachments": {},
   "cell_type": "markdown",
   "metadata": {},
   "source": [
    "# 23. WAP to create a simple calculator that can add, subtract, multiply or divide depending upon the input from the user."
   ]
  },
  {
   "cell_type": "code",
   "execution_count": null,
   "metadata": {},
   "outputs": [],
   "source": [
    "if __name__ == \"__main__\":\n",
    "    a=int(input(\"enter the number 1\"))\n",
    "    b=int(input(\"enter the number 2\"))\n",
    "    c=str(input(\"enter the operation\"))\n",
    "    if(c==\"+\"):\n",
    "        print(a+b)\n",
    "    elif(c==\"-\"):\n",
    "        print(a-b)\n",
    "    elif(c==\"*\"):\n",
    "        print(a*b)\n",
    "    elif(c==\"/\"):\n",
    "        print(a/b)\n",
    "    else:\n",
    "        print(\"invalid operation\")"
   ]
  },
  {
   "attachments": {},
   "cell_type": "markdown",
   "metadata": {},
   "source": [
    "# 24.  Write a Python function to calculate LCM "
   ]
  },
  {
   "cell_type": "code",
   "execution_count": null,
   "metadata": {},
   "outputs": [],
   "source": [
    "def find_gcd(a,b):\n",
    "    gcd = 1\n",
    "    for i in range(1,a+1):\n",
    "        if a%i==0 and b%i==0:\n",
    "           gcd = i\n",
    "    return gcd\n",
    "first = int(input('Enter first number'))\n",
    "second = int(input('Enter second number'))\n",
    "print(find_gcd(first, second))\n",
    "# Calculating LCM\n",
    "lcm = first * second / find_gcd(first, second)\n",
    "print(lcm)"
   ]
  },
  {
   "attachments": {},
   "cell_type": "markdown",
   "metadata": {},
   "source": [
    "# 25.Write a Python function to calculate HCF "
   ]
  },
  {
   "cell_type": "code",
   "execution_count": null,
   "metadata": {},
   "outputs": [],
   "source": [
    "    gcd = 1\n",
    "    for i in range(1,a+1):\n",
    "        if a%i==0 and b%i==0:\n",
    "           gcd = i\n",
    "    return gcd\n",
    "first = int(input('Enter first number'))\n",
    "second = int(input('Enter second number'))\n",
    "print(find_gcd(first, second))"
   ]
  },
  {
   "attachments": {},
   "cell_type": "markdown",
   "metadata": {},
   "source": [
    "# 26. WAP to Print the square of each number on a separate line. Take input from the users"
   ]
  },
  {
   "cell_type": "code",
   "execution_count": null,
   "metadata": {},
   "outputs": [],
   "source": [
    "a=[]\n",
    "n=int(input(\"how many numbers to input\"))\n",
    "for i in range(0,n):\n",
    "    x=int(input(\"ENTER\"))\n",
    "    a.append(x)\n",
    "for i in a:\n",
    "    print(i**2)"
   ]
  },
  {
   "attachments": {},
   "cell_type": "markdown",
   "metadata": {},
   "source": [
    "# 27. Leap Year\n",
    "\n",
    "We add a Leap Day on February 29, almost every four years. The leap day is an extra, or intercalary, day and we add it to the shortest #month of the year, February.\n",
    "\n",
    "#In the Gregorian calendar three criteria must be taken into account to identify leap years:\n",
    "\n",
    "1. The year can be evenly divided by 4;\n",
    "\n",
    "2. If the year can be evenly divided by 100, it is NOT a leap year, unless;\n",
    "\n",
    "3. The year is also evenly divisible by 400. Then it is a leap year.\n",
    "\n",
    "Given a year, determine whether it is a leap year. If it is a leap year, return the Boolean True, otherwise return False."
   ]
  },
  {
   "cell_type": "code",
   "execution_count": null,
   "metadata": {},
   "outputs": [],
   "source": [
    "def leap(year):\n",
    "    if((year%4==0 and year%400)or (year==2000)):\n",
    "        return True\n",
    "    else:\n",
    "        return False\n",
    "if __name__==\"__main__\":\n",
    "    year=int(input(\"ENTER THE YEAR\"))\n",
    "    print(leap(year))"
   ]
  },
  {
   "attachments": {},
   "cell_type": "markdown",
   "metadata": {},
   "source": [
    "# 28. Credit Card number Verification\n",
    "\n",
    "You and Fredrick are good friends. Yesterday, Fredrick received credit cards from ABCD Bank. He wants to verify whether his credit card numbers are valid or not. You happen to be great at regex so he is asking for your help! A valid credit card from ABCD Bank has the following characteristics:\n",
    "\n",
    "► It must start with a , or .\n",
    "\n",
    "► It must contain exactly digits.\n",
    "\n",
    "► It must only consist of digits (-).\n",
    "\n",
    "► It may have digits in groups of , separated by one hyphen \"-\".\n",
    "\n",
    "► It must NOT use any other separator like ' ' , '_', etc.\n",
    "\n",
    "► It must NOT have or more consecutive repeated digits."
   ]
  },
  {
   "cell_type": "code",
   "execution_count": null,
   "metadata": {},
   "outputs": [],
   "source": [
    "# ► It may have digits in groups of , separated by one hyphen \"-\".\n",
    "\n",
    "# ► It must NOT use any other separator like ' ' , '_', etc.\n",
    "\n",
    "# ► It must NOT have or more consecutive repeated digits.\n",
    "strating_letter=\"a\"\n",
    "a=\"a-9-8-4-2\"\n",
    "#test1\n",
    "if(a[0:1]==\"a\" or a[0:1]==\".\"):\n",
    "    print(\"test passed\")\n",
    "for i in a:\n",
    "    if(i==int()):\n",
    "        print(True)\n",
    "    else:\n",
    "        continue\n",
    "y=\"9842\" #enter the number from user\n",
    "x=\"-\".join(y)\n",
    "print(x)\n",
    "total=\"a\"+\"-\"+x\n",
    "if(total==a):\n",
    "    print(\"all tests passed\")"
   ]
  },
  {
   "attachments": {},
   "cell_type": "markdown",
   "metadata": {},
   "source": [
    "# 29.Swapcase\n",
    "You are given a string and your task is to swap cases. In other words, convert all lowercase letters to uppercase letters and vice versa."
   ]
  },
  {
   "cell_type": "code",
   "execution_count": null,
   "metadata": {},
   "outputs": [],
   "source": [
    "a=str(input(\"enteer a string\"))\n",
    "y=a.upper()\n",
    "x=a.lower()\n",
    "print(\"lower format is {} and the upper format is {}\".format(x,y))"
   ]
  },
  {
   "attachments": {},
   "cell_type": "markdown",
   "metadata": {},
   "source": [
    "# 30. SPilt and Join String\n",
    "\n",
    "You are given a string. Split the string on a \" \" (space) delimiter and join using a - hyphen."
   ]
  },
  {
   "cell_type": "code",
   "execution_count": null,
   "metadata": {},
   "outputs": [],
   "source": [
    "a=str(input(\"enteer a string\"))\n",
    "u=a.split(\" \")\n",
    "z=\"-\".join(a)\n",
    "print(u,z)"
   ]
  },
  {
   "attachments": {},
   "cell_type": "markdown",
   "metadata": {},
   "source": [
    "# 31. Alphabet Rangoli\n",
    "You are given an integer, . Your task is to print an alphabet rangoli of size . (Rangoli is a form of Indian folk art based on creation of patterns.)"
   ]
  },
  {
   "attachments": {},
   "cell_type": "markdown",
   "metadata": {},
   "source": [
    "\n",
    "![aaa.png](attachment:aaa.png)"
   ]
  },
  {
   "attachments": {},
   "cell_type": "markdown",
   "metadata": {},
   "source": [
    "# 32. Doormat Problem \n",
    "\n",
    "Mr. Vincent works in a door mat manufacturing company. One day, he designed a new door mat with the following specifications:\n",
    "\n",
    "Mat size must be n*m. ( n is an odd natural number, and m is  3 times of n .)\n",
    "The design should have 'WELCOME' written in the center.\n",
    "The design pattern should only use |, . and - characters."
   ]
  },
  {
   "cell_type": "code",
   "execution_count": null,
   "metadata": {},
   "outputs": [],
   "source": []
  },
  {
   "attachments": {},
   "cell_type": "markdown",
   "metadata": {},
   "source": [
    "# 33. WAP to check armstrong number"
   ]
  },
  {
   "cell_type": "code",
   "execution_count": null,
   "metadata": {},
   "outputs": [],
   "source": [
    "n = 153\n",
    "s = n  \n",
    "b = len(str(n))\n",
    "sum1 = 0\n",
    "while n != 0:\n",
    "    digit = n % 10\n",
    "    sum1 = sum1+(r**b)\n",
    "    n = n//10\n",
    "if s == sum1:\n",
    "    print(\"armstrong\")\n",
    "else:\n",
    "    print(\"not!\")"
   ]
  },
  {
   "attachments": {},
   "cell_type": "markdown",
   "metadata": {},
   "source": [
    "# 34. Calander\n",
    "Write a Python program to display the calendar."
   ]
  },
  {
   "cell_type": "code",
   "execution_count": null,
   "metadata": {},
   "outputs": [],
   "source": [
    "import calendar as sarthak\n",
    " \n",
    "yy = int(input(\"enter the year\"))\n",
    "mm = int(input(\"enter the month\"))\n",
    "print(sarthak.month(yy, mm))"
   ]
  },
  {
   "attachments": {},
   "cell_type": "markdown",
   "metadata": {},
   "source": [
    "# 35. Write a Python Program to Capitalize the First Letter of a String.\n"
   ]
  },
  {
   "cell_type": "code",
   "execution_count": null,
   "metadata": {},
   "outputs": [],
   "source": [
    "a=input(\"ENTER\")\n",
    "y=a[0:1].upper()\n",
    "c=a[1:len(a)]\n",
    "print(y+c)"
   ]
  },
  {
   "attachments": {},
   "cell_type": "markdown",
   "metadata": {},
   "source": [
    "# 36.An email address is provided: Take inout from user. Using tuple assignment, split the username and domain from the email address. (Hint : use split method)"
   ]
  },
  {
   "cell_type": "code",
   "execution_count": null,
   "metadata": {},
   "outputs": [],
   "source": [
    "a=(\"sam@gmail.com\",\"sarthak7@github.com\")\n",
    "len(a)\n",
    "y=a[0]\n",
    "x=a[1] \n",
    "for i in y:\n",
    "    if(i==\"@\"):\n",
    "        break\n",
    "    else:\n",
    "        print(i,end=\"\")\n",
    "print()\n",
    "sum=\"\"\n",
    "for i in x:\n",
    "    if(i==\"@\"):\n",
    "        break\n",
    "    else:\n",
    "        sum=sum+i\n",
    "print(sum)\n",
    "for i in x:\n",
    "    if(i==\"@\"):\n",
    "        print(x[len(sum):len(x)])"
   ]
  },
  {
   "attachments": {},
   "cell_type": "markdown",
   "metadata": {},
   "source": [
    "# 37. Python Program to Calculate Electricity Bill\n",
    "Considering Indian Rupee (Rs) as the currency and taken conditions are:\n",
    "\n",
    "If unit consumed <= 100 then cost per unit is Rs 3.46\n",
    "\n",
    "If unit consumed >= 101 and <= 300 then cost per unit is Rs 7.43\n",
    "\n",
    "If unit consumed >= 301 and <= 500 then cost per unit is Rs 10.32\n",
    "\n",
    "If unit consumed >= 501 then the cost per unit is Rs 11.71\n",
    "\n",
    "Line rent is Rs 1.45 per unit.\n",
    "\n",
    "Additional fixed Meter rent is Rs 100.\n",
    "\n",
    "The tax on the bill is 16 percent which can be taken as 0.16."
   ]
  },
  {
   "cell_type": "code",
   "execution_count": null,
   "metadata": {},
   "outputs": [],
   "source": [
    "a=int(input(\"enter the total number of units\"))\n",
    "if a<=100:\n",
    "    total_bill=(((3.46*a)*(1.45*a))+100)\n",
    "    tax=total_bill*0.16\n",
    "    grand_total=total_bill+tax\n",
    "    print(grand_total)\n",
    "if a>= 101 and a<= 300:\n",
    "    total_bill=(((7.42*a)*(1.45*a))+100)\n",
    "    tax=total_bill*0.16\n",
    "    grand_total=total_bill+tax\n",
    "    print(grand_total)\n",
    "    \n",
    "if a>= 301 and a<= 500:\n",
    "    total_bill=(((10.32*a)*(1.45*a))+100)\n",
    "    tax=total_bill*0.16\n",
    "    grand_total=total_bill+tax\n",
    "    print(grand_total)\n",
    "if a>= 501:\n",
    "    total_bill=(((11.71*a)*(1.45*a))+100)\n",
    "    tax=total_bill*0.16\n",
    "    grand_total=total_bill+tax\n",
    "    print(grand_total)"
   ]
  },
  {
   "attachments": {},
   "cell_type": "markdown",
   "metadata": {},
   "source": [
    "# 38. Python program to calculate wages (Hourly paid employee)\n",
    "The payments made to the employee are based on the hours he has worked. Ideal working hours per day is 8 hours and for that 1500 is paid to the employee.\n",
    "\n",
    "The calculation of salary based on hours worked is,\n",
    "\n",
    "Hours worked = 8, payment = 1500.\n",
    "Hours worked < 8, pay less, 75 per hour.\n",
    "Hours worked > 8, pay more, 75 per hour.\n",
    "Python program to calculate gross pay\n",
    "Working hours can not be more than 14 hrs."
   ]
  },
  {
   "cell_type": "code",
   "execution_count": null,
   "metadata": {},
   "outputs": [],
   "source": [
    "a=int(input(\"enter the number of hours worked\"))\n",
    "if(a>=0 and a<=14):\n",
    "    if(a==8):\n",
    "        print(1500)\n",
    "    elif(a<8):\n",
    "        print(1500-75*a)\n",
    "    elif(a>8):\n",
    "        print(1500+75*a)"
   ]
  },
  {
   "attachments": {},
   "cell_type": "markdown",
   "metadata": {},
   "source": [
    "# 39. Python program to calculate discount based on selling price\n",
    "\n",
    "In a DVD  store, a DVD that sells with following discount crieteria.WAP to find the discount and the sale price of the DVD?\n",
    "Take rate and quanitity from the user.\n",
    "The discount will be calculated as,\n",
    "\n",
    "If the order amount is greater than 100 is 20%.\n",
    "If the order amount is greater than 500 and smaller than 100 is 10%.\n",
    "If the order amount is smaller than 500 is 5%.\n"
   ]
  },
  {
   "cell_type": "code",
   "execution_count": null,
   "metadata": {},
   "outputs": [],
   "source": [
    "a=int(input(\"enter amount\"))\n",
    "if __name__ == \"__main__\":\n",
    "    if a>100:\n",
    "        print(a*0.20)\n",
    "    if a>500 and a<100:\n",
    "        print(a*0.1)\n",
    "    if a>500:\n",
    "        print(a*0.05)\n",
    "    "
   ]
  },
  {
   "attachments": {},
   "cell_type": "markdown",
   "metadata": {},
   "source": [
    "# 40.Python Program to calculate the salary of an employee\n",
    "\n",
    "WAP to find the Gross Salary and detailed salary breakup of an employee for following allowance & deduction.\n",
    "Get Basic Salary of Employee from the user.\n",
    "DA = 25% of Basic,\n",
    "HRA = 15% of Basic,\n",
    "PF = 12% of Basic,\n",
    "TA = 7.50% of Basic.\n",
    "Net Pay = Basic + DA + HRA + TA\n",
    "Gross Pay = Net Pay - PF."
   ]
  },
  {
   "cell_type": "code",
   "execution_count": null,
   "metadata": {},
   "outputs": [],
   "source": [
    "b=int(input(\"enter\"))\n",
    "DA = 0.25*b\n",
    "HRA = 0.15*b\n",
    "PF = 0.12 *b\n",
    "TA = 0.750 *b\n",
    "Net_Pay = b + DA + HRA + TA\n",
    "GrossPay = Net_Pay - PF\n",
    "print(Net_Pay)\n",
    "print(GrossPay)\n",
    "\n"
   ]
  },
  {
   "attachments": {},
   "cell_type": "markdown",
   "metadata": {},
   "source": [
    "# 41. Python program to calculate currency notes required to get the amount\n",
    "We are given total amount. We need to find the number of currency notes required to be given."
   ]
  },
  {
   "cell_type": "code",
   "execution_count": null,
   "metadata": {},
   "outputs": [],
   "source": [
    "#let us concider INR 10 rs notes \n",
    "amt=int(input(\"enter amt\"))\n",
    "currency=int(input(\"ENTER CURRENCY\"))\n",
    "total_notes=amt//currency\n",
    "y=divmod(amt,currency)\n",
    "print(y)\n",
    "print(total_notes)"
   ]
  },
  {
   "attachments": {},
   "cell_type": "markdown",
   "metadata": {},
   "source": [
    "# 42. Python program to count number of vowels using sets in given string\n"
   ]
  },
  {
   "cell_type": "code",
   "execution_count": null,
   "metadata": {},
   "outputs": [],
   "source": [
    "\n",
    "# Function to count vowel\n",
    "def vowel_count(str):\n",
    "    count = 0\n",
    "    vowel = set(\"aeiouAEIOU\")\n",
    "    for alphabet in str:\n",
    "        if alphabet in vowel:\n",
    "            count = count + 1\n",
    "    print(\"No. of vowels :\", count)\n",
    "str = \"mai_hun_sarthak\"\n",
    "vowel_count(str)"
   ]
  },
  {
   "attachments": {},
   "cell_type": "markdown",
   "metadata": {},
   "source": [
    "# 43.HackerLand University has the following grading policy:\n",
    "•\tEvery student receives a  in the inclusive range from  0 to 100 .\n",
    "•\tAny grade less than 40  is a failing grade.\n",
    "Sam is a professor at the university and likes to round each student's  grade according to these rules:\n",
    "\n",
    "•\tIf the difference between the  grade and the next multiple of 5 is less than 3, round grade up to the next multiple of 5.\n",
    "•\tIf the value of grade is less than 38, no rounding occurs as the result will still be a failing grade.\n",
    "Given the initial value of grade for each of Sam's n students, write code to automate the rounding process.\n"
   ]
  },
  {
   "cell_type": "code",
   "execution_count": null,
   "metadata": {},
   "outputs": [],
   "source": [
    "a=int(input(\"grades\"))\n",
    "if a<40:\n",
    "    print(\"failed\")\n",
    "if(a<38):\n",
    "    print(\"still failed\")\n",
    "if (a%5-a)<3:\n",
    "    print(a+a%5)\n",
    "    "
   ]
  },
  {
   "attachments": {},
   "cell_type": "markdown",
   "metadata": {},
   "source": [
    "# 45. Python program to calculate GST\n",
    "GST:- GST stands for Goods and Services Tax. It is a value-added tax on the goods and services which are sold for domestic purpose or consumption. The GST is paid by the customers to the government on purchasing goods and services. For example:-\n",
    "\n",
    "Original price = Rs. 1000, Net price = Rs. 1180, GST% = 18%\n",
    "Original price = Rs. 2500, Net price = Rs. 3000, GST% = 20%\n",
    "\n",
    "To calculate the GST% first, we need to calculate the net GST amount by subtracting the Original price from Net price in which the GST is included. After Calculating the net GST amount, we will apply the GST% formula which is given below:-\n",
    "\n",
    "GST% formula = ((GST Amount * 100)/Original price)"
   ]
  },
  {
   "cell_type": "code",
   "execution_count": null,
   "metadata": {},
   "outputs": [],
   "source": [
    "gamt=int(input())\n",
    "ori=int(input())\n",
    "gst=(gamt*100)/ori\n",
    "print(gst,\"%\")"
   ]
  },
  {
   "attachments": {},
   "cell_type": "markdown",
   "metadata": {},
   "source": [
    "# 46.Airline Restriction\n",
    "\n",
    "Chef has 3 bags that she wants to take on a flight. They weigh A, B, and C kgs respectively. She wants to check-in exactly two of these bags and carry the remaining one bag with her.\n",
    "\n",
    "The airline restrictions says that the total sum of the weights of the bags that are checked-in cannot exceed  D kgs and the weight of the bag which is carried cannot exceed E kgs. Find if Chef can take all the three bags on the flight."
   ]
  },
  {
   "cell_type": "code",
   "execution_count": null,
   "metadata": {},
   "outputs": [],
   "source": [
    "a=int(input(\"input\"))\n",
    "b=int(input(\"input\"))\n",
    "c=int(input(\"input\"))\n",
    "d=int(input(\"sum of both bags [restriction]\"))\n",
    "e=int(input(\"constraint[restriction]\"))\n",
    "if(a+b<=d  and a+b<=e):\n",
    "    print(\"you can carry a and b bag\")\n",
    "if(b+c<=d   and a+b<=e):\n",
    "    print(\"you can carry b and c bag\")\n",
    "if(c+a<=d   and a+b<=e ):\n",
    "    print(\"you can carry c and a bag\")\n",
    "\n"
   ]
  },
  {
   "attachments": {},
   "cell_type": "markdown",
   "metadata": {},
   "source": [
    "# 47.Weight Problem:\n",
    "    \n",
    "No play and eating all day makes your belly fat. This happened to Chef during the lockdown. His weight before the lockdown was \n",
    "w1 kg (measured on the most accurate hospital machine) and after M months of lockdown, when he measured his weight at home (on a regular scale, which can be inaccurate), he got the result that his weight was \n",
    "w2 kg w2>w1. Scientific research in all growing kids shows that their weights increase by a value between x1 and x2kg (inclusive) per month, but not necessarily the same value each month. Chef assumes that he is a growing kid. Tell him whether his home scale could be giving correct results."
   ]
  },
  {
   "cell_type": "code",
   "execution_count": null,
   "metadata": {},
   "outputs": [],
   "source": []
  }
 ],
 "metadata": {
  "kernelspec": {
   "display_name": "Python 3",
   "language": "python",
   "name": "python3"
  },
  "language_info": {
   "codemirror_mode": {
    "name": "ipython",
    "version": 3
   },
   "file_extension": ".py",
   "mimetype": "text/x-python",
   "name": "python",
   "nbconvert_exporter": "python",
   "pygments_lexer": "ipython3",
   "version": "-1.-1.-1"
  },
  "orig_nbformat": 4
 },
 "nbformat": 4,
 "nbformat_minor": 2
}
