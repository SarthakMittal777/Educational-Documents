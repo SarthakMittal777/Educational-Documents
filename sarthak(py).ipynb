#Add a key to inventory called 'pocket'.
#Set the value of 'pocket' to be a list consisting of the strings 'seashell', 'strange berry', and 'lint'.
#.sort()the items in the list stored under the 'backpack' key.
#Then .remove('dagger') from the list of items stored under the 'backpack' key.
#Add 50 to the number stored under the 'gold' key.
inventory = {
    'gold' : 500,
    'pouch' : ['flint', 'twine', 'gemstone'],
    'backpack' : ['xylophone','dagger', 'bedroll','bread loaf']
}
# a=list()
# inventory["pocket"]=['seashell', 'strange berry', 'lint']
# print(inventory)
for i,j in inventory.items():
    # j.discard('dagger')
    # # j.sort()
    print(i,j)
    a=j
print(a.sort())
a.remove('dagger')
print(a)
print(inventory)
    




